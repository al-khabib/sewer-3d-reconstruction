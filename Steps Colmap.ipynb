{
 "cells": [
  {
   "cell_type": "markdown",
   "source": [
    "This notebook provides an automated end-to-end pipeline for creating a 3D reconstruction from images using [COLMAP](https://colmap.github.io/)."
   ],
   "metadata": {
    "collapsed": false
   },
   "id": "927cecc7f3f63c81"
  },
  {
   "cell_type": "markdown",
   "source": [
    "#### If you are using Ubuntu or have sudo access"
   ],
   "metadata": {
    "collapsed": false
   },
   "id": "2af1a93d39e77c52"
  },
  {
   "cell_type": "code",
   "outputs": [],
   "source": [
    "!sudo apt update\n",
    "!sudo apt install colmap -y"
   ],
   "metadata": {
    "collapsed": false
   },
   "id": "78f167b54e28d138"
  },
  {
   "cell_type": "markdown",
   "source": [
    "#### For mac users"
   ],
   "metadata": {
    "collapsed": false
   },
   "id": "8ec9a0541c92c557"
  },
  {
   "cell_type": "code",
   "outputs": [],
   "source": [
    "brew install colmap"
   ],
   "metadata": {
    "collapsed": false
   },
   "id": "cdfd45394b229c72"
  },
  {
   "cell_type": "markdown",
   "source": [
    "### Main project folder"
   ],
   "metadata": {
    "collapsed": false
   },
   "id": "362d848c1834243"
  },
  {
   "cell_type": "code",
   "outputs": [],
   "source": [
    "!mkdir -p ~/sewer_reconstruction"
   ],
   "metadata": {
    "collapsed": false
   },
   "id": "45509f1ee8e2e8e3"
  },
  {
   "cell_type": "markdown",
   "source": [
    "#### Images folder where the images should be inputted"
   ],
   "metadata": {
    "collapsed": false
   },
   "id": "28986f4183b305c2"
  },
  {
   "cell_type": "code",
   "outputs": [],
   "source": [
    "! mkdir -p ~/sewer_reconstruction/images"
   ],
   "metadata": {
    "collapsed": false
   },
   "id": "69fb9292747e63f8"
  },
  {
   "cell_type": "markdown",
   "source": [
    "#### Feature Matching - Exhaustive matcher"
   ],
   "metadata": {
    "collapsed": false
   },
   "id": "b370d3a807833b01"
  },
  {
   "cell_type": "code",
   "outputs": [],
   "source": [
    "!colmap exhaustive_matcher \\\n",
    "    --database_path ~/sewer_reconstruction/database.db \\\n",
    "    --SiftMatching.use_gpu 1"
   ],
   "metadata": {
    "collapsed": false
   },
   "id": "e09a7863b7300e0d"
  },
  {
   "cell_type": "markdown",
   "source": [
    "#### Folder for Sparse reconstruction"
   ],
   "metadata": {
    "collapsed": false
   },
   "id": "c1c616dcadb2ca34"
  },
  {
   "cell_type": "code",
   "outputs": [],
   "source": [
    "!mkdir -p ~/sewer_reconstruction/sparse"
   ],
   "metadata": {
    "collapsed": false
   },
   "id": "bd83ef1d1e2c018c"
  },
  {
   "cell_type": "markdown",
   "source": [
    "#### Sparse Reconstruction or Mapping"
   ],
   "metadata": {
    "collapsed": false
   },
   "id": "5593a1beb2a1602c"
  },
  {
   "cell_type": "code",
   "outputs": [],
   "source": [
    "!colmap mapper \\\n",
    "    --database_path ~/sewer_reconstruction/database.db \\\n",
    "    --image_path ~/sewer_reconstruction/images \\\n",
    "    --output_path ~/sewer_reconstruction/sparse \\\n",
    "    --Mapper.num_threads 8"
   ],
   "metadata": {
    "collapsed": false
   },
   "id": "82e1162530f79b42"
  },
  {
   "cell_type": "markdown",
   "source": [
    "#### Dense reconstruction folder"
   ],
   "metadata": {
    "collapsed": false
   },
   "id": "43cad78d9a44cf0e"
  },
  {
   "cell_type": "code",
   "outputs": [],
   "source": [
    " !mkdir -p ~/sewer_reconstruction/dense"
   ],
   "metadata": {
    "collapsed": false
   },
   "id": "a4196a709aabd01e"
  },
  {
   "cell_type": "markdown",
   "source": [
    "#### Undistort images"
   ],
   "metadata": {
    "collapsed": false
   },
   "id": "b77267c33571e806"
  },
  {
   "cell_type": "code",
   "outputs": [],
   "source": [
    "!colmap image_undistorter \\\n",
    "    --image_path ~/sewer_reconstruction/images \\\n",
    "    --input_path ~/sewer_reconstruction/sparse/0 \\\n",
    "    --output_path ~/sewer_reconstruction/dense \\\n",
    "    --output_type COLMAP"
   ],
   "metadata": {
    "collapsed": false
   },
   "id": "9d17ae45de3f70d5"
  },
  {
   "cell_type": "markdown",
   "source": [
    "#### Dense stereo matching"
   ],
   "metadata": {
    "collapsed": false
   },
   "id": "95890ca02209bcdd"
  },
  {
   "cell_type": "code",
   "outputs": [],
   "source": [
    "!colmap patch_match_stereo \\\n",
    "    --workspace_path ~/sewer_reconstruction/dense \\\n",
    "    --workspace_format COLMAP \\\n",
    "    --PatchMatchStereo.geom_consistency true"
   ],
   "metadata": {
    "collapsed": false
   },
   "id": "47f6d89c2aacd9d1"
  },
  {
   "cell_type": "markdown",
   "source": [
    "#### Stereo fusion - point cloud"
   ],
   "metadata": {
    "collapsed": false
   },
   "id": "2017d60a9beeda7f"
  },
  {
   "cell_type": "code",
   "outputs": [],
   "source": [
    "!colmap stereo_fusion \\\n",
    "    --workspace_path ~/sewer_reconstruction/dense \\\n",
    "    --workspace_format COLMAP \\\n",
    "    --input_type geometric \\\n",
    "    --output_path ~/sewer_reconstruction/dense/fused.ply"
   ],
   "metadata": {
    "collapsed": false
   },
   "id": "3c24f0c6836f98ae"
  },
  {
   "cell_type": "markdown",
   "source": [
    "#### Mesh reconstruction or Poisson Meshing"
   ],
   "metadata": {
    "collapsed": false
   },
   "id": "a3cf0e1b3ebf08"
  },
  {
   "cell_type": "code",
   "outputs": [],
   "source": [
    "!colmap poisson_mesher \\\n",
    "    --input_path ~/sewer_reconstruction/dense/fused.ply \\\n",
    "    --output_path ~/sewer_reconstruction/dense/poisson_mesh.ply"
   ],
   "metadata": {
    "collapsed": false
   },
   "id": "7f5c01e1fbc0cfc1"
  }
 ],
 "metadata": {
  "kernelspec": {
   "display_name": "Python 3",
   "language": "python",
   "name": "python3"
  },
  "language_info": {
   "codemirror_mode": {
    "name": "ipython",
    "version": 2
   },
   "file_extension": ".py",
   "mimetype": "text/x-python",
   "name": "python",
   "nbconvert_exporter": "python",
   "pygments_lexer": "ipython2",
   "version": "2.7.6"
  }
 },
 "nbformat": 4,
 "nbformat_minor": 5
}
