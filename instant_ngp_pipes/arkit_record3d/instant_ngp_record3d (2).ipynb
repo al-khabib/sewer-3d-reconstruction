{
  "cells": [
    {
      "cell_type": "markdown",
      "metadata": {
        "id": "-fAjMk8jDvp5"
      },
      "source": [
        "# Instant-ngp\n",
        "\n",
        "This notebook aims to be a step-by-step guide to train NeRF models and rendering videos from them with nvidia's [instant-ngp](https://github.com/NVlabs/instant-ngp) software using:\n",
        " * **Colab** for the heavy lifting.\n",
        " * A low-resource **local computer** for the steps that require having a graphical user interface (GUI).\n",
        " * **Record3D** for robust camera pose estimation (alternative to COLMAP).\n",
        "\n",
        "It has been tested on a GTX 1050ti in the local machine and an assigned Tesla T4 in the remote one.\n",
        "\n",
        "Based on this [notebook](https://colab.research.google.com/drive/10TgQ4gyVejlHiinrmm5XOvQQmgVziK3i?usp=sharing) by [@myagues](https://github.com/NVlabs/instant-ngp/issues/6#issuecomment-1016397579), the main differences being the addition of steps 3 and 4 to ensure compatibility between the local machine and the models trained in the remote machine, of step 10 to render a video from the scene, Record3D support for better pose estimation, and a more guided approach."
      ]
    },
    {
      "cell_type": "markdown",
      "metadata": {
        "id": "SxsmRf03DFYe"
      },
      "source": [
        "## 1.Connect to a GPU runtime"
      ]
    },
    {
      "cell_type": "markdown",
      "metadata": {
        "id": "NyjFWI3WDPBr"
      },
      "source": [
        "Connect your colab session to a GPU runtime and check that you have been assigned a GPU. It should have a minimum of 8GB of available memory."
      ]
    },
    {
      "cell_type": "code",
      "execution_count": null,
      "metadata": {
        "colab": {
          "base_uri": "https://localhost:8080/"
        },
        "id": "QJC-0GitoJEh",
        "outputId": "2960a1a1-e2d2-4c5a-99bf-aa2127e50e12"
      },
      "outputs": [
        {
          "output_type": "stream",
          "name": "stdout",
          "text": [
            "Mon Jun 16 21:14:59 2025       \n",
            "+-----------------------------------------------------------------------------------------+\n",
            "| NVIDIA-SMI 550.54.15              Driver Version: 550.54.15      CUDA Version: 12.4     |\n",
            "|-----------------------------------------+------------------------+----------------------+\n",
            "| GPU  Name                 Persistence-M | Bus-Id          Disp.A | Volatile Uncorr. ECC |\n",
            "| Fan  Temp   Perf          Pwr:Usage/Cap |           Memory-Usage | GPU-Util  Compute M. |\n",
            "|                                         |                        |               MIG M. |\n",
            "|=========================================+========================+======================|\n",
            "|   0  Tesla T4                       Off |   00000000:00:04.0 Off |                    0 |\n",
            "| N/A   35C    P8              9W /   70W |       0MiB /  15360MiB |      0%      Default |\n",
            "|                                         |                        |                  N/A |\n",
            "+-----------------------------------------+------------------------+----------------------+\n",
            "                                                                                         \n",
            "+-----------------------------------------------------------------------------------------+\n",
            "| Processes:                                                                              |\n",
            "|  GPU   GI   CI        PID   Type   Process name                              GPU Memory |\n",
            "|        ID   ID                                                               Usage      |\n",
            "|=========================================================================================|\n",
            "|  No running processes found                                                             |\n",
            "+-----------------------------------------------------------------------------------------+\n"
          ]
        }
      ],
      "source": [
        "!nvidia-smi"
      ]
    },
    {
      "cell_type": "markdown",
      "metadata": {
        "id": "Da9sDpM-DXps"
      },
      "source": [
        "## 2. Install dependencies and clone the instant-ngp repo"
      ]
    },
    {
      "cell_type": "code",
      "execution_count": null,
      "metadata": {
        "colab": {
          "base_uri": "https://localhost:8080/"
        },
        "id": "yKFsL8wSdQ8Q",
        "outputId": "90081274-2e16-4211-ea7c-91e18aa43e3a"
      },
      "outputs": [
        {
          "output_type": "stream",
          "name": "stdout",
          "text": [
            "\u001b[33m\r0% [Working]\u001b[0m\r            \rGet:1 https://developer.download.nvidia.com/compute/cuda/repos/ubuntu2204/x86_64  InRelease [1,581 B]\n",
            "Get:2 https://cloud.r-project.org/bin/linux/ubuntu jammy-cran40/ InRelease [3,632 B]\n",
            "Get:3 https://developer.download.nvidia.com/compute/cuda/repos/ubuntu2204/x86_64  Packages [1,778 kB]\n",
            "Hit:4 https://r2u.stat.illinois.edu/ubuntu jammy InRelease\n",
            "Get:5 http://security.ubuntu.com/ubuntu jammy-security InRelease [129 kB]\n",
            "Hit:6 http://archive.ubuntu.com/ubuntu jammy InRelease\n",
            "Get:7 http://archive.ubuntu.com/ubuntu jammy-updates InRelease [128 kB]\n",
            "Get:8 http://archive.ubuntu.com/ubuntu jammy-backports InRelease [127 kB]\n",
            "Get:9 http://security.ubuntu.com/ubuntu jammy-security/universe amd64 Packages [1,250 kB]\n",
            "Get:10 http://archive.ubuntu.com/ubuntu jammy-updates/main amd64 Packages [3,296 kB]\n",
            "Get:11 http://security.ubuntu.com/ubuntu jammy-security/main amd64 Packages [2,986 kB]\n",
            "Hit:12 https://ppa.launchpadcontent.net/deadsnakes/ppa/ubuntu jammy InRelease\n",
            "Get:13 http://archive.ubuntu.com/ubuntu jammy-updates/universe amd64 Packages [1,557 kB]\n",
            "Hit:14 https://ppa.launchpadcontent.net/graphics-drivers/ppa/ubuntu jammy InRelease\n",
            "Hit:15 https://ppa.launchpadcontent.net/ubuntugis/ppa/ubuntu jammy InRelease\n",
            "Fetched 11.3 MB in 2s (5,157 kB/s)\n",
            "Reading package lists... Done\n",
            "Building dependency tree... Done\n",
            "Reading state information... Done\n",
            "42 packages can be upgraded. Run 'apt list --upgradable' to see them.\n",
            "\u001b[1;33mW: \u001b[0mSkipping acquire of configured file 'main/source/Sources' as repository 'https://r2u.stat.illinois.edu/ubuntu jammy InRelease' does not seem to provide it (sources.list entry misspelt?)\u001b[0m\n",
            "Reading package lists... Done\n",
            "Building dependency tree... Done\n",
            "Reading state information... Done\n",
            "build-essential is already the newest version (12.9ubuntu3).\n",
            "libopenexr-dev is already the newest version (2.5.7-1).\n",
            "libopenexr-dev set to manually installed.\n",
            "git is already the newest version (1:2.34.1-1ubuntu1.12).\n",
            "python3-dev is already the newest version (3.10.6-1~22.04.1).\n",
            "python3-dev set to manually installed.\n",
            "ffmpeg is already the newest version (7:4.4.2-0ubuntu0.22.04.1).\n",
            "The following additional packages will be installed:\n",
            "  libegl-dev libegl1-mesa-dev libgl-dev libgl1-mesa-dev libgles-dev libgles1\n",
            "  libglfw3 libglu1-mesa libglu1-mesa-dev libglvnd-core-dev libglvnd-dev\n",
            "  libglx-dev libjq1 libomp-14-dev libomp5-14 libonig5 libopengl-dev\n",
            "  libvulkan-dev libvulkan1 libwayland-bin libwayland-dev libxfixes-dev\n",
            "  libxrandr-dev mesa-vulkan-drivers python3-pkg-resources python3-setuptools\n",
            "  python3-wheel\n",
            "Suggested packages:\n",
            "  libosmesa6 libglfw3-doc libomp-14-doc libwayland-doc python-setuptools-doc\n",
            "The following NEW packages will be installed:\n",
            "  jq libegl-dev libegl1-mesa-dev libgl-dev libgl1-mesa-dev libgles-dev\n",
            "  libgles1 libglew-dev libglfw3 libglfw3-dev libglu1-mesa libglu1-mesa-dev\n",
            "  libglvnd-core-dev libglvnd-dev libglx-dev libjq1 libomp-14-dev libomp-dev\n",
            "  libomp5-14 libonig5 libopengl-dev libvulkan-dev libvulkan1 libwayland-bin\n",
            "  libwayland-dev libxcursor-dev libxfixes-dev libxi-dev libxinerama-dev\n",
            "  libxrandr-dev mesa-vulkan-drivers python3-pip python3-setuptools\n",
            "  python3-wheel\n",
            "The following packages will be upgraded:\n",
            "  python3-pkg-resources\n",
            "1 upgraded, 34 newly installed, 0 to remove and 41 not upgraded.\n",
            "Need to get 16.3 MB of archives.\n",
            "After this operation, 96.7 MB of additional disk space will be used.\n",
            "Get:1 http://archive.ubuntu.com/ubuntu jammy/main amd64 libonig5 amd64 6.9.7.1-2build1 [172 kB]\n",
            "Get:2 http://archive.ubuntu.com/ubuntu jammy/main amd64 libjq1 amd64 1.6-2.1ubuntu3 [133 kB]\n",
            "Get:3 http://archive.ubuntu.com/ubuntu jammy/main amd64 jq amd64 1.6-2.1ubuntu3 [52.5 kB]\n",
            "Get:4 http://archive.ubuntu.com/ubuntu jammy/main amd64 libglx-dev amd64 1.4.0-1 [14.1 kB]\n",
            "Get:5 http://archive.ubuntu.com/ubuntu jammy/main amd64 libgl-dev amd64 1.4.0-1 [101 kB]\n",
            "Get:6 http://archive.ubuntu.com/ubuntu jammy/main amd64 libegl-dev amd64 1.4.0-1 [18.0 kB]\n",
            "Get:7 http://archive.ubuntu.com/ubuntu jammy/main amd64 libglvnd-core-dev amd64 1.4.0-1 [12.7 kB]\n",
            "Get:8 http://archive.ubuntu.com/ubuntu jammy/main amd64 libgles1 amd64 1.4.0-1 [11.5 kB]\n",
            "Get:9 http://archive.ubuntu.com/ubuntu jammy/main amd64 libgles-dev amd64 1.4.0-1 [49.4 kB]\n",
            "Get:10 http://archive.ubuntu.com/ubuntu jammy/main amd64 libopengl-dev amd64 1.4.0-1 [3,400 B]\n",
            "Get:11 http://archive.ubuntu.com/ubuntu jammy/main amd64 libglvnd-dev amd64 1.4.0-1 [3,162 B]\n",
            "Get:12 http://archive.ubuntu.com/ubuntu jammy-updates/main amd64 libegl1-mesa-dev amd64 23.2.1-1ubuntu3.1~22.04.3 [11.1 kB]\n",
            "Get:13 http://archive.ubuntu.com/ubuntu jammy-updates/main amd64 libgl1-mesa-dev amd64 23.2.1-1ubuntu3.1~22.04.3 [6,848 B]\n",
            "Get:14 http://archive.ubuntu.com/ubuntu jammy/main amd64 libglu1-mesa amd64 9.0.2-1 [145 kB]\n",
            "Get:15 http://archive.ubuntu.com/ubuntu jammy/main amd64 libglu1-mesa-dev amd64 9.0.2-1 [231 kB]\n",
            "Get:16 http://archive.ubuntu.com/ubuntu jammy/universe amd64 libglew-dev amd64 2.2.0-4 [287 kB]\n",
            "Get:17 http://archive.ubuntu.com/ubuntu jammy/universe amd64 libglfw3 amd64 3.3.6-1 [83.2 kB]\n",
            "Get:18 https://ppa.launchpadcontent.net/ubuntugis/ppa/ubuntu jammy/main amd64 python3-pkg-resources all 68.1.2-2~jammy3 [216 kB]\n",
            "Get:19 http://archive.ubuntu.com/ubuntu jammy/universe amd64 libglfw3-dev amd64 3.3.6-1 [41.1 kB]\n",
            "Get:20 http://archive.ubuntu.com/ubuntu jammy-updates/universe amd64 libomp5-14 amd64 1:14.0.0-1ubuntu1.1 [389 kB]\n",
            "Get:21 http://archive.ubuntu.com/ubuntu jammy-updates/universe amd64 libomp-14-dev amd64 1:14.0.0-1ubuntu1.1 [347 kB]\n",
            "Get:22 http://archive.ubuntu.com/ubuntu jammy/main amd64 libvulkan1 amd64 1.3.204.1-2 [128 kB]\n",
            "Get:23 http://archive.ubuntu.com/ubuntu jammy/main amd64 libvulkan-dev amd64 1.3.204.1-2 [892 kB]\n",
            "Get:24 http://archive.ubuntu.com/ubuntu jammy/main amd64 libxfixes-dev amd64 1:6.0.0-1 [12.2 kB]\n",
            "Get:25 http://archive.ubuntu.com/ubuntu jammy/main amd64 libxcursor-dev amd64 1:1.2.0-2build4 [28.2 kB]\n",
            "Get:26 http://archive.ubuntu.com/ubuntu jammy/main amd64 libxi-dev amd64 2:1.8-1build1 [193 kB]\n",
            "Get:27 http://archive.ubuntu.com/ubuntu jammy/main amd64 libxinerama-dev amd64 2:1.1.4-3 [8,104 B]\n",
            "Get:28 http://archive.ubuntu.com/ubuntu jammy/main amd64 libxrandr-dev amd64 2:1.5.2-1build1 [26.7 kB]\n",
            "Get:29 http://archive.ubuntu.com/ubuntu jammy-updates/main amd64 mesa-vulkan-drivers amd64 23.2.1-1ubuntu3.1~22.04.3 [10.7 MB]\n",
            "Get:30 http://archive.ubuntu.com/ubuntu jammy-updates/universe amd64 python3-wheel all 0.37.1-2ubuntu0.22.04.1 [32.0 kB]\n",
            "Get:31 http://archive.ubuntu.com/ubuntu jammy-updates/universe amd64 python3-pip all 22.0.2+dfsg-1ubuntu0.5 [1,306 kB]\n",
            "Get:32 http://archive.ubuntu.com/ubuntu jammy/universe amd64 libomp-dev amd64 1:14.0-55~exp2 [3,074 B]\n",
            "Get:33 http://archive.ubuntu.com/ubuntu jammy-updates/main amd64 libwayland-bin amd64 1.20.0-1ubuntu0.1 [20.4 kB]\n",
            "Get:34 http://archive.ubuntu.com/ubuntu jammy-updates/main amd64 libwayland-dev amd64 1.20.0-1ubuntu0.1 [69.5 kB]\n",
            "Get:35 https://ppa.launchpadcontent.net/ubuntugis/ppa/ubuntu jammy/main amd64 python3-setuptools all 68.1.2-2~jammy3 [465 kB]\n",
            "Fetched 16.3 MB in 1s (10.8 MB/s)\n",
            "Extracting templates from packages: 100%\n",
            "Selecting previously unselected package libonig5:amd64.\n",
            "(Reading database ... 126111 files and directories currently installed.)\n",
            "Preparing to unpack .../00-libonig5_6.9.7.1-2build1_amd64.deb ...\n",
            "Unpacking libonig5:amd64 (6.9.7.1-2build1) ...\n",
            "Selecting previously unselected package libjq1:amd64.\n",
            "Preparing to unpack .../01-libjq1_1.6-2.1ubuntu3_amd64.deb ...\n",
            "Unpacking libjq1:amd64 (1.6-2.1ubuntu3) ...\n",
            "Selecting previously unselected package jq.\n",
            "Preparing to unpack .../02-jq_1.6-2.1ubuntu3_amd64.deb ...\n",
            "Unpacking jq (1.6-2.1ubuntu3) ...\n",
            "Selecting previously unselected package libglx-dev:amd64.\n",
            "Preparing to unpack .../03-libglx-dev_1.4.0-1_amd64.deb ...\n",
            "Unpacking libglx-dev:amd64 (1.4.0-1) ...\n",
            "Selecting previously unselected package libgl-dev:amd64.\n",
            "Preparing to unpack .../04-libgl-dev_1.4.0-1_amd64.deb ...\n",
            "Unpacking libgl-dev:amd64 (1.4.0-1) ...\n",
            "Selecting previously unselected package libegl-dev:amd64.\n",
            "Preparing to unpack .../05-libegl-dev_1.4.0-1_amd64.deb ...\n",
            "Unpacking libegl-dev:amd64 (1.4.0-1) ...\n",
            "Selecting previously unselected package libglvnd-core-dev:amd64.\n",
            "Preparing to unpack .../06-libglvnd-core-dev_1.4.0-1_amd64.deb ...\n",
            "Unpacking libglvnd-core-dev:amd64 (1.4.0-1) ...\n",
            "Selecting previously unselected package libgles1:amd64.\n",
            "Preparing to unpack .../07-libgles1_1.4.0-1_amd64.deb ...\n",
            "Unpacking libgles1:amd64 (1.4.0-1) ...\n",
            "Selecting previously unselected package libgles-dev:amd64.\n",
            "Preparing to unpack .../08-libgles-dev_1.4.0-1_amd64.deb ...\n",
            "Unpacking libgles-dev:amd64 (1.4.0-1) ...\n",
            "Selecting previously unselected package libopengl-dev:amd64.\n",
            "Preparing to unpack .../09-libopengl-dev_1.4.0-1_amd64.deb ...\n",
            "Unpacking libopengl-dev:amd64 (1.4.0-1) ...\n",
            "Selecting previously unselected package libglvnd-dev:amd64.\n",
            "Preparing to unpack .../10-libglvnd-dev_1.4.0-1_amd64.deb ...\n",
            "Unpacking libglvnd-dev:amd64 (1.4.0-1) ...\n",
            "Selecting previously unselected package libegl1-mesa-dev:amd64.\n",
            "Preparing to unpack .../11-libegl1-mesa-dev_23.2.1-1ubuntu3.1~22.04.3_amd64.deb ...\n",
            "Unpacking libegl1-mesa-dev:amd64 (23.2.1-1ubuntu3.1~22.04.3) ...\n",
            "Selecting previously unselected package libgl1-mesa-dev:amd64.\n",
            "Preparing to unpack .../12-libgl1-mesa-dev_23.2.1-1ubuntu3.1~22.04.3_amd64.deb ...\n",
            "Unpacking libgl1-mesa-dev:amd64 (23.2.1-1ubuntu3.1~22.04.3) ...\n",
            "Selecting previously unselected package libglu1-mesa:amd64.\n",
            "Preparing to unpack .../13-libglu1-mesa_9.0.2-1_amd64.deb ...\n",
            "Unpacking libglu1-mesa:amd64 (9.0.2-1) ...\n",
            "Selecting previously unselected package libglu1-mesa-dev:amd64.\n",
            "Preparing to unpack .../14-libglu1-mesa-dev_9.0.2-1_amd64.deb ...\n",
            "Unpacking libglu1-mesa-dev:amd64 (9.0.2-1) ...\n",
            "Selecting previously unselected package libglew-dev:amd64.\n",
            "Preparing to unpack .../15-libglew-dev_2.2.0-4_amd64.deb ...\n",
            "Unpacking libglew-dev:amd64 (2.2.0-4) ...\n",
            "Selecting previously unselected package libglfw3:amd64.\n",
            "Preparing to unpack .../16-libglfw3_3.3.6-1_amd64.deb ...\n",
            "Unpacking libglfw3:amd64 (3.3.6-1) ...\n",
            "Selecting previously unselected package libglfw3-dev:amd64.\n",
            "Preparing to unpack .../17-libglfw3-dev_3.3.6-1_amd64.deb ...\n",
            "Unpacking libglfw3-dev:amd64 (3.3.6-1) ...\n",
            "Selecting previously unselected package libomp5-14:amd64.\n",
            "Preparing to unpack .../18-libomp5-14_1%3a14.0.0-1ubuntu1.1_amd64.deb ...\n",
            "Unpacking libomp5-14:amd64 (1:14.0.0-1ubuntu1.1) ...\n",
            "Selecting previously unselected package libomp-14-dev.\n",
            "Preparing to unpack .../19-libomp-14-dev_1%3a14.0.0-1ubuntu1.1_amd64.deb ...\n",
            "Unpacking libomp-14-dev (1:14.0.0-1ubuntu1.1) ...\n",
            "Selecting previously unselected package libvulkan1:amd64.\n",
            "Preparing to unpack .../20-libvulkan1_1.3.204.1-2_amd64.deb ...\n",
            "Unpacking libvulkan1:amd64 (1.3.204.1-2) ...\n",
            "Selecting previously unselected package libvulkan-dev:amd64.\n",
            "Preparing to unpack .../21-libvulkan-dev_1.3.204.1-2_amd64.deb ...\n",
            "Unpacking libvulkan-dev:amd64 (1.3.204.1-2) ...\n",
            "Selecting previously unselected package libxfixes-dev:amd64.\n",
            "Preparing to unpack .../22-libxfixes-dev_1%3a6.0.0-1_amd64.deb ...\n",
            "Unpacking libxfixes-dev:amd64 (1:6.0.0-1) ...\n",
            "Selecting previously unselected package libxcursor-dev:amd64.\n",
            "Preparing to unpack .../23-libxcursor-dev_1%3a1.2.0-2build4_amd64.deb ...\n",
            "Unpacking libxcursor-dev:amd64 (1:1.2.0-2build4) ...\n",
            "Selecting previously unselected package libxi-dev:amd64.\n",
            "Preparing to unpack .../24-libxi-dev_2%3a1.8-1build1_amd64.deb ...\n",
            "Unpacking libxi-dev:amd64 (2:1.8-1build1) ...\n",
            "Selecting previously unselected package libxinerama-dev:amd64.\n",
            "Preparing to unpack .../25-libxinerama-dev_2%3a1.1.4-3_amd64.deb ...\n",
            "Unpacking libxinerama-dev:amd64 (2:1.1.4-3) ...\n",
            "Selecting previously unselected package libxrandr-dev:amd64.\n",
            "Preparing to unpack .../26-libxrandr-dev_2%3a1.5.2-1build1_amd64.deb ...\n",
            "Unpacking libxrandr-dev:amd64 (2:1.5.2-1build1) ...\n",
            "Selecting previously unselected package mesa-vulkan-drivers:amd64.\n",
            "Preparing to unpack .../27-mesa-vulkan-drivers_23.2.1-1ubuntu3.1~22.04.3_amd64.deb ...\n",
            "Unpacking mesa-vulkan-drivers:amd64 (23.2.1-1ubuntu3.1~22.04.3) ...\n",
            "Preparing to unpack .../28-python3-pkg-resources_68.1.2-2~jammy3_all.deb ...\n",
            "Unpacking python3-pkg-resources (68.1.2-2~jammy3) over (59.6.0-1.2ubuntu0.22.04.3) ...\n",
            "Selecting previously unselected package python3-setuptools.\n",
            "Preparing to unpack .../29-python3-setuptools_68.1.2-2~jammy3_all.deb ...\n",
            "Unpacking python3-setuptools (68.1.2-2~jammy3) ...\n",
            "Selecting previously unselected package python3-wheel.\n",
            "Preparing to unpack .../30-python3-wheel_0.37.1-2ubuntu0.22.04.1_all.deb ...\n",
            "Unpacking python3-wheel (0.37.1-2ubuntu0.22.04.1) ...\n",
            "Selecting previously unselected package python3-pip.\n",
            "Preparing to unpack .../31-python3-pip_22.0.2+dfsg-1ubuntu0.5_all.deb ...\n",
            "Unpacking python3-pip (22.0.2+dfsg-1ubuntu0.5) ...\n",
            "Selecting previously unselected package libomp-dev:amd64.\n",
            "Preparing to unpack .../32-libomp-dev_1%3a14.0-55~exp2_amd64.deb ...\n",
            "Unpacking libomp-dev:amd64 (1:14.0-55~exp2) ...\n",
            "Selecting previously unselected package libwayland-bin.\n",
            "Preparing to unpack .../33-libwayland-bin_1.20.0-1ubuntu0.1_amd64.deb ...\n",
            "Unpacking libwayland-bin (1.20.0-1ubuntu0.1) ...\n",
            "Selecting previously unselected package libwayland-dev:amd64.\n",
            "Preparing to unpack .../34-libwayland-dev_1.20.0-1ubuntu0.1_amd64.deb ...\n",
            "Unpacking libwayland-dev:amd64 (1.20.0-1ubuntu0.1) ...\n",
            "Setting up python3-pkg-resources (68.1.2-2~jammy3) ...\n",
            "Setting up libomp5-14:amd64 (1:14.0.0-1ubuntu1.1) ...\n",
            "Setting up libglfw3:amd64 (3.3.6-1) ...\n",
            "Setting up python3-setuptools (68.1.2-2~jammy3) ...\n",
            "Setting up libglvnd-core-dev:amd64 (1.4.0-1) ...\n",
            "Setting up python3-wheel (0.37.1-2ubuntu0.22.04.1) ...\n",
            "Setting up libxfixes-dev:amd64 (1:6.0.0-1) ...\n",
            "Setting up libwayland-bin (1.20.0-1ubuntu0.1) ...\n",
            "Setting up libxrandr-dev:amd64 (2:1.5.2-1build1) ...\n",
            "Setting up libgles1:amd64 (1.4.0-1) ...\n",
            "Setting up libxinerama-dev:amd64 (2:1.1.4-3) ...\n",
            "Setting up python3-pip (22.0.2+dfsg-1ubuntu0.5) ...\n",
            "Setting up libvulkan1:amd64 (1.3.204.1-2) ...\n",
            "Setting up libglx-dev:amd64 (1.4.0-1) ...\n",
            "Setting up libglu1-mesa:amd64 (9.0.2-1) ...\n",
            "Setting up libopengl-dev:amd64 (1.4.0-1) ...\n",
            "Setting up libxi-dev:amd64 (2:1.8-1build1) ...\n",
            "Setting up libomp-14-dev (1:14.0.0-1ubuntu1.1) ...\n",
            "Setting up libgl-dev:amd64 (1.4.0-1) ...\n",
            "Setting up libonig5:amd64 (6.9.7.1-2build1) ...\n",
            "Setting up libomp-dev:amd64 (1:14.0-55~exp2) ...\n",
            "Setting up mesa-vulkan-drivers:amd64 (23.2.1-1ubuntu3.1~22.04.3) ...\n",
            "Setting up libvulkan-dev:amd64 (1.3.204.1-2) ...\n",
            "Setting up libglfw3-dev:amd64 (3.3.6-1) ...\n",
            "Setting up libegl-dev:amd64 (1.4.0-1) ...\n",
            "Setting up libjq1:amd64 (1.6-2.1ubuntu3) ...\n",
            "Setting up libxcursor-dev:amd64 (1:1.2.0-2build4) ...\n",
            "Setting up libwayland-dev:amd64 (1.20.0-1ubuntu0.1) ...\n",
            "Setting up libglu1-mesa-dev:amd64 (9.0.2-1) ...\n",
            "Setting up jq (1.6-2.1ubuntu3) ...\n",
            "Setting up libgles-dev:amd64 (1.4.0-1) ...\n",
            "Setting up libglvnd-dev:amd64 (1.4.0-1) ...\n",
            "Setting up libglew-dev:amd64 (2.2.0-4) ...\n",
            "Setting up libgl1-mesa-dev:amd64 (23.2.1-1ubuntu3.1~22.04.3) ...\n",
            "Setting up libegl1-mesa-dev:amd64 (23.2.1-1ubuntu3.1~22.04.3) ...\n",
            "Processing triggers for man-db (2.10.2-1) ...\n",
            "Processing triggers for libc-bin (2.35-0ubuntu3.8) ...\n",
            "/sbin/ldconfig.real: /usr/local/lib/libumf.so.0 is not a symbolic link\n",
            "\n",
            "/sbin/ldconfig.real: /usr/local/lib/libtbbbind_2_5.so.3 is not a symbolic link\n",
            "\n",
            "/sbin/ldconfig.real: /usr/local/lib/libur_loader.so.0 is not a symbolic link\n",
            "\n",
            "/sbin/ldconfig.real: /usr/local/lib/libtbbmalloc.so.2 is not a symbolic link\n",
            "\n",
            "/sbin/ldconfig.real: /usr/local/lib/libur_adapter_opencl.so.0 is not a symbolic link\n",
            "\n",
            "/sbin/ldconfig.real: /usr/local/lib/libtbb.so.12 is not a symbolic link\n",
            "\n",
            "/sbin/ldconfig.real: /usr/local/lib/libur_adapter_level_zero.so.0 is not a symbolic link\n",
            "\n",
            "/sbin/ldconfig.real: /usr/local/lib/libtcm.so.1 is not a symbolic link\n",
            "\n",
            "/sbin/ldconfig.real: /usr/local/lib/libtbbbind.so.3 is not a symbolic link\n",
            "\n",
            "/sbin/ldconfig.real: /usr/local/lib/libtcm_debug.so.1 is not a symbolic link\n",
            "\n",
            "/sbin/ldconfig.real: /usr/local/lib/libtbbmalloc_proxy.so.2 is not a symbolic link\n",
            "\n",
            "/sbin/ldconfig.real: /usr/local/lib/libtbbbind_2_0.so.3 is not a symbolic link\n",
            "\n",
            "/sbin/ldconfig.real: /usr/local/lib/libhwloc.so.15 is not a symbolic link\n",
            "\n",
            "Requirement already satisfied: cmake in /usr/local/lib/python3.11/dist-packages (3.31.6)\n",
            "Collecting cmake\n",
            "  Downloading cmake-4.0.3-py3-none-manylinux_2_17_x86_64.manylinux2014_x86_64.whl.metadata (6.3 kB)\n",
            "Downloading cmake-4.0.3-py3-none-manylinux_2_17_x86_64.manylinux2014_x86_64.whl (27.9 MB)\n",
            "\u001b[2K   \u001b[90m━━━━━━━━━━━━━━━━━━━━━━━━━━━━━━━━━━━━━━━━\u001b[0m \u001b[32m27.9/27.9 MB\u001b[0m \u001b[31m78.0 MB/s\u001b[0m eta \u001b[36m0:00:00\u001b[0m\n",
            "\u001b[?25hInstalling collected packages: cmake\n",
            "  Attempting uninstall: cmake\n",
            "    Found existing installation: cmake 3.31.6\n",
            "    Uninstalling cmake-3.31.6:\n",
            "      Successfully uninstalled cmake-3.31.6\n",
            "Successfully installed cmake-4.0.3\n"
          ]
        }
      ],
      "source": [
        "!apt update && apt install build-essential git python3-dev python3-pip libopenexr-dev libxi-dev libglfw3-dev libglew-dev libomp-dev libxinerama-dev libxcursor-dev ffmpeg jq\n",
        "!pip install --upgrade cmake"
      ]
    },
    {
      "cell_type": "code",
      "execution_count": null,
      "metadata": {
        "colab": {
          "base_uri": "https://localhost:8080/"
        },
        "id": "ijgdl-TUcxnd",
        "outputId": "97e103bf-95b4-452d-a4b3-0f3670b1c2da"
      },
      "outputs": [
        {
          "output_type": "stream",
          "name": "stdout",
          "text": [
            "Cloning into 'instant-ngp'...\n",
            "remote: Enumerating objects: 4372, done.\u001b[K\n",
            "remote: Counting objects: 100% (35/35), done.\u001b[K\n",
            "remote: Compressing objects: 100% (19/19), done.\u001b[K\n",
            "remote: Total 4372 (delta 17), reused 16 (delta 16), pack-reused 4337 (from 3)\u001b[K\n",
            "Receiving objects: 100% (4372/4372), 187.06 MiB | 33.00 MiB/s, done.\n",
            "Resolving deltas: 100% (2788/2788), done.\n",
            "Submodule 'dependencies/OpenXR-SDK' (https://github.com/KhronosGroup/OpenXR-SDK.git) registered for path 'dependencies/OpenXR-SDK'\n",
            "Submodule 'dependencies/args' (https://github.com/Taywee/args) registered for path 'dependencies/args'\n",
            "Submodule 'dependencies/dlss' (https://github.com/NVIDIA/DLSS) registered for path 'dependencies/dlss'\n",
            "Submodule 'dependencies/glfw' (https://github.com/Tom94/glfw) registered for path 'dependencies/glfw'\n",
            "Submodule 'dependencies/imgui' (https://github.com/ocornut/imgui.git) registered for path 'dependencies/imgui'\n",
            "Submodule 'dependencies/pybind11' (https://github.com/Tom94/pybind11) registered for path 'dependencies/pybind11'\n",
            "Submodule 'dependencies/tiny-cuda-nn' (https://github.com/NVlabs/tiny-cuda-nn) registered for path 'dependencies/tiny-cuda-nn'\n",
            "Submodule 'dependencies/tinylogger' (https://github.com/Tom94/tinylogger) registered for path 'dependencies/tinylogger'\n",
            "Submodule 'dependencies/zlib' (https://github.com/Tom94/zlib) registered for path 'dependencies/zlib'\n",
            "Submodule 'dependencies/zstr' (https://github.com/Tom94/zstr) registered for path 'dependencies/zstr'\n",
            "Cloning into '/content/instant-ngp/dependencies/OpenXR-SDK'...\n",
            "remote: Enumerating objects: 3910, done.        \n",
            "remote: Counting objects: 100% (485/485), done.        \n",
            "remote: Compressing objects: 100% (261/261), done.        \n",
            "remote: Total 3910 (delta 319), reused 237 (delta 220), pack-reused 3425 (from 3)        \n",
            "Receiving objects: 100% (3910/3910), 7.19 MiB | 23.45 MiB/s, done.\n",
            "Resolving deltas: 100% (2352/2352), done.\n",
            "Cloning into '/content/instant-ngp/dependencies/args'...\n",
            "remote: Enumerating objects: 4400, done.        \n",
            "remote: Counting objects: 100% (487/487), done.        \n",
            "remote: Compressing objects: 100% (229/229), done.        \n",
            "remote: Total 4400 (delta 290), reused 423 (delta 251), pack-reused 3913 (from 1)        \n",
            "Receiving objects: 100% (4400/4400), 2.80 MiB | 18.39 MiB/s, done.\n",
            "Resolving deltas: 100% (3620/3620), done.\n",
            "Cloning into '/content/instant-ngp/dependencies/dlss'...\n",
            "remote: Enumerating objects: 564, done.        \n",
            "remote: Counting objects: 100% (31/31), done.        \n",
            "remote: Compressing objects: 100% (19/19), done.        \n",
            "remote: Total 564 (delta 20), reused 12 (delta 12), pack-reused 533 (from 2)        \n",
            "Receiving objects: 100% (564/564), 435.58 MiB | 20.71 MiB/s, done.\n",
            "Resolving deltas: 100% (327/327), done.\n",
            "Cloning into '/content/instant-ngp/dependencies/glfw'...\n",
            "remote: Enumerating objects: 26058, done.        \n",
            "remote: Total 26058 (delta 0), reused 0 (delta 0), pack-reused 26058 (from 1)        \n",
            "Receiving objects: 100% (26058/26058), 12.99 MiB | 23.84 MiB/s, done.\n",
            "Resolving deltas: 100% (18455/18455), done.\n",
            "Cloning into '/content/instant-ngp/dependencies/imgui'...\n",
            "remote: Enumerating objects: 62227, done.        \n",
            "remote: Counting objects: 100% (895/895), done.        \n",
            "remote: Compressing objects: 100% (179/179), done.        \n",
            "remote: Total 62227 (delta 795), reused 720 (delta 716), pack-reused 61332 (from 3)        \n",
            "Receiving objects: 100% (62227/62227), 107.07 MiB | 26.58 MiB/s, done.\n",
            "Resolving deltas: 100% (48515/48515), done.\n",
            "Cloning into '/content/instant-ngp/dependencies/pybind11'...\n",
            "remote: Enumerating objects: 23307, done.        \n",
            "remote: Total 23307 (delta 0), reused 0 (delta 0), pack-reused 23307 (from 1)        \n",
            "Receiving objects: 100% (23307/23307), 10.49 MiB | 26.38 MiB/s, done.\n",
            "Resolving deltas: 100% (16255/16255), done.\n",
            "Cloning into '/content/instant-ngp/dependencies/tiny-cuda-nn'...\n",
            "remote: Enumerating objects: 4179, done.        \n",
            "remote: Counting objects: 100% (1521/1521), done.        \n",
            "remote: Compressing objects: 100% (204/204), done.        \n",
            "remote: Total 4179 (delta 1381), reused 1317 (delta 1317), pack-reused 2658 (from 1)        \n",
            "Receiving objects: 100% (4179/4179), 19.54 MiB | 31.91 MiB/s, done.\n",
            "Resolving deltas: 100% (2689/2689), done.\n",
            "Cloning into '/content/instant-ngp/dependencies/tinylogger'...\n",
            "remote: Enumerating objects: 182, done.        \n",
            "remote: Counting objects: 100% (31/31), done.        \n",
            "remote: Compressing objects: 100% (15/15), done.        \n",
            "remote: Total 182 (delta 14), reused 26 (delta 11), pack-reused 151 (from 1)        \n",
            "Receiving objects: 100% (182/182), 32.47 KiB | 4.06 MiB/s, done.\n",
            "Resolving deltas: 100% (86/86), done.\n",
            "Cloning into '/content/instant-ngp/dependencies/zlib'...\n",
            "remote: Enumerating objects: 4940, done.        \n",
            "remote: Counting objects: 100% (1/1), done.        \n",
            "remote: Total 4940 (delta 0), reused 0 (delta 0), pack-reused 4939 (from 1)        \n",
            "Receiving objects: 100% (4940/4940), 2.63 MiB | 22.41 MiB/s, done.\n",
            "Resolving deltas: 100% (3442/3442), done.\n",
            "Cloning into '/content/instant-ngp/dependencies/zstr'...\n",
            "remote: Enumerating objects: 473, done.        \n",
            "remote: Counting objects: 100% (195/195), done.        \n",
            "remote: Compressing objects: 100% (58/58), done.        \n",
            "remote: Total 473 (delta 154), reused 143 (delta 137), pack-reused 278 (from 1)        \n",
            "Receiving objects: 100% (473/473), 93.59 KiB | 6.68 MiB/s, done.\n",
            "Resolving deltas: 100% (231/231), done.\n",
            "Submodule path 'dependencies/OpenXR-SDK': checked out 'e2da9ce83a4388c9622da328bf48548471261290'\n",
            "Submodule path 'dependencies/args': checked out 'a48e1f880813b367d2354963a58dedbf2b708584'\n",
            "Submodule path 'dependencies/dlss': checked out 'b3559040f968d26b2edbe37e8e3ceda4b8d1275a'\n",
            "Submodule 'NVIDIAImageScaling' (https://github.com/NVIDIAGameWorks/NVIDIAImageScaling) registered for path 'dependencies/dlss/NVIDIAImageScaling'\n",
            "Cloning into '/content/instant-ngp/dependencies/dlss/NVIDIAImageScaling'...\n",
            "remote: Enumerating objects: 744, done.        \n",
            "remote: Counting objects: 100% (6/6), done.        \n",
            "remote: Compressing objects: 100% (4/4), done.        \n",
            "remote: Total 744 (delta 2), reused 2 (delta 2), pack-reused 738 (from 1)        \n",
            "Receiving objects: 100% (744/744), 37.67 MiB | 31.36 MiB/s, done.\n",
            "Resolving deltas: 100% (245/245), done.\n",
            "Submodule path 'dependencies/dlss/NVIDIAImageScaling': checked out '4d3f6f1b421dda208b937f2ac78657c6753efccd'\n",
            "Submodule path 'dependencies/glfw': checked out '71eb7036b47e2733c2f7b4c0010e2ce62557009d'\n",
            "Submodule path 'dependencies/imgui': checked out 'fa2b318dd6190852a6fe7ebc952b6551e93899e0'\n",
            "Submodule path 'dependencies/pybind11': checked out '7a5068336979377fbf4aa66bbaa483c4cb1c76a7'\n",
            "Submodule path 'dependencies/tiny-cuda-nn': checked out '075158a70b87dba8729188a9cadc9411cfa4b71d'\n",
            "Submodule 'dependencies/cutlass' (https://github.com/NVIDIA/cutlass) registered for path 'dependencies/tiny-cuda-nn/dependencies/cutlass'\n",
            "Submodule 'dependencies/fmt' (https://github.com/fmtlib/fmt) registered for path 'dependencies/tiny-cuda-nn/dependencies/fmt'\n",
            "Cloning into '/content/instant-ngp/dependencies/tiny-cuda-nn/dependencies/cutlass'...\n",
            "remote: Enumerating objects: 34158, done.        \n",
            "remote: Counting objects: 100% (104/104), done.        \n",
            "remote: Compressing objects: 100% (56/56), done.        \n",
            "remote: Total 34158 (delta 68), reused 48 (delta 48), pack-reused 34054 (from 3)        \n",
            "Receiving objects: 100% (34158/34158), 52.14 MiB | 28.69 MiB/s, done.\n",
            "Resolving deltas: 100% (25730/25730), done.\n",
            "Cloning into '/content/instant-ngp/dependencies/tiny-cuda-nn/dependencies/fmt'...\n",
            "remote: Enumerating objects: 39710, done.        \n",
            "remote: Counting objects: 100% (240/240), done.        \n",
            "remote: Compressing objects: 100% (108/108), done.        \n",
            "remote: Total 39710 (delta 162), reused 136 (delta 132), pack-reused 39470 (from 3)        \n",
            "Receiving objects: 100% (39710/39710), 16.20 MiB | 22.24 MiB/s, done.\n",
            "Resolving deltas: 100% (26817/26817), done.\n",
            "Submodule path 'dependencies/tiny-cuda-nn/dependencies/cutlass': checked out '1eb6355182a5124639ce9d3ff165732a94ed9a70'\n",
            "Submodule path 'dependencies/tiny-cuda-nn/dependencies/fmt': checked out 'b0c8263cb26ea178d3a5df1b984e1a61ef578950'\n",
            "Submodule path 'dependencies/tinylogger': checked out 'aea07e21a3c0f0590513dd23f2ea7b2271312dfc'\n",
            "Submodule path 'dependencies/zlib': checked out 'fafd714d8b3ce85a6decf566e3b5b611352eadea'\n",
            "Submodule path 'dependencies/zstr': checked out '007f97607865934fb52e08248f152712e428688a'\n",
            "/content/instant-ngp\n"
          ]
        }
      ],
      "source": [
        "!git clone --recursive https://github.com/nvlabs/instant-ngp\n",
        "%cd instant-ngp"
      ]
    },
    {
      "cell_type": "markdown",
      "metadata": {
        "id": "SF4CRM2-rqn1"
      },
      "source": [
        "## 3. Set compute capability\n",
        "Find the compute capability of the GPU in your **local** machine in the following link:\n",
        "https://developer.nvidia.com/cuda-gpus\n",
        "\n",
        "You need this to be able to open your trained models in `testbed` inside your local machine later on, so you can explore them or trace a camera path in order to generate a video from your scene."
      ]
    },
    {
      "cell_type": "code",
      "execution_count": null,
      "metadata": {
        "colab": {
          "base_uri": "https://localhost:8080/"
        },
        "id": "Yf9H-wO0o1Ax",
        "outputId": "8f5fbe1f-0dad-472b-87b2-f793ca6a206b"
      },
      "outputs": [
        {
          "output_type": "stream",
          "name": "stdout",
          "text": [
            "env: TCNN_CUDA_ARCHITECTURES=61\n"
          ]
        }
      ],
      "source": [
        "compute_capability = \"61\" #@param [50, 52, 60, 61, 70, 72, 75, 80, 86, 87]\n",
        "%env TCNN_CUDA_ARCHITECTURES=$compute_capability\n"
      ]
    },
    {
      "cell_type": "markdown",
      "metadata": {
        "id": "X6PLafxjtoc1"
      },
      "source": [
        "## 4. Set the right network configuration\n",
        "For compatibility between the model trained here and the local machine, a network with FP32 or FP16 is chosen.\n",
        "\n",
        "https://docs.nvidia.com/deeplearning/tensorrt/support-matrix/index.html#hardware-precision-matrix"
      ]
    },
    {
      "cell_type": "code",
      "execution_count": null,
      "metadata": {
        "colab": {
          "base_uri": "https://localhost:8080/"
        },
        "id": "KFZAbFtUqQkc",
        "outputId": "6b2ae38a-3d21-4eac-beef-35e3e6307f7d"
      },
      "outputs": [
        {
          "output_type": "stream",
          "name": "stdout",
          "text": [
            "Using CutlassMLP\n",
            "env: NN_CONFIG_PATH=./configs/nerf/base.json\n"
          ]
        }
      ],
      "source": [
        "network_type = \"FullyFusedMLP\" if int(compute_capability) >= 70 else \"CutlassMLP\"\n",
        "print(f\"Using {network_type}\")\n",
        "%env NN_CONFIG_PATH = ./configs/nerf/base.json\n",
        "!jq '.network.otype = \"CutlassMLP\" | .rgb_network.otype = \"CutlassMLP\"' $NN_CONFIG_PATH | sponge $NN_CONFIG_PATH"
      ]
    },
    {
      "cell_type": "markdown",
      "metadata": {
        "id": "P9XhY2souWum"
      },
      "source": [
        "## 5. Build the project and install python requirements"
      ]
    },
    {
      "cell_type": "code",
      "execution_count": null,
      "metadata": {
        "colab": {
          "base_uri": "https://localhost:8080/"
        },
        "id": "B7E55zXYc1gD",
        "outputId": "279a4af8-62c7-4478-b472-109a25d79134"
      },
      "outputs": [
        {
          "output_type": "stream",
          "name": "stdout",
          "text": [
            "-- The C compiler identification is GNU 11.4.0\n",
            "-- The CXX compiler identification is GNU 11.4.0\n",
            "-- The CUDA compiler identification is NVIDIA 12.5.82 with host compiler GNU 11.4.0\n",
            "-- Detecting C compiler ABI info\n",
            "-- Detecting C compiler ABI info - done\n",
            "-- Check for working C compiler: /usr/bin/cc - skipped\n",
            "-- Detecting C compile features\n",
            "-- Detecting C compile features - done\n",
            "-- Detecting CXX compiler ABI info\n",
            "-- Detecting CXX compiler ABI info - done\n",
            "-- Check for working CXX compiler: /usr/bin/c++ - skipped\n",
            "-- Detecting CXX compile features\n",
            "-- Detecting CXX compile features - done\n",
            "-- Detecting CUDA compiler ABI info\n",
            "-- Detecting CUDA compiler ABI info - done\n",
            "-- Check for working CUDA compiler: /usr/local/cuda/bin/nvcc - skipped\n",
            "-- Detecting CUDA compile features\n",
            "-- Detecting CUDA compile features - done\n",
            "-- No release type specified. Setting to 'Release'.\n",
            "-- Obtained CUDA architectures from environment variable TCNN_CUDA_ARCHITECTURES=61\n",
            "-- Targeting CUDA architectures: 61\n",
            "\u001b[33mCMake Warning at dependencies/tiny-cuda-nn/CMakeLists.txt:194 (message):\n",
            "  Fully fused MLPs do not support GPU architectures of 70 or less.  Falling\n",
            "  back to CUTLASS MLPs.  Remove GPU architectures 70 and lower to allow\n",
            "  maximum performance\n",
            "\n",
            "\u001b[0m\n",
            "-- Module support is disabled.\n",
            "-- Version: 9.1.1\n",
            "-- Build type: Release\n",
            "-- Found OpenMP_C: -fopenmp (found version \"4.5\")\n",
            "-- Found OpenMP_CXX: -fopenmp (found version \"4.5\")\n",
            "-- Found OpenMP_CUDA: -fopenmp (found version \"4.5\")\n",
            "-- Found OpenMP: TRUE (found version \"4.5\")\n",
            "-- Found Python: /usr/local/bin/python (found suitable version \"3.11.13\", minimum required is \"3.7\") found components: Interpreter Development Development.Module Development.Embed\n",
            "\u001b[0mCMake Deprecation Warning at dependencies/pybind11/CMakeLists.txt:8 (cmake_minimum_required):\n",
            "  Compatibility with CMake < 3.10 will be removed from a future version of\n",
            "  CMake.\n",
            "\n",
            "  Update the VERSION argument <min> value.  Or, use the <min>...<max> syntax\n",
            "  to tell CMake that the project requires at least <min> but has been updated\n",
            "  to work with policies introduced by <max> or earlier.\n",
            "\n",
            "\u001b[0m\n",
            "-- pybind11 v2.10.1 \n",
            "-- Performing Test HAS_FLTO\n",
            "-- Performing Test HAS_FLTO - Success\n",
            "-- Found ZLIB: /usr/lib/x86_64-linux-gnu/libz.so (found suitable version \"1.2.11\", minimum required is \"1.2.3\")\n",
            "-- zstr - found ZLIB (version: 1.2.11)\n",
            "-- zstr - added INTERFACE target 'zstr::zstr'\n",
            "          includes : /content/instant-ngp/dependencies/zstr/src;/usr/include\n",
            "          libraries: ZLIB::ZLIB\n",
            "          features : cxx_std_11\n",
            "-- Configuring done (8.8s)\n",
            "-- Generating done (0.0s)\n",
            "-- Build files have been written to: /content/instant-ngp/build\n"
          ]
        }
      ],
      "source": [
        "!cmake . -B build -DNGP_BUILD_WITH_GUI=OFF -DCMAKE_POLICY_VERSION_MINIMUM=3.5\n"
      ]
    },
    {
      "cell_type": "code",
      "execution_count": null,
      "metadata": {
        "colab": {
          "base_uri": "https://localhost:8080/"
        },
        "id": "zFGKAyL2zR-s",
        "outputId": "a4afb7c8-ccf5-442c-84a3-6c2f3ba0aebb"
      },
      "outputs": [
        {
          "output_type": "stream",
          "name": "stdout",
          "text": [
            "-- The C compiler identification is GNU 11.4.0\n",
            "-- The CXX compiler identification is GNU 11.4.0\n",
            "-- The CUDA compiler identification is NVIDIA 12.5.82 with host compiler GNU 11.4.0\n",
            "-- Detecting C compiler ABI info\n",
            "-- Detecting C compiler ABI info - done\n",
            "-- Check for working C compiler: /usr/bin/cc - skipped\n",
            "-- Detecting C compile features\n",
            "-- Detecting C compile features - done\n",
            "-- Detecting CXX compiler ABI info\n",
            "-- Detecting CXX compiler ABI info - done\n",
            "-- Check for working CXX compiler: /usr/bin/c++ - skipped\n",
            "-- Detecting CXX compile features\n",
            "-- Detecting CXX compile features - done\n",
            "-- Detecting CUDA compiler ABI info\n",
            "-- Detecting CUDA compiler ABI info - done\n",
            "-- Check for working CUDA compiler: /usr/local/cuda/bin/nvcc - skipped\n",
            "-- Detecting CUDA compile features\n",
            "-- Detecting CUDA compile features - done\n",
            "-- No release type specified. Setting to 'Release'.\n",
            "-- Obtained CUDA architectures from environment variable TCNN_CUDA_ARCHITECTURES=61\n",
            "-- Targeting CUDA architectures: 61\n",
            "\u001b[33mCMake Warning at dependencies/tiny-cuda-nn/CMakeLists.txt:194 (message):\n",
            "  Fully fused MLPs do not support GPU architectures of 70 or less.  Falling\n",
            "  back to CUTLASS MLPs.  Remove GPU architectures 70 and lower to allow\n",
            "  maximum performance\n",
            "\n",
            "\u001b[0m\n",
            "-- Module support is disabled.\n",
            "-- Version: 9.1.1\n",
            "-- Build type: Release\n",
            "-- Found OpenMP_C: -fopenmp (found version \"4.5\")\n",
            "-- Found OpenMP_CXX: -fopenmp (found version \"4.5\")\n",
            "-- Found OpenMP_CUDA: -fopenmp (found version \"4.5\")\n",
            "-- Found OpenMP: TRUE (found version \"4.5\")\n",
            "-- Found Python: /usr/local/bin/python (found suitable version \"3.11.13\", minimum required is \"3.7\") found components: Interpreter Development Development.Module Development.Embed\n",
            "\u001b[0mCMake Deprecation Warning at dependencies/pybind11/CMakeLists.txt:8 (cmake_minimum_required):\n",
            "  Compatibility with CMake < 3.10 will be removed from a future version of\n",
            "  CMake.\n",
            "\n",
            "  Update the VERSION argument <min> value.  Or, use the <min>...<max> syntax\n",
            "  to tell CMake that the project requires at least <min> but has been updated\n",
            "  to work with policies introduced by <max> or earlier.\n",
            "\n",
            "\u001b[0m\n",
            "-- pybind11 v2.10.1 \n",
            "-- Performing Test HAS_FLTO\n",
            "-- Performing Test HAS_FLTO - Success\n",
            "-- Found ZLIB: /usr/lib/x86_64-linux-gnu/libz.so (found suitable version \"1.2.11\", minimum required is \"1.2.3\")\n",
            "-- zstr - found ZLIB (version: 1.2.11)\n",
            "-- zstr - added INTERFACE target 'zstr::zstr'\n",
            "          includes : /content/instant-ngp/dependencies/zstr/src;/usr/include\n",
            "          libraries: ZLIB::ZLIB\n",
            "          features : cxx_std_11\n",
            "-- Configuring done (4.9s)\n",
            "-- Generating done (0.0s)\n",
            "-- Build files have been written to: /content/instant-ngp/build\n"
          ]
        }
      ],
      "source": [
        "# Clean and rebuild if needed\n",
        "!rm -rf build\n",
        "!cmake . -B build -DNGP_BUILD_WITH_GUI=OFF -DCMAKE_POLICY_VERSION_MINIMUM=3.5"
      ]
    },
    {
      "cell_type": "code",
      "execution_count": null,
      "metadata": {
        "colab": {
          "base_uri": "https://localhost:8080/"
        },
        "id": "cpuhlQmJcDPJ",
        "outputId": "1afa4f90-a821-4ff5-c497-deb4473ba149"
      },
      "outputs": [
        {
          "output_type": "stream",
          "name": "stdout",
          "text": [
            "[  2%] \u001b[32mBuilding CUDA object CMakeFiles/optix_program.dir/src/optix/pathescape.ptx\u001b[0m\n",
            "[  5%] \u001b[32mBuilding CXX object dependencies/tiny-cuda-nn/dependencies/fmt/CMakeFiles/fmt.dir/src/format.cc.o\u001b[0m\n",
            "[  8%] \u001b[32mBuilding CUDA object CMakeFiles/optix_program.dir/src/optix/raystab.ptx\u001b[0m\n",
            "[ 10%] \u001b[32mBuilding CUDA object CMakeFiles/optix_program.dir/src/optix/raytrace.ptx\u001b[0m\n",
            "[ 10%] Built target optix_program\n",
            "[ 13%] \u001b[32mBuilding CXX object dependencies/tiny-cuda-nn/dependencies/fmt/CMakeFiles/fmt.dir/src/os.cc.o\u001b[0m\n",
            "[ 16%] \u001b[32m\u001b[1mLinking CXX static library libfmt.a\u001b[0m\n",
            "[ 16%] Built target fmt\n",
            "[ 18%] \u001b[32mBuilding CUDA object dependencies/tiny-cuda-nn/CMakeFiles/tiny-cuda-nn.dir/src/common_host.cu.o\u001b[0m\n",
            "[ 21%] \u001b[32mBuilding CUDA object dependencies/tiny-cuda-nn/CMakeFiles/tiny-cuda-nn.dir/src/cpp_api.cu.o\u001b[0m\n",
            "[ 24%] \u001b[32mBuilding CUDA object dependencies/tiny-cuda-nn/CMakeFiles/tiny-cuda-nn.dir/src/cutlass_mlp.cu.o\u001b[0m\n",
            "[ 27%] \u001b[32mBuilding CUDA object dependencies/tiny-cuda-nn/CMakeFiles/tiny-cuda-nn.dir/src/encoding.cu.o\u001b[0m\n",
            "[ 29%] \u001b[32mBuilding CUDA object dependencies/tiny-cuda-nn/CMakeFiles/tiny-cuda-nn.dir/src/loss.cu.o\u001b[0m\n",
            "[ 32%] \u001b[32mBuilding CUDA object dependencies/tiny-cuda-nn/CMakeFiles/tiny-cuda-nn.dir/src/network.cu.o\u001b[0m\n",
            "[ 35%] \u001b[32mBuilding CUDA object dependencies/tiny-cuda-nn/CMakeFiles/tiny-cuda-nn.dir/src/object.cu.o\u001b[0m\n",
            "[ 37%] \u001b[32mBuilding CUDA object dependencies/tiny-cuda-nn/CMakeFiles/tiny-cuda-nn.dir/src/optimizer.cu.o\u001b[0m\n",
            "[ 40%] \u001b[32mBuilding CUDA object dependencies/tiny-cuda-nn/CMakeFiles/tiny-cuda-nn.dir/src/reduce_sum.cu.o\u001b[0m\n",
            "[ 43%] \u001b[32m\u001b[1mLinking CXX static library libtiny-cuda-nn.a\u001b[0m\n",
            "[ 43%] Built target tiny-cuda-nn\n",
            "[ 45%] \u001b[34m\u001b[1mConverting PTX files to a C header\u001b[0m\n",
            "[ 48%] \u001b[32mBuilding CUDA object CMakeFiles/ngp.dir/src/camera_path.cu.o\u001b[0m\n",
            "[ 51%] \u001b[32mBuilding CUDA object CMakeFiles/ngp.dir/src/common_host.cu.o\u001b[0m\n",
            "[ 54%] \u001b[32mBuilding CUDA object CMakeFiles/ngp.dir/src/marching_cubes.cu.o\u001b[0m\n",
            "[ 56%] \u001b[32mBuilding CUDA object CMakeFiles/ngp.dir/src/nerf_loader.cu.o\u001b[0m\n",
            "[ 59%] \u001b[32mBuilding CUDA object CMakeFiles/ngp.dir/src/render_buffer.cu.o\u001b[0m\n",
            "[ 62%] \u001b[32mBuilding CUDA object CMakeFiles/ngp.dir/src/testbed.cu.o\u001b[0m\n",
            "[ 64%] \u001b[32mBuilding CUDA object CMakeFiles/ngp.dir/src/testbed_image.cu.o\u001b[0m\n",
            "[ 67%] \u001b[32mBuilding CUDA object CMakeFiles/ngp.dir/src/testbed_nerf.cu.o\u001b[0m\n",
            "\u001b[01m\u001b[0m\u001b[01m/content/instant-ngp/src/testbed_nerf.cu(1854)\u001b[0m: \u001b[01;35mwarning\u001b[0m #177-D: variable \u001b[01m\"resolution\"\u001b[0m was declared but never referenced\n",
            "   auto resolution = render_buffer.resolution;\n",
            "        ^\n",
            "\n",
            "\u001b[01;36m\u001b[0m\u001b[01;36mRemark\u001b[0m: The warnings can be suppressed with \"-diag-suppress <warning-number>\"\n",
            "\n",
            "[ 70%] \u001b[32mBuilding CUDA object CMakeFiles/ngp.dir/src/testbed_sdf.cu.o\u001b[0m\n",
            "[ 72%] \u001b[32mBuilding CUDA object CMakeFiles/ngp.dir/src/testbed_volume.cu.o\u001b[0m\n",
            "[ 75%] \u001b[32mBuilding CXX object CMakeFiles/ngp.dir/src/thread_pool.cpp.o\u001b[0m\n",
            "[ 78%] \u001b[32mBuilding CUDA object CMakeFiles/ngp.dir/src/tinyexr_wrapper.cu.o\u001b[0m\n",
            "[ 81%] \u001b[32mBuilding CUDA object CMakeFiles/ngp.dir/src/tinyobj_loader_wrapper.cu.o\u001b[0m\n",
            "[ 83%] \u001b[32mBuilding CUDA object CMakeFiles/ngp.dir/src/triangle_bvh.cu.o\u001b[0m\n",
            "[ 86%] \u001b[32m\u001b[1mLinking CUDA device code CMakeFiles/ngp.dir/cmake_device_link.o\u001b[0m\n",
            "[ 89%] \u001b[32m\u001b[1mLinking CXX static library libngp.a\u001b[0m\n",
            "[ 89%] Built target ngp\n",
            "[ 91%] \u001b[32mBuilding CUDA object CMakeFiles/pyngp.dir/src/python_api.cu.o\u001b[0m\n",
            "[ 94%] \u001b[32mBuilding CUDA object CMakeFiles/instant-ngp.dir/src/main.cu.o\u001b[0m\n",
            "[ 97%] \u001b[32m\u001b[1mLinking CXX executable instant-ngp\u001b[0m\n",
            "[ 97%] Built target instant-ngp\n",
            "/content/instant-ngp/dependencies/tiny-cuda-nn/include/tiny-cuda-nn/vec_pybind11.h: In instantiation of ‘\u001b[01m\u001b[Kbool pybind11::detail::type_caster<tcnn::tvec<T, N>, void>::load(pybind11::handle, bool) [with T = float; unsigned int N = 3]\u001b[m\u001b[K’:\n",
            "\u001b[01m\u001b[K/content/instant-ngp/dependencies/pybind11/include/pybind11/cast.h:1427:47:\u001b[m\u001b[K   required from ‘\u001b[01m\u001b[Kbool pybind11::detail::argument_loader<Args>::load_impl_sequence(pybind11::detail::function_call&, std::index_sequence<Is ...>) [with long unsigned int ...Is = {0, 1}; Args = {const ngp::BoundingBox*, const tcnn::tvec<float, 3, 4>&}; std::index_sequence<Is ...> = std::integer_sequence<long unsigned int, 0, 1>]\u001b[m\u001b[K’\n",
            "\u001b[01m\u001b[K/content/instant-ngp/dependencies/pybind11/include/pybind11/cast.h:1401:64:\u001b[m\u001b[K   required from ‘\u001b[01m\u001b[Kbool pybind11::detail::argument_loader<Args>::load_args(pybind11::detail::function_call&) [with Args = {const ngp::BoundingBox*, const tcnn::tvec<float, 3, 4>&}]\u001b[m\u001b[K’\n",
            "\u001b[01m\u001b[K/content/instant-ngp/dependencies/pybind11/include/pybind11/pybind11.h:228:30:\u001b[m\u001b[K   required from ‘\u001b[01m\u001b[Kvoid pybind11::cpp_function::initialize(Func&&, Return (*)(Args ...), const Extra& ...) [with Func = pybind11::cpp_function::cpp_function<bool, ngp::BoundingBox, const tcnn::tvec<float, 3, 4>&, pybind11::name, pybind11::is_method, pybind11::sibling>(bool (ngp::BoundingBox::*)(const tcnn::tvec<float, 3, 4>&) const, const pybind11::name&, const pybind11::is_method&, const pybind11::sibling&)::<lambda(const ngp::BoundingBox*, const tcnn::tvec<float, 3, 4>&)>; Return = bool; Args = {const ngp::BoundingBox*, const tcnn::tvec<float, 3, 4>&}; Extra = {pybind11::name, pybind11::is_method, pybind11::sibling}]\u001b[m\u001b[K’\n",
            "\u001b[01m\u001b[K/content/instant-ngp/dependencies/pybind11/include/pybind11/pybind11.h:130:11:\u001b[m\u001b[K   required from ‘\u001b[01m\u001b[Kpybind11::cpp_function::cpp_function(Return (Class::*)(Arg ...) const, const Extra& ...) [with Return = bool; Class = ngp::BoundingBox; Arg = {const tcnn::tvec<float, 3, 4>&}; Extra = {pybind11::name, pybind11::is_method, pybind11::sibling}]\u001b[m\u001b[K’\n",
            "\u001b[01m\u001b[K/content/instant-ngp/dependencies/pybind11/include/pybind11/pybind11.h:1558:14:\u001b[m\u001b[K   required from ‘\u001b[01m\u001b[Kpybind11::class_<type_, options>& pybind11::class_<type_, options>::def(const char*, Func&&, const Extra& ...) [with Func = bool (ngp::BoundingBox::*)(const tcnn::tvec<float, 3, 4>&) const; Extra = {}; type_ = ngp::BoundingBox; options = {}]\u001b[m\u001b[K’\n",
            "\u001b[01m\u001b[K/content/instant-ngp/src/python_api.cu:354:193:\u001b[m\u001b[K   required from here\n",
            "\u001b[01m\u001b[K/content/instant-ngp/dependencies/tiny-cuda-nn/include/tiny-cuda-nn/vec_pybind11.h:52:33:\u001b[m\u001b[K \u001b[01;35m\u001b[Kwarning: \u001b[m\u001b[K‘\u001b[01m\u001b[Kpybind11::array_t<T, ExtraFlags>::array_t(pybind11::handle, bool) [with T = float; int ExtraFlags = 16]\u001b[m\u001b[K’ is deprecated: Use array_t<T>::ensure() instead [\u001b[01;35m\u001b[K\u001b]8;;https://gcc.gnu.org/onlinedocs/gcc/Warning-Options.html#index-Wdeprecated-declarations\u0007-Wdeprecated-declarations\u001b]8;;\u0007\u001b[m\u001b[K]\n",
            "   52 |                 array_t<Scalar> \u001b[01;35m\u001b[Kbuf\u001b[m\u001b[K(src, true);\n",
            "      |                                 \u001b[01;35m\u001b[K^~~\u001b[m\u001b[K\n",
            "\u001b[01m\u001b[K/content/instant-ngp/dependencies/pybind11/include/pybind11/numpy.h:1037:1:\u001b[m\u001b[K \u001b[01;36m\u001b[Knote: \u001b[m\u001b[Kdeclared here\n",
            " 1037 | \u001b[01;36m\u001b[K    arr\u001b[m\u001b[Kay_t(handle h, bool is_borrowed) : array(raw_array_t(h.ptr()), stolen_t{}) {\n",
            "      | \u001b[01;36m\u001b[K^\u001b[m\u001b[K   \u001b[01;36m\u001b[K~~~\u001b[m\u001b[K\n",
            "\u001b[01m\u001b[K/content/instant-ngp/dependencies/tiny-cuda-nn/include/tiny-cuda-nn/vec_pybind11.h:53:29:\u001b[m\u001b[K \u001b[01;35m\u001b[Kwarning: \u001b[m\u001b[K‘\u001b[01m\u001b[Kbool pybind11::array::check() const\u001b[m\u001b[K’ is deprecated: Use py::isinstance<py::python_type>(obj) instead [\u001b[01;35m\u001b[K\u001b]8;;https://gcc.gnu.org/onlinedocs/gcc/Warning-Options.html#index-Wdeprecated-declarations\u0007-Wdeprecated-declarations\u001b]8;;\u0007\u001b[m\u001b[K]\n",
            "   53 |                 if \u001b[01;35m\u001b[K(!buf.check\u001b[m\u001b[K()) {\n",
            "      |                    \u001b[01;35m\u001b[K~~~~~~~~~^~\u001b[m\u001b[K\n",
            "\u001b[01m\u001b[K/content/instant-ngp/dependencies/pybind11/include/pybind11/numpy.h:682:385:\u001b[m\u001b[K \u001b[01;36m\u001b[Knote: \u001b[m\u001b[Kdeclared here\n",
            "  682 |     PYBIND11_OBJECT_CVT(array, buffer, detail::npy_api::get().PyArray_Check_, raw_array)\n",
            "      |                                                                                                                                                                                                                                                                                                                                                                                                 \u001b[01;36m\u001b[K^\u001b[m\u001b[K    \n",
            "/content/instant-ngp/dependencies/tiny-cuda-nn/include/tiny-cuda-nn/vec_pybind11.h: In instantiation of ‘\u001b[01m\u001b[Kbool pybind11::detail::type_caster<tcnn::tvec<T, N>, void>::load(pybind11::handle, bool) [with T = int; unsigned int N = 3]\u001b[m\u001b[K’:\n",
            "\u001b[01m\u001b[K/content/instant-ngp/dependencies/pybind11/include/pybind11/cast.h:1427:47:\u001b[m\u001b[K   required from ‘\u001b[01m\u001b[Kbool pybind11::detail::argument_loader<Args>::load_impl_sequence(pybind11::detail::function_call&, std::index_sequence<Is ...>) [with long unsigned int ...Is = {0, 1, 2, 3, 4, 5}; Args = {ngp::Testbed*, const filesystem::path&, tcnn::tvec<int, 3, 4>, ngp::BoundingBox, float, bool}; std::index_sequence<Is ...> = std::integer_sequence<long unsigned int, 0, 1, 2, 3, 4, 5>]\u001b[m\u001b[K’\n",
            "\u001b[01m\u001b[K/content/instant-ngp/dependencies/pybind11/include/pybind11/cast.h:1401:64:\u001b[m\u001b[K   required from ‘\u001b[01m\u001b[Kbool pybind11::detail::argument_loader<Args>::load_args(pybind11::detail::function_call&) [with Args = {ngp::Testbed*, const filesystem::path&, tcnn::tvec<int, 3, 4>, ngp::BoundingBox, float, bool}]\u001b[m\u001b[K’\n",
            "\u001b[01m\u001b[K/content/instant-ngp/dependencies/pybind11/include/pybind11/pybind11.h:228:30:\u001b[m\u001b[K   required from ‘\u001b[01m\u001b[Kvoid pybind11::cpp_function::initialize(Func&&, Return (*)(Args ...), const Extra& ...) [with Func = pybind11::cpp_function::cpp_function<void, ngp::Testbed, const filesystem::path&, tcnn::tvec<int, 3, 4>, ngp::BoundingBox, float, bool, pybind11::name, pybind11::is_method, pybind11::sibling, pybind11::arg, pybind11::arg_v, pybind11::arg_v, pybind11::arg_v, pybind11::arg_v, char [341]>(void (ngp::Testbed::*)(const filesystem::path&, tcnn::tvec<int, 3, 4>, ngp::BoundingBox, float, bool), const pybind11::name&, const pybind11::is_method&, const pybind11::sibling&, const pybind11::arg&, const pybind11::arg_v&, const pybind11::arg_v&, const pybind11::arg_v&, const pybind11::arg_v&, const char (&)[341])::<lambda(ngp::Testbed*, const filesystem::path&, tcnn::tvec<int, 3, 4>, ngp::BoundingBox, float, bool)>; Return = void; Args = {ngp::Testbed*, const filesystem::path&, tcnn::tvec<int, 3, 4>, ngp::BoundingBox, float, bool}; Extra = {pybind11::name, pybind11::is_method, pybind11::sibling, pybind11::arg, pybind11::arg_v, pybind11::arg_v, pybind11::arg_v, pybind11::arg_v, char [341]}]\u001b[m\u001b[K’\n",
            "\u001b[01m\u001b[K/content/instant-ngp/dependencies/pybind11/include/pybind11/pybind11.h:108:11:\u001b[m\u001b[K   required from ‘\u001b[01m\u001b[Kpybind11::cpp_function::cpp_function(Return (Class::*)(Arg ...), const Extra& ...) [with Return = void; Class = ngp::Testbed; Arg = {const filesystem::path&, tcnn::tvec<int, 3, 4>, ngp::BoundingBox, float, bool}; Extra = {pybind11::name, pybind11::is_method, pybind11::sibling, pybind11::arg, pybind11::arg_v, pybind11::arg_v, pybind11::arg_v, pybind11::arg_v, char [341]}]\u001b[m\u001b[K’\n",
            "\u001b[01m\u001b[K/content/instant-ngp/dependencies/pybind11/include/pybind11/pybind11.h:1558:14:\u001b[m\u001b[K   required from ‘\u001b[01m\u001b[Kpybind11::class_<type_, options>& pybind11::class_<type_, options>::def(const char*, Func&&, const Extra& ...) [with Func = void (ngp::Testbed::*)(const filesystem::path&, tcnn::tvec<int, 3, 4>, ngp::BoundingBox, float, bool); Extra = {pybind11::arg, pybind11::arg_v, pybind11::arg_v, pybind11::arg_v, pybind11::arg_v, char [341]}; type_ = ngp::Testbed; options = {}]\u001b[m\u001b[K’\n",
            "\u001b[01m\u001b[K/content/instant-ngp/src/python_api.cu:383:0:\u001b[m\u001b[K   required from here\n",
            "\u001b[01m\u001b[K/content/instant-ngp/dependencies/tiny-cuda-nn/include/tiny-cuda-nn/vec_pybind11.h:52:33:\u001b[m\u001b[K \u001b[01;35m\u001b[Kwarning: \u001b[m\u001b[K‘\u001b[01m\u001b[Kpybind11::array_t<T, ExtraFlags>::array_t(pybind11::handle, bool) [with T = int; int ExtraFlags = 16]\u001b[m\u001b[K’ is deprecated: Use array_t<T>::ensure() instead [\u001b[01;35m\u001b[K\u001b]8;;https://gcc.gnu.org/onlinedocs/gcc/Warning-Options.html#index-Wdeprecated-declarations\u0007-Wdeprecated-declarations\u001b]8;;\u0007\u001b[m\u001b[K]\n",
            "   52 |                 array_t<Scalar> \u001b[01;35m\u001b[Kbuf\u001b[m\u001b[K(src, true);\n",
            "      |                                 \u001b[01;35m\u001b[K^~~\u001b[m\u001b[K\n",
            "\u001b[01m\u001b[K/content/instant-ngp/dependencies/pybind11/include/pybind11/numpy.h:1037:1:\u001b[m\u001b[K \u001b[01;36m\u001b[Knote: \u001b[m\u001b[Kdeclared here\n",
            " 1037 | \u001b[01;36m\u001b[K    arr\u001b[m\u001b[Kay_t(handle h, bool is_borrowed) : array(raw_array_t(h.ptr()), stolen_t{}) {\n",
            "      | \u001b[01;36m\u001b[K^\u001b[m\u001b[K   \u001b[01;36m\u001b[K~~~\u001b[m\u001b[K\n",
            "\u001b[01m\u001b[K/content/instant-ngp/dependencies/tiny-cuda-nn/include/tiny-cuda-nn/vec_pybind11.h:53:29:\u001b[m\u001b[K \u001b[01;35m\u001b[Kwarning: \u001b[m\u001b[K‘\u001b[01m\u001b[Kbool pybind11::array::check() const\u001b[m\u001b[K’ is deprecated: Use py::isinstance<py::python_type>(obj) instead [\u001b[01;35m\u001b[K\u001b]8;;https://gcc.gnu.org/onlinedocs/gcc/Warning-Options.html#index-Wdeprecated-declarations\u0007-Wdeprecated-declarations\u001b]8;;\u0007\u001b[m\u001b[K]\n",
            "   53 |                 if \u001b[01;35m\u001b[K(!buf.check\u001b[m\u001b[K()) {\n",
            "      |                    \u001b[01;35m\u001b[K~~~~~~~~~^~\u001b[m\u001b[K\n",
            "\u001b[01m\u001b[K/content/instant-ngp/dependencies/pybind11/include/pybind11/numpy.h:682:385:\u001b[m\u001b[K \u001b[01;36m\u001b[Knote: \u001b[m\u001b[Kdeclared here\n",
            "  682 |     PYBIND11_OBJECT_CVT(array, buffer, detail::npy_api::get().PyArray_Check_, raw_array)\n",
            "      |                                                                                                                                                                                                                                                                                                                                                                                                 \u001b[01;36m\u001b[K^\u001b[m\u001b[K    \n",
            "/content/instant-ngp/dependencies/tiny-cuda-nn/include/tiny-cuda-nn/vec_pybind11.h: In instantiation of ‘\u001b[01m\u001b[Kbool pybind11::detail::type_caster<tcnn::tvec<T, N>, void>::load(pybind11::handle, bool) [with T = float; unsigned int N = 4]\u001b[m\u001b[K’:\n",
            "\u001b[01m\u001b[K/content/instant-ngp/dependencies/pybind11/include/pybind11/cast.h:1427:47:\u001b[m\u001b[K   required from ‘\u001b[01m\u001b[Kbool pybind11::detail::argument_loader<Args>::load_impl_sequence(pybind11::detail::function_call&, std::index_sequence<Is ...>) [with long unsigned int ...Is = {0, 1}; Args = {ngp::Testbed&, const tcnn::tvec<float, 4, 4>&}; std::index_sequence<Is ...> = std::integer_sequence<long unsigned int, 0, 1>]\u001b[m\u001b[K’\n",
            "\u001b[01m\u001b[K/content/instant-ngp/dependencies/pybind11/include/pybind11/cast.h:1401:64:\u001b[m\u001b[K   required from ‘\u001b[01m\u001b[Kbool pybind11::detail::argument_loader<Args>::load_args(pybind11::detail::function_call&) [with Args = {ngp::Testbed&, const tcnn::tvec<float, 4, 4>&}]\u001b[m\u001b[K’\n",
            "\u001b[01m\u001b[K/content/instant-ngp/dependencies/pybind11/include/pybind11/pybind11.h:228:30:\u001b[m\u001b[K   required from ‘\u001b[01m\u001b[Kvoid pybind11::cpp_function::initialize(Func&&, Return (*)(Args ...), const Extra& ...) [with Func = pybind11::class_<ngp::Testbed>::def_readwrite<ngp::Testbed, tcnn::tvec<float, 4, 4> >(const char*, tcnn::tvec<float, 4, 4> ngp::Testbed::*)::<lambda(pybind11::class_<ngp::Testbed>::type&, const tcnn::tvec<float, 4, 4>&)>; Return = void; Args = {ngp::Testbed&, const tcnn::tvec<float, 4, 4>&}; Extra = {pybind11::is_method}]\u001b[m\u001b[K’\n",
            "\u001b[01m\u001b[K/content/instant-ngp/dependencies/pybind11/include/pybind11/pybind11.h:100:11:\u001b[m\u001b[K   required from ‘\u001b[01m\u001b[Kpybind11::cpp_function::cpp_function(Func&&, const Extra& ...) [with Func = pybind11::class_<ngp::Testbed>::def_readwrite<ngp::Testbed, tcnn::tvec<float, 4, 4> >(const char*, tcnn::tvec<float, 4, 4> ngp::Testbed::*)::<lambda(pybind11::class_<ngp::Testbed>::type&, const tcnn::tvec<float, 4, 4>&)>; Extra = {pybind11::is_method}; <template-parameter-1-3> = void]\u001b[m\u001b[K’\n",
            "\u001b[01m\u001b[K/content/instant-ngp/dependencies/pybind11/include/pybind11/pybind11.h:1657:1:\u001b[m\u001b[K   required from ‘\u001b[01m\u001b[Kpybind11::class_<type_, options>& pybind11::class_<type_, options>::def_readwrite(const char*, D C::*, const Extra& ...) [with C = ngp::Testbed; D = tcnn::tvec<float, 4, 4>; Extra = {}; type_ = ngp::Testbed; options = {}]\u001b[m\u001b[K’\n",
            "\u001b[01m\u001b[K/content/instant-ngp/src/python_api.cu:383:0:\u001b[m\u001b[K   required from here\n",
            "\u001b[01m\u001b[K/content/instant-ngp/dependencies/tiny-cuda-nn/include/tiny-cuda-nn/vec_pybind11.h:52:33:\u001b[m\u001b[K \u001b[01;35m\u001b[Kwarning: \u001b[m\u001b[K‘\u001b[01m\u001b[Kpybind11::array_t<T, ExtraFlags>::array_t(pybind11::handle, bool) [with T = float; int ExtraFlags = 16]\u001b[m\u001b[K’ is deprecated: Use array_t<T>::ensure() instead [\u001b[01;35m\u001b[K\u001b]8;;https://gcc.gnu.org/onlinedocs/gcc/Warning-Options.html#index-Wdeprecated-declarations\u0007-Wdeprecated-declarations\u001b]8;;\u0007\u001b[m\u001b[K]\n",
            "   52 |                 array_t<Scalar> \u001b[01;35m\u001b[Kbuf\u001b[m\u001b[K(src, true);\n",
            "      |                                 \u001b[01;35m\u001b[K^~~\u001b[m\u001b[K\n",
            "\u001b[01m\u001b[K/content/instant-ngp/dependencies/pybind11/include/pybind11/numpy.h:1037:1:\u001b[m\u001b[K \u001b[01;36m\u001b[Knote: \u001b[m\u001b[Kdeclared here\n",
            " 1037 | \u001b[01;36m\u001b[K    arr\u001b[m\u001b[Kay_t(handle h, bool is_borrowed) : array(raw_array_t(h.ptr()), stolen_t{}) {\n",
            "      | \u001b[01;36m\u001b[K^\u001b[m\u001b[K   \u001b[01;36m\u001b[K~~~\u001b[m\u001b[K\n",
            "\u001b[01m\u001b[K/content/instant-ngp/dependencies/tiny-cuda-nn/include/tiny-cuda-nn/vec_pybind11.h:53:29:\u001b[m\u001b[K \u001b[01;35m\u001b[Kwarning: \u001b[m\u001b[K‘\u001b[01m\u001b[Kbool pybind11::array::check() const\u001b[m\u001b[K’ is deprecated: Use py::isinstance<py::python_type>(obj) instead [\u001b[01;35m\u001b[K\u001b]8;;https://gcc.gnu.org/onlinedocs/gcc/Warning-Options.html#index-Wdeprecated-declarations\u0007-Wdeprecated-declarations\u001b]8;;\u0007\u001b[m\u001b[K]\n",
            "   53 |                 if \u001b[01;35m\u001b[K(!buf.check\u001b[m\u001b[K()) {\n",
            "      |                    \u001b[01;35m\u001b[K~~~~~~~~~^~\u001b[m\u001b[K\n",
            "\u001b[01m\u001b[K/content/instant-ngp/dependencies/pybind11/include/pybind11/numpy.h:682:385:\u001b[m\u001b[K \u001b[01;36m\u001b[Knote: \u001b[m\u001b[Kdeclared here\n",
            "  682 |     PYBIND11_OBJECT_CVT(array, buffer, detail::npy_api::get().PyArray_Check_, raw_array)\n",
            "      |                                                                                                                                                                                                                                                                                                                                                                                                 \u001b[01;36m\u001b[K^\u001b[m\u001b[K    \n",
            "/content/instant-ngp/dependencies/tiny-cuda-nn/include/tiny-cuda-nn/vec_pybind11.h: In instantiation of ‘\u001b[01m\u001b[Kbool pybind11::detail::type_caster<tcnn::tmat<T, N, M>, void>::load(pybind11::handle, bool) [with T = float; unsigned int N = 3; unsigned int M = 3]\u001b[m\u001b[K’:\n",
            "\u001b[01m\u001b[K/content/instant-ngp/dependencies/pybind11/include/pybind11/cast.h:1427:47:\u001b[m\u001b[K   required from ‘\u001b[01m\u001b[Kbool pybind11::detail::argument_loader<Args>::load_impl_sequence(pybind11::detail::function_call&, std::index_sequence<Is ...>) [with long unsigned int ...Is = {0, 1}; Args = {ngp::Testbed&, const tcnn::tmat<float, 3, 3>&}; std::index_sequence<Is ...> = std::integer_sequence<long unsigned int, 0, 1>]\u001b[m\u001b[K’\n",
            "\u001b[01m\u001b[K/content/instant-ngp/dependencies/pybind11/include/pybind11/cast.h:1401:64:\u001b[m\u001b[K   required from ‘\u001b[01m\u001b[Kbool pybind11::detail::argument_loader<Args>::load_args(pybind11::detail::function_call&) [with Args = {ngp::Testbed&, const tcnn::tmat<float, 3, 3>&}]\u001b[m\u001b[K’\n",
            "\u001b[01m\u001b[K/content/instant-ngp/dependencies/pybind11/include/pybind11/pybind11.h:228:30:\u001b[m\u001b[K   required from ‘\u001b[01m\u001b[Kvoid pybind11::cpp_function::initialize(Func&&, Return (*)(Args ...), const Extra& ...) [with Func = pybind11::class_<ngp::Testbed>::def_readwrite<ngp::Testbed, tcnn::tmat<float, 3, 3> >(const char*, tcnn::tmat<float, 3, 3> ngp::Testbed::*)::<lambda(pybind11::class_<ngp::Testbed>::type&, const tcnn::tmat<float, 3, 3>&)>; Return = void; Args = {ngp::Testbed&, const tcnn::tmat<float, 3, 3>&}; Extra = {pybind11::is_method}]\u001b[m\u001b[K’\n",
            "\u001b[01m\u001b[K/content/instant-ngp/dependencies/pybind11/include/pybind11/pybind11.h:100:11:\u001b[m\u001b[K   required from ‘\u001b[01m\u001b[Kpybind11::cpp_function::cpp_function(Func&&, const Extra& ...) [with Func = pybind11::class_<ngp::Testbed>::def_readwrite<ngp::Testbed, tcnn::tmat<float, 3, 3> >(const char*, tcnn::tmat<float, 3, 3> ngp::Testbed::*)::<lambda(pybind11::class_<ngp::Testbed>::type&, const tcnn::tmat<float, 3, 3>&)>; Extra = {pybind11::is_method}; <template-parameter-1-3> = void]\u001b[m\u001b[K’\n",
            "\u001b[01m\u001b[K/content/instant-ngp/dependencies/pybind11/include/pybind11/pybind11.h:1657:1:\u001b[m\u001b[K   required from ‘\u001b[01m\u001b[Kpybind11::class_<type_, options>& pybind11::class_<type_, options>::def_readwrite(const char*, D C::*, const Extra& ...) [with C = ngp::Testbed; D = tcnn::tmat<float, 3, 3>; Extra = {}; type_ = ngp::Testbed; options = {}]\u001b[m\u001b[K’\n",
            "\u001b[01m\u001b[K/content/instant-ngp/src/python_api.cu:383:0:\u001b[m\u001b[K   required from here\n",
            "\u001b[01m\u001b[K/content/instant-ngp/dependencies/tiny-cuda-nn/include/tiny-cuda-nn/vec_pybind11.h:91:33:\u001b[m\u001b[K \u001b[01;35m\u001b[Kwarning: \u001b[m\u001b[K‘\u001b[01m\u001b[Kpybind11::array_t<T, ExtraFlags>::array_t(pybind11::handle, bool) [with T = float; int ExtraFlags = 16]\u001b[m\u001b[K’ is deprecated: Use array_t<T>::ensure() instead [\u001b[01;35m\u001b[K\u001b]8;;https://gcc.gnu.org/onlinedocs/gcc/Warning-Options.html#index-Wdeprecated-declarations\u0007-Wdeprecated-declarations\u001b]8;;\u0007\u001b[m\u001b[K]\n",
            "   91 |                 array_t<Scalar> \u001b[01;35m\u001b[Kbuf\u001b[m\u001b[K(src, true);\n",
            "      |                                 \u001b[01;35m\u001b[K^~~\u001b[m\u001b[K\n",
            "\u001b[01m\u001b[K/content/instant-ngp/dependencies/pybind11/include/pybind11/numpy.h:1037:1:\u001b[m\u001b[K \u001b[01;36m\u001b[Knote: \u001b[m\u001b[Kdeclared here\n",
            " 1037 | \u001b[01;36m\u001b[K    arr\u001b[m\u001b[Kay_t(handle h, bool is_borrowed) : array(raw_array_t(h.ptr()), stolen_t{}) {\n",
            "      | \u001b[01;36m\u001b[K^\u001b[m\u001b[K   \u001b[01;36m\u001b[K~~~\u001b[m\u001b[K\n",
            "\u001b[01m\u001b[K/content/instant-ngp/dependencies/tiny-cuda-nn/include/tiny-cuda-nn/vec_pybind11.h:92:29:\u001b[m\u001b[K \u001b[01;35m\u001b[Kwarning: \u001b[m\u001b[K‘\u001b[01m\u001b[Kbool pybind11::array::check() const\u001b[m\u001b[K’ is deprecated: Use py::isinstance<py::python_type>(obj) instead [\u001b[01;35m\u001b[K\u001b]8;;https://gcc.gnu.org/onlinedocs/gcc/Warning-Options.html#index-Wdeprecated-declarations\u0007-Wdeprecated-declarations\u001b]8;;\u0007\u001b[m\u001b[K]\n",
            "   92 |                 if \u001b[01;35m\u001b[K(!buf.check\u001b[m\u001b[K()) {\n",
            "      |                    \u001b[01;35m\u001b[K~~~~~~~~~^~\u001b[m\u001b[K\n",
            "\u001b[01m\u001b[K/content/instant-ngp/dependencies/pybind11/include/pybind11/numpy.h:682:385:\u001b[m\u001b[K \u001b[01;36m\u001b[Knote: \u001b[m\u001b[Kdeclared here\n",
            "  682 |     PYBIND11_OBJECT_CVT(array, buffer, detail::npy_api::get().PyArray_Check_, raw_array)\n",
            "      |                                                                                                                                                                                                                                                                                                                                                                                                 \u001b[01;36m\u001b[K^\u001b[m\u001b[K    \n",
            "/content/instant-ngp/dependencies/tiny-cuda-nn/include/tiny-cuda-nn/vec_pybind11.h: In instantiation of ‘\u001b[01m\u001b[Kbool pybind11::detail::type_caster<tcnn::tvec<T, N>, void>::load(pybind11::handle, bool) [with T = float; unsigned int N = 2]\u001b[m\u001b[K’:\n",
            "\u001b[01m\u001b[K/content/instant-ngp/dependencies/pybind11/include/pybind11/cast.h:1427:47:\u001b[m\u001b[K   required from ‘\u001b[01m\u001b[Kbool pybind11::detail::argument_loader<Args>::load_impl_sequence(pybind11::detail::function_call&, std::index_sequence<Is ...>) [with long unsigned int ...Is = {0, 1}; Args = {ngp::Testbed*, const tcnn::tvec<float, 2, 4>&}; std::index_sequence<Is ...> = std::integer_sequence<long unsigned int, 0, 1>]\u001b[m\u001b[K’\n",
            "\u001b[01m\u001b[K/content/instant-ngp/dependencies/pybind11/include/pybind11/cast.h:1401:64:\u001b[m\u001b[K   required from ‘\u001b[01m\u001b[Kbool pybind11::detail::argument_loader<Args>::load_args(pybind11::detail::function_call&) [with Args = {ngp::Testbed*, const tcnn::tvec<float, 2, 4>&}]\u001b[m\u001b[K’\n",
            "\u001b[01m\u001b[K/content/instant-ngp/dependencies/pybind11/include/pybind11/pybind11.h:228:30:\u001b[m\u001b[K   required from ‘\u001b[01m\u001b[Kvoid pybind11::cpp_function::initialize(Func&&, Return (*)(Args ...), const Extra& ...) [with Func = pybind11::cpp_function::cpp_function<void, ngp::Testbed, const tcnn::tvec<float, 2, 4>&>(void (ngp::Testbed::*)(const tcnn::tvec<float, 2, 4>&))::<lambda(ngp::Testbed*, const tcnn::tvec<float, 2, 4>&)>; Return = void; Args = {ngp::Testbed*, const tcnn::tvec<float, 2, 4>&}; Extra = {}]\u001b[m\u001b[K’\n",
            "\u001b[01m\u001b[K/content/instant-ngp/dependencies/pybind11/include/pybind11/pybind11.h:108:11:\u001b[m\u001b[K   required from ‘\u001b[01m\u001b[Kpybind11::cpp_function::cpp_function(Return (Class::*)(Arg ...), const Extra& ...) [with Return = void; Class = ngp::Testbed; Arg = {const tcnn::tvec<float, 2, 4>&}; Extra = {}]\u001b[m\u001b[K’\n",
            "\u001b[01m\u001b[K/content/instant-ngp/dependencies/pybind11/include/pybind11/pybind11.h:1722:34:\u001b[m\u001b[K   required from ‘\u001b[01m\u001b[Kpybind11::class_<type_, options>& pybind11::class_<type_, options>::def_property(const char*, const Getter&, const Setter&, const Extra& ...) [with Getter = tcnn::tvec<float, 2, 4> (ngp::Testbed::*)() const; Setter = void (ngp::Testbed::*)(const tcnn::tvec<float, 2, 4>&); Extra = {}; type_ = ngp::Testbed; options = {}]\u001b[m\u001b[K’\n",
            "\u001b[01m\u001b[K/content/instant-ngp/src/python_api.cu:383:0:\u001b[m\u001b[K   required from here\n",
            "\u001b[01m\u001b[K/content/instant-ngp/dependencies/tiny-cuda-nn/include/tiny-cuda-nn/vec_pybind11.h:52:33:\u001b[m\u001b[K \u001b[01;35m\u001b[Kwarning: \u001b[m\u001b[K‘\u001b[01m\u001b[Kpybind11::array_t<T, ExtraFlags>::array_t(pybind11::handle, bool) [with T = float; int ExtraFlags = 16]\u001b[m\u001b[K’ is deprecated: Use array_t<T>::ensure() instead [\u001b[01;35m\u001b[K\u001b]8;;https://gcc.gnu.org/onlinedocs/gcc/Warning-Options.html#index-Wdeprecated-declarations\u0007-Wdeprecated-declarations\u001b]8;;\u0007\u001b[m\u001b[K]\n",
            "   52 |                 array_t<Scalar> \u001b[01;35m\u001b[Kbuf\u001b[m\u001b[K(src, true);\n",
            "      |                                 \u001b[01;35m\u001b[K^~~\u001b[m\u001b[K\n",
            "\u001b[01m\u001b[K/content/instant-ngp/dependencies/pybind11/include/pybind11/numpy.h:1037:1:\u001b[m\u001b[K \u001b[01;36m\u001b[Knote: \u001b[m\u001b[Kdeclared here\n",
            " 1037 | \u001b[01;36m\u001b[K    arr\u001b[m\u001b[Kay_t(handle h, bool is_borrowed) : array(raw_array_t(h.ptr()), stolen_t{}) {\n",
            "      | \u001b[01;36m\u001b[K^\u001b[m\u001b[K   \u001b[01;36m\u001b[K~~~\u001b[m\u001b[K\n",
            "\u001b[01m\u001b[K/content/instant-ngp/dependencies/tiny-cuda-nn/include/tiny-cuda-nn/vec_pybind11.h:53:29:\u001b[m\u001b[K \u001b[01;35m\u001b[Kwarning: \u001b[m\u001b[K‘\u001b[01m\u001b[Kbool pybind11::array::check() const\u001b[m\u001b[K’ is deprecated: Use py::isinstance<py::python_type>(obj) instead [\u001b[01;35m\u001b[K\u001b]8;;https://gcc.gnu.org/onlinedocs/gcc/Warning-Options.html#index-Wdeprecated-declarations\u0007-Wdeprecated-declarations\u001b]8;;\u0007\u001b[m\u001b[K]\n",
            "   53 |                 if \u001b[01;35m\u001b[K(!buf.check\u001b[m\u001b[K()) {\n",
            "      |                    \u001b[01;35m\u001b[K~~~~~~~~~^~\u001b[m\u001b[K\n",
            "\u001b[01m\u001b[K/content/instant-ngp/dependencies/pybind11/include/pybind11/numpy.h:682:385:\u001b[m\u001b[K \u001b[01;36m\u001b[Knote: \u001b[m\u001b[Kdeclared here\n",
            "  682 |     PYBIND11_OBJECT_CVT(array, buffer, detail::npy_api::get().PyArray_Check_, raw_array)\n",
            "      |                                                                                                                                                                                                                                                                                                                                                                                                 \u001b[01;36m\u001b[K^\u001b[m\u001b[K    \n",
            "/content/instant-ngp/dependencies/tiny-cuda-nn/include/tiny-cuda-nn/vec_pybind11.h: In instantiation of ‘\u001b[01m\u001b[Kbool pybind11::detail::type_caster<tcnn::tmat<T, N, M>, void>::load(pybind11::handle, bool) [with T = float; unsigned int N = 4; unsigned int M = 3]\u001b[m\u001b[K’:\n",
            "\u001b[01m\u001b[K/content/instant-ngp/dependencies/pybind11/include/pybind11/cast.h:1427:47:\u001b[m\u001b[K   required from ‘\u001b[01m\u001b[Kbool pybind11::detail::argument_loader<Args>::load_impl_sequence(pybind11::detail::function_call&, std::index_sequence<Is ...>) [with long unsigned int ...Is = {0, 1}; Args = {ngp::Testbed*, const tcnn::tmat<float, 4, 3>&}; std::index_sequence<Is ...> = std::integer_sequence<long unsigned int, 0, 1>]\u001b[m\u001b[K’\n",
            "\u001b[01m\u001b[K/content/instant-ngp/dependencies/pybind11/include/pybind11/cast.h:1401:64:\u001b[m\u001b[K   required from ‘\u001b[01m\u001b[Kbool pybind11::detail::argument_loader<Args>::load_args(pybind11::detail::function_call&) [with Args = {ngp::Testbed*, const tcnn::tmat<float, 4, 3>&}]\u001b[m\u001b[K’\n",
            "\u001b[01m\u001b[K/content/instant-ngp/dependencies/pybind11/include/pybind11/pybind11.h:228:30:\u001b[m\u001b[K   required from ‘\u001b[01m\u001b[Kvoid pybind11::cpp_function::initialize(Func&&, Return (*)(Args ...), const Extra& ...) [with Func = pybind11::cpp_function::cpp_function<void, ngp::Testbed, const tcnn::tmat<float, 4, 3>&, pybind11::name, pybind11::is_method, pybind11::sibling>(void (ngp::Testbed::*)(const tcnn::tmat<float, 4, 3>&), const pybind11::name&, const pybind11::is_method&, const pybind11::sibling&)::<lambda(ngp::Testbed*, const tcnn::tmat<float, 4, 3>&)>; Return = void; Args = {ngp::Testbed*, const tcnn::tmat<float, 4, 3>&}; Extra = {pybind11::name, pybind11::is_method, pybind11::sibling}]\u001b[m\u001b[K’\n",
            "\u001b[01m\u001b[K/content/instant-ngp/dependencies/pybind11/include/pybind11/pybind11.h:108:11:\u001b[m\u001b[K   required from ‘\u001b[01m\u001b[Kpybind11::cpp_function::cpp_function(Return (Class::*)(Arg ...), const Extra& ...) [with Return = void; Class = ngp::Testbed; Arg = {const tcnn::tmat<float, 4, 3>&}; Extra = {pybind11::name, pybind11::is_method, pybind11::sibling}]\u001b[m\u001b[K’\n",
            "\u001b[01m\u001b[K/content/instant-ngp/dependencies/pybind11/include/pybind11/pybind11.h:1558:14:\u001b[m\u001b[K   required from ‘\u001b[01m\u001b[Kpybind11::class_<type_, options>& pybind11::class_<type_, options>::def(const char*, Func&&, const Extra& ...) [with Func = void (ngp::Testbed::*)(const tcnn::tmat<float, 4, 3>&); Extra = {}; type_ = ngp::Testbed; options = {}]\u001b[m\u001b[K’\n",
            "\u001b[01m\u001b[K/content/instant-ngp/src/python_api.cu:383:0:\u001b[m\u001b[K   required from here\n",
            "\u001b[01m\u001b[K/content/instant-ngp/dependencies/tiny-cuda-nn/include/tiny-cuda-nn/vec_pybind11.h:91:33:\u001b[m\u001b[K \u001b[01;35m\u001b[Kwarning: \u001b[m\u001b[K‘\u001b[01m\u001b[Kpybind11::array_t<T, ExtraFlags>::array_t(pybind11::handle, bool) [with T = float; int ExtraFlags = 16]\u001b[m\u001b[K’ is deprecated: Use array_t<T>::ensure() instead [\u001b[01;35m\u001b[K\u001b]8;;https://gcc.gnu.org/onlinedocs/gcc/Warning-Options.html#index-Wdeprecated-declarations\u0007-Wdeprecated-declarations\u001b]8;;\u0007\u001b[m\u001b[K]\n",
            "   91 |                 array_t<Scalar> \u001b[01;35m\u001b[Kbuf\u001b[m\u001b[K(src, true);\n",
            "      |                                 \u001b[01;35m\u001b[K^~~\u001b[m\u001b[K\n",
            "\u001b[01m\u001b[K/content/instant-ngp/dependencies/pybind11/include/pybind11/numpy.h:1037:1:\u001b[m\u001b[K \u001b[01;36m\u001b[Knote: \u001b[m\u001b[Kdeclared here\n",
            " 1037 | \u001b[01;36m\u001b[K    arr\u001b[m\u001b[Kay_t(handle h, bool is_borrowed) : array(raw_array_t(h.ptr()), stolen_t{}) {\n",
            "      | \u001b[01;36m\u001b[K^\u001b[m\u001b[K   \u001b[01;36m\u001b[K~~~\u001b[m\u001b[K\n",
            "\u001b[01m\u001b[K/content/instant-ngp/dependencies/tiny-cuda-nn/include/tiny-cuda-nn/vec_pybind11.h:92:29:\u001b[m\u001b[K \u001b[01;35m\u001b[Kwarning: \u001b[m\u001b[K‘\u001b[01m\u001b[Kbool pybind11::array::check() const\u001b[m\u001b[K’ is deprecated: Use py::isinstance<py::python_type>(obj) instead [\u001b[01;35m\u001b[K\u001b]8;;https://gcc.gnu.org/onlinedocs/gcc/Warning-Options.html#index-Wdeprecated-declarations\u0007-Wdeprecated-declarations\u001b]8;;\u0007\u001b[m\u001b[K]\n",
            "   92 |                 if \u001b[01;35m\u001b[K(!buf.check\u001b[m\u001b[K()) {\n",
            "      |                    \u001b[01;35m\u001b[K~~~~~~~~~^~\u001b[m\u001b[K\n",
            "\u001b[01m\u001b[K/content/instant-ngp/dependencies/pybind11/include/pybind11/numpy.h:682:385:\u001b[m\u001b[K \u001b[01;36m\u001b[Knote: \u001b[m\u001b[Kdeclared here\n",
            "  682 |     PYBIND11_OBJECT_CVT(array, buffer, detail::npy_api::get().PyArray_Check_, raw_array)\n",
            "      |                                                                                                                                                                                                                                                                                                                                                                                                 \u001b[01;36m\u001b[K^\u001b[m\u001b[K    \n",
            "/content/instant-ngp/dependencies/tiny-cuda-nn/include/tiny-cuda-nn/vec_pybind11.h: In instantiation of ‘\u001b[01m\u001b[Kbool pybind11::detail::type_caster<tcnn::tvec<T, N>, void>::load(pybind11::handle, bool) [with T = int; unsigned int N = 2]\u001b[m\u001b[K’:\n",
            "\u001b[01m\u001b[K/content/instant-ngp/dependencies/pybind11/include/pybind11/cast.h:1427:47:\u001b[m\u001b[K   required from ‘\u001b[01m\u001b[Kbool pybind11::detail::argument_loader<Args>::load_impl_sequence(pybind11::detail::function_call&, std::index_sequence<Is ...>) [with long unsigned int ...Is = {0, 1}; Args = {ngp::TrainingImageMetadata&, const tcnn::tvec<int, 2, 4>&}; std::index_sequence<Is ...> = std::integer_sequence<long unsigned int, 0, 1>]\u001b[m\u001b[K’\n",
            "\u001b[01m\u001b[K/content/instant-ngp/dependencies/pybind11/include/pybind11/cast.h:1401:64:\u001b[m\u001b[K   required from ‘\u001b[01m\u001b[Kbool pybind11::detail::argument_loader<Args>::load_args(pybind11::detail::function_call&) [with Args = {ngp::TrainingImageMetadata&, const tcnn::tvec<int, 2, 4>&}]\u001b[m\u001b[K’\n",
            "\u001b[01m\u001b[K/content/instant-ngp/dependencies/pybind11/include/pybind11/pybind11.h:228:30:\u001b[m\u001b[K   required from ‘\u001b[01m\u001b[Kvoid pybind11::cpp_function::initialize(Func&&, Return (*)(Args ...), const Extra& ...) [with Func = pybind11::class_<ngp::TrainingImageMetadata>::def_readwrite<ngp::TrainingImageMetadata, tcnn::tvec<int, 2, 4> >(const char*, tcnn::tvec<int, 2, 4> ngp::TrainingImageMetadata::*)::<lambda(pybind11::class_<ngp::TrainingImageMetadata>::type&, const tcnn::tvec<int, 2, 4>&)>; Return = void; Args = {ngp::TrainingImageMetadata&, const tcnn::tvec<int, 2, 4>&}; Extra = {pybind11::is_method}]\u001b[m\u001b[K’\n",
            "\u001b[01m\u001b[K/content/instant-ngp/dependencies/pybind11/include/pybind11/pybind11.h:100:11:\u001b[m\u001b[K   required from ‘\u001b[01m\u001b[Kpybind11::cpp_function::cpp_function(Func&&, const Extra& ...) [with Func = pybind11::class_<ngp::TrainingImageMetadata>::def_readwrite<ngp::TrainingImageMetadata, tcnn::tvec<int, 2, 4> >(const char*, tcnn::tvec<int, 2, 4> ngp::TrainingImageMetadata::*)::<lambda(pybind11::class_<ngp::TrainingImageMetadata>::type&, const tcnn::tvec<int, 2, 4>&)>; Extra = {pybind11::is_method}; <template-parameter-1-3> = void]\u001b[m\u001b[K’\n",
            "\u001b[01m\u001b[K/content/instant-ngp/dependencies/pybind11/include/pybind11/pybind11.h:1657:1:\u001b[m\u001b[K   required from ‘\u001b[01m\u001b[Kpybind11::class_<type_, options>& pybind11::class_<type_, options>::def_readwrite(const char*, D C::*, const Extra& ...) [with C = ngp::TrainingImageMetadata; D = tcnn::tvec<int, 2, 4>; Extra = {}; type_ = ngp::TrainingImageMetadata; options = {}]\u001b[m\u001b[K’\n",
            "\u001b[01m\u001b[K/content/instant-ngp/src/python_api.cu:617:140:\u001b[m\u001b[K   required from here\n",
            "\u001b[01m\u001b[K/content/instant-ngp/dependencies/tiny-cuda-nn/include/tiny-cuda-nn/vec_pybind11.h:52:33:\u001b[m\u001b[K \u001b[01;35m\u001b[Kwarning: \u001b[m\u001b[K‘\u001b[01m\u001b[Kpybind11::array_t<T, ExtraFlags>::array_t(pybind11::handle, bool) [with T = int; int ExtraFlags = 16]\u001b[m\u001b[K’ is deprecated: Use array_t<T>::ensure() instead [\u001b[01;35m\u001b[K\u001b]8;;https://gcc.gnu.org/onlinedocs/gcc/Warning-Options.html#index-Wdeprecated-declarations\u0007-Wdeprecated-declarations\u001b]8;;\u0007\u001b[m\u001b[K]\n",
            "   52 |                 array_t<Scalar> \u001b[01;35m\u001b[Kbuf\u001b[m\u001b[K(src, true);\n",
            "      |                                 \u001b[01;35m\u001b[K^~~\u001b[m\u001b[K\n",
            "\u001b[01m\u001b[K/content/instant-ngp/dependencies/pybind11/include/pybind11/numpy.h:1037:1:\u001b[m\u001b[K \u001b[01;36m\u001b[Knote: \u001b[m\u001b[Kdeclared here\n",
            " 1037 | \u001b[01;36m\u001b[K    arr\u001b[m\u001b[Kay_t(handle h, bool is_borrowed) : array(raw_array_t(h.ptr()), stolen_t{}) {\n",
            "      | \u001b[01;36m\u001b[K^\u001b[m\u001b[K   \u001b[01;36m\u001b[K~~~\u001b[m\u001b[K\n",
            "\u001b[01m\u001b[K/content/instant-ngp/dependencies/tiny-cuda-nn/include/tiny-cuda-nn/vec_pybind11.h:53:29:\u001b[m\u001b[K \u001b[01;35m\u001b[Kwarning: \u001b[m\u001b[K‘\u001b[01m\u001b[Kbool pybind11::array::check() const\u001b[m\u001b[K’ is deprecated: Use py::isinstance<py::python_type>(obj) instead [\u001b[01;35m\u001b[K\u001b]8;;https://gcc.gnu.org/onlinedocs/gcc/Warning-Options.html#index-Wdeprecated-declarations\u0007-Wdeprecated-declarations\u001b]8;;\u0007\u001b[m\u001b[K]\n",
            "   53 |                 if \u001b[01;35m\u001b[K(!buf.check\u001b[m\u001b[K()) {\n",
            "      |                    \u001b[01;35m\u001b[K~~~~~~~~~^~\u001b[m\u001b[K\n",
            "\u001b[01m\u001b[K/content/instant-ngp/dependencies/pybind11/include/pybind11/numpy.h:682:385:\u001b[m\u001b[K \u001b[01;36m\u001b[Knote: \u001b[m\u001b[Kdeclared here\n",
            "  682 |     PYBIND11_OBJECT_CVT(array, buffer, detail::npy_api::get().PyArray_Check_, raw_array)\n",
            "      |                                                                                                                                                                                                                                                                                                                                                                                                 \u001b[01;36m\u001b[K^\u001b[m\u001b[K    \n",
            "[100%] \u001b[32m\u001b[1mLinking CXX shared library pyngp.cpython-311-x86_64-linux-gnu.so\u001b[0m\n",
            "[100%] Built target pyngp\n"
          ]
        }
      ],
      "source": [
        "!cmake --build build --config RelWithDebInfo -j `nproc`"
      ]
    },
    {
      "cell_type": "code",
      "execution_count": null,
      "metadata": {
        "colab": {
          "base_uri": "https://localhost:8080/"
        },
        "id": "ZsYOxPoczeDQ",
        "outputId": "400ba765-44cf-43db-f611-7e0b619c5350"
      },
      "outputs": [
        {
          "output_type": "stream",
          "name": "stdout",
          "text": [
            "\u001b[31mERROR: Directory './build' is not installable. Neither 'setup.py' nor 'pyproject.toml' found.\u001b[0m\u001b[31m\n",
            "\u001b[0m"
          ]
        }
      ],
      "source": [
        "# Install the pyngp Python module\n",
        "!pip install ./build"
      ]
    },
    {
      "cell_type": "code",
      "execution_count": null,
      "metadata": {
        "colab": {
          "base_uri": "https://localhost:8080/"
        },
        "id": "TRfrshaCdpY8",
        "outputId": "4ce5de56-71a9-43dc-a0e6-f86c056ae14d"
      },
      "outputs": [
        {
          "output_type": "stream",
          "name": "stdout",
          "text": [
            "Collecting commentjson (from -r requirements.txt (line 1))\n",
            "  Downloading commentjson-0.9.0.tar.gz (8.7 kB)\n",
            "  Preparing metadata (setup.py) ... \u001b[?25l\u001b[?25hdone\n",
            "Requirement already satisfied: imageio in /usr/local/lib/python3.11/dist-packages (from -r requirements.txt (line 2)) (2.37.0)\n",
            "Requirement already satisfied: numpy in /usr/local/lib/python3.11/dist-packages (from -r requirements.txt (line 3)) (2.0.2)\n",
            "Requirement already satisfied: opencv-python-headless in /usr/local/lib/python3.11/dist-packages (from -r requirements.txt (line 4)) (4.11.0.86)\n",
            "Collecting pybind11 (from -r requirements.txt (line 5))\n",
            "  Downloading pybind11-2.13.6-py3-none-any.whl.metadata (9.5 kB)\n",
            "Collecting pyquaternion (from -r requirements.txt (line 6))\n",
            "  Downloading pyquaternion-0.9.9-py3-none-any.whl.metadata (1.4 kB)\n",
            "Requirement already satisfied: scipy in /usr/local/lib/python3.11/dist-packages (from -r requirements.txt (line 7)) (1.15.3)\n",
            "Requirement already satisfied: tqdm in /usr/local/lib/python3.11/dist-packages (from -r requirements.txt (line 8)) (4.67.1)\n",
            "Collecting lark-parser<0.8.0,>=0.7.1 (from commentjson->-r requirements.txt (line 1))\n",
            "  Downloading lark-parser-0.7.8.tar.gz (276 kB)\n",
            "\u001b[2K     \u001b[90m━━━━━━━━━━━━━━━━━━━━━━━━━━━━━━━━━━━━━━━\u001b[0m \u001b[32m276.2/276.2 kB\u001b[0m \u001b[31m8.5 MB/s\u001b[0m eta \u001b[36m0:00:00\u001b[0m\n",
            "\u001b[?25h  Preparing metadata (setup.py) ... \u001b[?25l\u001b[?25hdone\n",
            "Requirement already satisfied: pillow>=8.3.2 in /usr/local/lib/python3.11/dist-packages (from imageio->-r requirements.txt (line 2)) (11.2.1)\n",
            "Downloading pybind11-2.13.6-py3-none-any.whl (243 kB)\n",
            "\u001b[2K   \u001b[90m━━━━━━━━━━━━━━━━━━━━━━━━━━━━━━━━━━━━━━━━\u001b[0m \u001b[32m243.3/243.3 kB\u001b[0m \u001b[31m20.9 MB/s\u001b[0m eta \u001b[36m0:00:00\u001b[0m\n",
            "\u001b[?25hDownloading pyquaternion-0.9.9-py3-none-any.whl (14 kB)\n",
            "Building wheels for collected packages: commentjson, lark-parser\n",
            "  Building wheel for commentjson (setup.py) ... \u001b[?25l\u001b[?25hdone\n",
            "  Created wheel for commentjson: filename=commentjson-0.9.0-py3-none-any.whl size=12077 sha256=ecf60745d0fe8c07ad40aac1a677e2d5dac4c2b6aec9cb383c622a31e6fff441\n",
            "  Stored in directory: /root/.cache/pip/wheels/f2/cb/58/77f1f0b3f5fa6eb3335cb0cb73de4d4bef93489dc3a3373ae8\n",
            "  Building wheel for lark-parser (setup.py) ... \u001b[?25l\u001b[?25hdone\n",
            "  Created wheel for lark-parser: filename=lark_parser-0.7.8-py2.py3-none-any.whl size=62511 sha256=2ee519866b4deb7ae05a3366254b68b235ed9ec68d253109729116d5ad07ebb9\n",
            "  Stored in directory: /root/.cache/pip/wheels/6c/c7/01/d277a7a673ffc81a1e71e816c2e5bc5f1602f9e8192c25d21c\n",
            "Successfully built commentjson lark-parser\n",
            "Installing collected packages: lark-parser, pyquaternion, pybind11, commentjson\n",
            "Successfully installed commentjson-0.9.0 lark-parser-0.7.8 pybind11-2.13.6 pyquaternion-0.9.9\n"
          ]
        }
      ],
      "source": [
        "!pip3 install -r requirements.txt"
      ]
    },
    {
      "cell_type": "markdown",
      "metadata": {
        "id": "cHLYSiD05EnL"
      },
      "source": [
        "## 6. [LOCAL MACHINE] Prepare Record3D data\n",
        "Record3D provides more robust camera pose estimation than COLMAP, especially for scenes with repetitive patterns or lacking texture.\n",
        "\n",
        "**If you have raw .r3d files:**\n",
        "1. **Record your scene** using the Record3D iOS app (requires iPhone 12 Pro or newer)\n",
        "2. **Export the data** using \"Shareable/Internal format (.r3d)\"\n",
        "3. **Transfer the .r3d file** to your computer\n",
        "4. **Extract the data**:\n",
        "   - Change the file extension from `.r3d` to `.zip`\n",
        "   - Unzip the file to get a directory with your scene data\n",
        "5. **Run the preprocessing script**:\n",
        "   ```bash\n",
        "   python scripts/record3d2nerf.py --scene path/to/your/data\n",
        "   ```\n",
        "   If you captured in landscape orientation, add `--rotate`:\n",
        "   ```bash\n",
        "   python scripts/record3d2nerf.py --scene path/to/your/data --rotate\n",
        "   ```\n",
        "\n",
        "**If you already have preprocessed Record3D data:**\n",
        "Your folder should contain:\n",
        "- `rgbd/` folder with RGB images, depth maps, and confidence maps:\n",
        "  - `*.jpg` - RGB color images\n",
        "  - `*.depth` - Depth maps (distance measurements for each pixel)\n",
        "  - `*.conf` - Confidence maps (reliability of each depth measurement)\n",
        "- `transforms.json` file with camera poses (generated from Record3D ARKit data)\n",
        "\n",
        "**Key advantages of Record3D over COLMAP:**\n",
        "- **Real-time pose estimation** using ARKit (more robust than COLMAP's feature matching)\n",
        "- **Depth supervision** for better training convergence and accuracy\n",
        "- **Confidence-weighted training** to handle unreliable depth measurements\n",
        "- **Better for challenging scenes**: textureless surfaces, repetitive patterns, reflective materials\n",
        "- **No GUI processing required** - everything runs in command line\n",
        "- **Faster preprocessing** compared to COLMAP's reconstruction pipeline\n",
        "\n",
        "**Depth and Confidence Benefits for NeRF Training:**\n",
        "- Faster convergence due to geometric constraints from depth\n",
        "- Better novel view synthesis, especially in poorly textured regions\n",
        "- More accurate geometry reconstruction\n",
        "- Improved handling of transparent or reflective surfaces using confidence weighting"
      ]
    },
    {
      "cell_type": "markdown",
      "metadata": {
        "id": "ZQP4PAyru3KA"
      },
      "source": [
        "## 7. Upload your scene"
      ]
    },
    {
      "cell_type": "code",
      "execution_count": null,
      "metadata": {
        "id": "pgzR0KSBX_Hl"
      },
      "outputs": [],
      "source": [
        "import os"
      ]
    },
    {
      "cell_type": "markdown",
      "metadata": {
        "id": "h3Tl_nNpzfPR"
      },
      "source": [
        "Mount your google drive"
      ]
    },
    {
      "cell_type": "code",
      "execution_count": null,
      "metadata": {
        "colab": {
          "base_uri": "https://localhost:8080/"
        },
        "id": "a-CfnpVUze1G",
        "outputId": "e952b693-1ef7-434c-fd51-240e676cc1f8"
      },
      "outputs": [
        {
          "output_type": "stream",
          "name": "stdout",
          "text": [
            "Mounted at /content/drive\n"
          ]
        }
      ],
      "source": [
        "from google.colab import drive\n",
        "drive.mount('/content/drive')"
      ]
    },
    {
      "cell_type": "markdown",
      "metadata": {
        "id": "WOx86Jz5xOQP"
      },
      "source": [
        "Then upload your Record3D data (either the `images` folder from COLMAP or the `rgbd` folder from Record3D) and the `transforms.json` file to your drive. The structure should be similar to the following:\n",
        "\n",
        "**For Record3D data:**\n",
        "```\n",
        "/content/drive/MyDrive/nerf_scenes/\n",
        "└── test_1\n",
        "    ├── rgbd/\n",
        "    │   ├── 0.jpg\n",
        "    │   ├── 0.depth\n",
        "    │   ├── 0.conf\n",
        "    │   ├── 1.jpg\n",
        "    │   └── ...\n",
        "    └── transforms.json\n",
        "```\n",
        "\n",
        "**For COLMAP data (legacy support):**\n",
        "```\n",
        "/content/drive/MyDrive/nerf_scenes/\n",
        "└── fox\n",
        "    ├── images/\n",
        "    │   ├── 00001.jpg\n",
        "    │   └── 00002.jpg\n",
        "    └── transforms.json\n",
        "```\n",
        "\n"
      ]
    },
    {
      "cell_type": "code",
      "execution_count": null,
      "metadata": {
        "colab": {
          "base_uri": "https://localhost:8080/"
        },
        "id": "XeR3BfZFxzhb",
        "outputId": "fd10cd33-fcbe-42bf-ffdd-2d2cae1e4233"
      },
      "outputs": [
        {
          "output_type": "stream",
          "name": "stdout",
          "text": [
            "\n",
            "Contents of nerf_scenes:\n"
          ]
        },
        {
          "output_type": "execute_result",
          "data": {
            "text/plain": [
              "['corridor_record3d',\n",
              " 'corridor_record3d_small',\n",
              " 'corridor_record3d_small_small']"
            ]
          },
          "metadata": {},
          "execution_count": 14
        }
      ],
      "source": [
        "print(\"\\nContents of nerf_scenes:\")\n",
        "os.listdir('/content/drive/MyDrive/nerf_scenes')"
      ]
    },
    {
      "cell_type": "markdown",
      "metadata": {
        "id": "iNhWLCgH20-g"
      },
      "source": [
        "Enter the path to your scene"
      ]
    },
    {
      "cell_type": "code",
      "execution_count": null,
      "metadata": {
        "id": "ayZ2gWkTz3sU"
      },
      "outputs": [],
      "source": [
        "import os\n",
        "scene_path = \"/content/drive/MyDrive/nerf_scenes/corridor_record3d\" #@param {type:\"string\"}\n",
        "if not os.path.isdir(scene_path):\n",
        "  raise NotADirectoryError(scene_path)"
      ]
    },
    {
      "cell_type": "markdown",
      "source": [
        "We have a problem: We are running out of RAM very soon: ~1070 images (of full-size) fit untill the sudden termination of the process."
      ],
      "metadata": {
        "id": "305d904OcBgr"
      }
    },
    {
      "cell_type": "markdown",
      "source": [
        "Let's try to decrease the dataset:"
      ],
      "metadata": {
        "id": "anW0CieVdJy-"
      }
    },
    {
      "cell_type": "code",
      "source": [
        "# Create smaller dataset with fewer images\n",
        "import shutil\n",
        "import json\n",
        "small_scene_path = scene_path + \"_small\""
      ],
      "metadata": {
        "id": "h-J_IGtIfWDv"
      },
      "execution_count": null,
      "outputs": []
    },
    {
      "cell_type": "code",
      "source": [
        "# # Do not need to rerun everytime (in case it already exist)\n",
        "\n",
        "# Load and examine the original transforms.json\n",
        "with open(f\"{scene_path}/transforms.json\", 'r') as f:\n",
        "    transforms = json.load(f)\n",
        "\n",
        "print(f\"Original dataset has {len(transforms['frames'])} frames\")\n",
        "\n",
        "# Select every 15th frame from transforms.json\n",
        "n = 10\n",
        "selected_frames = transforms['frames'][::n]\n",
        "print(f\"Selected {len(selected_frames)} frames (every {n}th)\")\n",
        "\n",
        "# Create new dataset directory\n",
        "os.makedirs(f\"{small_scene_path}/rgbd\", exist_ok=True)\n",
        "\n",
        "# Copy only the files referenced in selected frames\n",
        "copied_count = 0\n",
        "for frame in selected_frames:\n",
        "    # Extract filename from transforms.json file_path\n",
        "    file_path = frame['file_path']\n",
        "    # Remove leading \"./\" if present\n",
        "    if file_path.startswith('./'):\n",
        "        file_path = file_path[2:]\n",
        "\n",
        "    # Get base filename without extension\n",
        "    if '/' in file_path:\n",
        "        base_name = file_path.split('/')[-1].split('.')[0]\n",
        "    else:\n",
        "        base_name = file_path.split('.')[0]\n",
        "\n",
        "    # Copy RGB, depth, and confidence files\n",
        "    for ext in ['.jpg', '.depth', '.conf']:\n",
        "        src = f\"{scene_path}/rgbd/{base_name}{ext}\"\n",
        "        dst = f\"{small_scene_path}/rgbd/{base_name}{ext}\"\n",
        "        if os.path.exists(src):\n",
        "            shutil.copy(src, dst)\n",
        "            if ext == '.jpg':  # Count only RGB files\n",
        "                copied_count += 1\n",
        "\n",
        "print(f\"Copied {copied_count} image sets\")\n",
        "\n",
        "# Create new transforms.json with only selected frames\n",
        "new_transforms = transforms.copy()\n",
        "new_transforms['frames'] = selected_frames\n",
        "\n",
        "with open(f\"{small_scene_path}/transforms.json\", 'w') as f:\n",
        "    json.dump(new_transforms, f, indent=2)\n",
        "\n",
        "# Update scene path\n",
        "scene_path = small_scene_path\n",
        "print(f\"New dataset ready at: {scene_path}\")"
      ],
      "metadata": {
        "colab": {
          "base_uri": "https://localhost:8080/"
        },
        "id": "k2UC6Zo7l7g5",
        "outputId": "6e95b25d-f52f-4007-ec34-62dd3b2bd31b"
      },
      "execution_count": null,
      "outputs": [
        {
          "output_type": "stream",
          "name": "stdout",
          "text": [
            "Original dataset has 3075 frames\n",
            "Selected 205 frames (every 15th)\n",
            "Copied 205 image sets\n",
            "New dataset ready at: /content/drive/MyDrive/nerf_scenes/corridor_record3d_small\n"
          ]
        }
      ]
    },
    {
      "cell_type": "code",
      "source": [
        "# Update scene_path to use the smaller dataset\n",
        "scene_path = small_scene_path"
      ],
      "metadata": {
        "id": "3gf_MBBRdoQC"
      },
      "execution_count": null,
      "outputs": []
    },
    {
      "cell_type": "markdown",
      "source": [
        "We can also reduce Image resolution (directly affects the quiality)\n",
        "\n",
        "Use smaller batch sizes and network configurations\n",
        "\n",
        "Failed to complete the training process in colab => necessity to move to working station (DL/power)\n",
        "\n"
      ],
      "metadata": {
        "id": "A6R0TwS_dopg"
      }
    },
    {
      "cell_type": "code",
      "source": [
        "train_steps = 500\n",
        "snapshot_path = os.path.join(scene_path, f\"{train_steps}.ingp\")\n",
        "!python ./scripts/run.py {scene_path} --n_steps {train_steps} --save_snapshot {snapshot_path} --network {config_path}"
      ],
      "metadata": {
        "colab": {
          "base_uri": "https://localhost:8080/"
        },
        "id": "nXUVZbwVkb1g",
        "outputId": "88a1ef4f-8570-452b-bbff-8338ead1feec"
      },
      "execution_count": null,
      "outputs": [
        {
          "output_type": "stream",
          "name": "stdout",
          "text": [
            "\u001b[0m16:35:59 \u001b[0;32mSUCCESS  \u001b[0mInitialized CUDA 12.5. Active GPU is #0: Tesla T4 [75]\u001b[K\u001b[0m\n",
            "16:35:59 \u001b[0;36mINFO     \u001b[0mLoading NeRF dataset from\u001b[K\u001b[0m\n",
            "16:35:59 \u001b[0;36mINFO     \u001b[0m  /content/drive/MyDrive/nerf_scenes/corridor_record3d_small/transforms.json\u001b[K\u001b[0m\n",
            "16:35:59 \u001b[0;34mPROGRESS \u001b[0m[]   0% (  0/308)  0s/inf\u001b[K\u001b[0m\u001b[0G16:35:59 \u001b[0;34mPROGRESS \u001b[0m[]   0% (  1/308) 0s/8s\u001b[K\u001b[0m\u001b[0G16:35:59 \u001b[0;34mPROGRESS \u001b[0m[]   1% (  2/308) 0s/4s\u001b[K\u001b[0m\u001b[0G16:35:59 \u001b[0;34mPROGRESS \u001b[0m[]   1% (  3/308) 0s/5s\u001b[K\u001b[0m\u001b[0G16:35:59 \u001b[0;34mPROGRESS \u001b[0m[]   1% (  4/308) 0s/4s\u001b[K\u001b[0m\u001b[0G16:35:59 \u001b[0;34mPROGRESS \u001b[0m[]   2% (  5/308) 0s/4s\u001b[K\u001b[0m\u001b[0G16:35:59 \u001b[0;34mPROGRESS \u001b[0m[]   2% (  6/308) 0s/4s\u001b[K\u001b[0m\u001b[0G16:35:59 \u001b[0;34mPROGRESS \u001b[0m[]   2% (  7/308) 0s/4s\u001b[K\u001b[0m\u001b[0G16:35:59 \u001b[0;34mPROGRESS \u001b[0m[]   3% (  8/308) 0s/3s\u001b[K\u001b[0m\u001b[0G16:36:00 \u001b[0;34mPROGRESS \u001b[0m[]   3% (  9/308) 0s/4s\u001b[K\u001b[0m\u001b[0G16:36:00 \u001b[0;34mPROGRESS \u001b[0m[]   3% ( 10/308) 0s/3s\u001b[K\u001b[0m\u001b[0G16:36:00 \u001b[0;34mPROGRESS \u001b[0m[]   4% ( 11/308) 0s/4s\u001b[K\u001b[0m\u001b[0G16:36:00 \u001b[0;34mPROGRESS \u001b[0m[]   4% ( 12/308) 0s/3s\u001b[K\u001b[0m\u001b[0G16:36:00 \u001b[0;34mPROGRESS \u001b[0m[]   4% ( 13/308) 0s/4s\u001b[K\u001b[0m\u001b[0G16:36:00 \u001b[0;34mPROGRESS \u001b[0m[]   5% ( 14/308) 0s/3s\u001b[K\u001b[0m\u001b[0G16:36:00 \u001b[0;34mPROGRESS \u001b[0m[]   5% ( 15/308) 0s/4s\u001b[K\u001b[0m\u001b[0G16:36:00 \u001b[0;34mPROGRESS \u001b[0m[]   5% ( 16/308) 0s/4s\u001b[K\u001b[0m\u001b[0G16:36:00 \u001b[0;34mPROGRESS \u001b[0m[]   6% ( 17/308) 0s/4s\u001b[K\u001b[0m\u001b[0G16:36:00 \u001b[0;34mPROGRESS \u001b[0m[]   6% ( 18/308) 0s/4s\u001b[K\u001b[0m\u001b[0G16:36:00 \u001b[0;34mPROGRESS \u001b[0m[]   6% ( 19/308) 0s/4s\u001b[K\u001b[0m\u001b[0G16:36:00 \u001b[0;34mPROGRESS \u001b[0m[]   6% ( 20/308) 0s/4s\u001b[K\u001b[0m\u001b[0G16:36:00 \u001b[0;34mPROGRESS \u001b[0m[]   7% ( 21/308) 0s/4s\u001b[K\u001b[0m\u001b[0G16:36:00 \u001b[0;34mPROGRESS \u001b[0m[]   7% ( 22/308) 0s/4s\u001b[K\u001b[0m\u001b[0G16:36:00 \u001b[0;34mPROGRESS \u001b[0m[]   7% ( 23/308) 0s/4s\u001b[K\u001b[0m\u001b[0G16:36:00 \u001b[0;34mPROGRESS \u001b[0m[]   8% ( 24/308) 0s/4s\u001b[K\u001b[0m\u001b[0G16:36:00 \u001b[0;34mPROGRESS \u001b[0m[]   8% ( 25/308) 0s/4s\u001b[K\u001b[0m\u001b[0G16:36:00 \u001b[0;34mPROGRESS \u001b[0m[]   8% ( 26/308) 0s/4s\u001b[K\u001b[0m\u001b[0G16:36:00 \u001b[0;34mPROGRESS \u001b[0m[]   9% ( 27/308) 0s/4s\u001b[K\u001b[0m\u001b[0G16:36:00 \u001b[0;34mPROGRESS \u001b[0m[]   9% ( 28/308) 0s/4s\u001b[K\u001b[0m\u001b[0G16:36:00 \u001b[0;34mPROGRESS \u001b[0m[]   9% ( 29/308) 0s/4s\u001b[K\u001b[0m\u001b[0G16:36:00 \u001b[0;34mPROGRESS \u001b[0m[]  10% ( 30/308) 0s/4s\u001b[K\u001b[0m\u001b[0G16:36:00 \u001b[0;34mPROGRESS \u001b[0m[]  10% ( 31/308) 0s/4s\u001b[K\u001b[0m\u001b[0G16:36:00 \u001b[0;34mPROGRESS \u001b[0m[]  10% ( 32/308) 0s/4s\u001b[K\u001b[0m\u001b[0G16:36:00 \u001b[0;34mPROGRESS \u001b[0m[]  11% ( 33/308) 0s/4s\u001b[K\u001b[0m\u001b[0G16:36:00 \u001b[0;34mPROGRESS \u001b[0m[]  11% ( 34/308) 0s/4s\u001b[K\u001b[0m\u001b[0G16:36:00 \u001b[0;34mPROGRESS \u001b[0m[]  11% ( 35/308) 0s/4s\u001b[K\u001b[0m\u001b[0G16:36:00 \u001b[0;34mPROGRESS \u001b[0m[]  12% ( 36/308) 0s/4s\u001b[K\u001b[0m\u001b[0G16:36:00 \u001b[0;34mPROGRESS \u001b[0m[]  12% ( 37/308) 0s/4s\u001b[K\u001b[0m\u001b[0G16:36:00 \u001b[0;34mPROGRESS \u001b[0m[]  12% ( 38/308) 0s/4s\u001b[K\u001b[0m\u001b[0G16:36:00 \u001b[0;34mPROGRESS \u001b[0m[]  13% ( 39/308) 0s/3s\u001b[K\u001b[0m\u001b[0G16:36:00 \u001b[0;34mPROGRESS \u001b[0m[]  13% ( 40/308) 0s/4s\u001b[K\u001b[0m\u001b[0G16:36:00 \u001b[0;34mPROGRESS \u001b[0m[]  13% ( 41/308) 0s/3s\u001b[K\u001b[0m\u001b[0G16:36:00 \u001b[0;34mPROGRESS \u001b[0m[]  14% ( 42/308) 0s/4s\u001b[K\u001b[0m\u001b[0G16:36:00 \u001b[0;34mPROGRESS \u001b[0m[]  14% ( 43/308) 0s/3s\u001b[K\u001b[0m\u001b[0G16:36:00 \u001b[0;34mPROGRESS \u001b[0m[]  14% ( 44/308) 0s/4s\u001b[K\u001b[0m\u001b[0G16:36:00 \u001b[0;34mPROGRESS \u001b[0m[]  15% ( 45/308) 0s/3s\u001b[K\u001b[0m\u001b[0G16:36:00 \u001b[0;34mPROGRESS \u001b[0m[]  15% ( 46/308) 0s/4s\u001b[K\u001b[0m\u001b[0G16:36:00 \u001b[0;34mPROGRESS \u001b[0m[]  15% ( 47/308) 0s/3s\u001b[K\u001b[0m\u001b[0G16:36:00 \u001b[0;34mPROGRESS \u001b[0m[]  16% ( 48/308) 0s/4s\u001b[K\u001b[0m\u001b[0G16:36:00 \u001b[0;34mPROGRESS \u001b[0m[]  16% ( 49/308) 0s/3s\u001b[K\u001b[0m\u001b[0G16:36:00 \u001b[0;34mPROGRESS \u001b[0m[]  16% ( 50/308) 0s/4s\u001b[K\u001b[0m\u001b[0G16:36:00 \u001b[0;34mPROGRESS \u001b[0m[]  17% ( 51/308) 0s/3s\u001b[K\u001b[0m\u001b[0G16:36:00 \u001b[0;34mPROGRESS \u001b[0m[]  17% ( 52/308) 0s/4s\u001b[K\u001b[0m\u001b[0G16:36:00 \u001b[0;34mPROGRESS \u001b[0m[]  17% ( 53/308) 0s/3s\u001b[K\u001b[0m\u001b[0G16:36:00 \u001b[0;34mPROGRESS \u001b[0m[]  18% ( 54/308) 0s/4s\u001b[K\u001b[0m\u001b[0G16:36:00 \u001b[0;34mPROGRESS \u001b[0m[]  18% ( 55/308) 0s/3s\u001b[K\u001b[0m\u001b[0G16:36:00 \u001b[0;34mPROGRESS \u001b[0m[]  18% ( 56/308) 0s/4s\u001b[K\u001b[0m\u001b[0G16:36:00 \u001b[0;34mPROGRESS \u001b[0m[]  19% ( 57/308) 0s/3s\u001b[K\u001b[0m\u001b[0G16:36:00 \u001b[0;34mPROGRESS \u001b[0m[]  19% ( 58/308) 0s/3s\u001b[K\u001b[0m\u001b[0G16:36:00 \u001b[0;34mPROGRESS \u001b[0m[]  19% ( 59/308) 0s/3s\u001b[K\u001b[0m\u001b[0G16:36:00 \u001b[0;34mPROGRESS \u001b[0m[]  19% ( 60/308) 0s/3s\u001b[K\u001b[0m\u001b[0G16:36:00 \u001b[0;34mPROGRESS \u001b[0m[]  20% ( 61/308) 0s/3s\u001b[K\u001b[0m\u001b[0G16:36:00 \u001b[0;34mPROGRESS \u001b[0m[]  20% ( 62/308) 0s/3s\u001b[K\u001b[0m\u001b[0G16:36:00 \u001b[0;34mPROGRESS \u001b[0m[]  20% ( 63/308) 0s/3s\u001b[K\u001b[0m\u001b[0G16:36:00 \u001b[0;34mPROGRESS \u001b[0m[]  21% ( 64/308) 0s/3s\u001b[K\u001b[0m\u001b[0G16:36:00 \u001b[0;34mPROGRESS \u001b[0m[]  21% ( 65/308) 0s/3s\u001b[K\u001b[0m\u001b[0G16:36:00 \u001b[0;34mPROGRESS \u001b[0m[]  21% ( 66/308) 0s/3s\u001b[K\u001b[0m\u001b[0G16:36:00 \u001b[0;34mPROGRESS \u001b[0m[]  22% ( 67/308) 0s/3s\u001b[K\u001b[0m\u001b[0G16:36:00 \u001b[0;34mPROGRESS \u001b[0m[]  22% ( 68/308) 0s/3s\u001b[K\u001b[0m\u001b[0G16:36:00 \u001b[0;34mPROGRESS \u001b[0m[]  22% ( 69/308) 0s/3s\u001b[K\u001b[0m\u001b[0G16:36:00 \u001b[0;34mPROGRESS \u001b[0m[]  23% ( 70/308) 0s/3s\u001b[K\u001b[0m\u001b[0G16:36:00 \u001b[0;34mPROGRESS \u001b[0m[]  23% ( 71/308) 0s/3s\u001b[K\u001b[0m\u001b[0G16:36:00 \u001b[0;34mPROGRESS \u001b[0m[]  23% ( 72/308) 0s/3s\u001b[K\u001b[0m\u001b[0G16:36:00 \u001b[0;34mPROGRESS \u001b[0m[]  24% ( 73/308) 0s/3s\u001b[K\u001b[0m\u001b[0G16:36:00 \u001b[0;34mPROGRESS \u001b[0m[]  24% ( 74/308) 0s/3s\u001b[K\u001b[0m\u001b[0G16:36:00 \u001b[0;34mPROGRESS \u001b[0m[]  24% ( 75/308) 0s/3s\u001b[K\u001b[0m\u001b[0G16:36:00 \u001b[0;34mPROGRESS \u001b[0m[]  25% ( 76/308) 0s/3s\u001b[K\u001b[0m\u001b[0G16:36:00 \u001b[0;34mPROGRESS \u001b[0m[]  25% ( 77/308) 0s/3s\u001b[K\u001b[0m\u001b[0G16:36:00 \u001b[0;34mPROGRESS \u001b[0m[]  25% ( 78/308) 0s/3s\u001b[K\u001b[0m\u001b[0G16:36:00 \u001b[0;34mPROGRESS \u001b[0m[]  26% ( 79/308) 0s/3s\u001b[K\u001b[0m\u001b[0G16:36:00 \u001b[0;34mPROGRESS \u001b[0m[]  26% ( 80/308) 1s/3s\u001b[K\u001b[0m\u001b[0G16:36:00 \u001b[0;34mPROGRESS \u001b[0m[]  26% ( 81/308) 1s/3s\u001b[K\u001b[0m\u001b[0G16:36:00 \u001b[0;34mPROGRESS \u001b[0m[]  27% ( 82/308) 1s/3s\u001b[K\u001b[0m\u001b[0G16:36:00 \u001b[0;34mPROGRESS \u001b[0m[]  27% ( 83/308) 1s/3s\u001b[K\u001b[0m\u001b[0G16:36:00 \u001b[0;34mPROGRESS \u001b[0m[]  27% ( 84/308) 1s/3s\u001b[K\u001b[0m\u001b[0G16:36:00 \u001b[0;34mPROGRESS \u001b[0m[]  28% ( 85/308) 1s/3s\u001b[K\u001b[0m\u001b[0G16:36:00 \u001b[0;34mPROGRESS \u001b[0m[]  28% ( 86/308) 1s/3s\u001b[K\u001b[0m\u001b[0G16:36:00 \u001b[0;34mPROGRESS \u001b[0m[]  28% ( 87/308) 1s/3s\u001b[K\u001b[0m\u001b[0G16:36:00 \u001b[0;34mPROGRESS \u001b[0m[]  29% ( 88/308) 1s/3s\u001b[K\u001b[0m\u001b[0G16:36:00 \u001b[0;34mPROGRESS \u001b[0m[]  29% ( 89/308) 1s/3s\u001b[K\u001b[0m\u001b[0G16:36:01 \u001b[0;34mPROGRESS \u001b[0m[]  29% ( 90/308) 1s/3s\u001b[K\u001b[0m\u001b[0G16:36:01 \u001b[0;34mPROGRESS \u001b[0m[]  30% ( 91/308) 1s/3s\u001b[K\u001b[0m\u001b[0G16:36:01 \u001b[0;34mPROGRESS \u001b[0m[]  30% ( 92/308) 1s/3s\u001b[K\u001b[0m\u001b[0G16:36:01 \u001b[0;34mPROGRESS \u001b[0m[]  30% ( 93/308) 1s/3s\u001b[K\u001b[0m\u001b[0G16:36:01 \u001b[0;34mPROGRESS \u001b[0m[]  31% ( 94/308) 1s/3s\u001b[K\u001b[0m\u001b[0G16:36:01 \u001b[0;34mPROGRESS \u001b[0m[]  31% ( 95/308) 1s/3s\u001b[K\u001b[0m\u001b[0G16:36:01 \u001b[0;34mPROGRESS \u001b[0m[]  31% ( 96/308) 1s/3s\u001b[K\u001b[0m\u001b[0G16:36:01 \u001b[0;34mPROGRESS \u001b[0m[]  31% ( 97/308) 1s/3s\u001b[K\u001b[0m\u001b[0G16:36:01 \u001b[0;34mPROGRESS \u001b[0m[]  32% ( 98/308) 1s/3s\u001b[K\u001b[0m\u001b[0G16:36:01 \u001b[0;34mPROGRESS \u001b[0m[]  32% ( 99/308) 1s/3s\u001b[K\u001b[0m\u001b[0G16:36:01 \u001b[0;34mPROGRESS \u001b[0m[]  32% (100/308) 1s/3s\u001b[K\u001b[0m\u001b[0G16:36:01 \u001b[0;34mPROGRESS \u001b[0m[]  33% (101/308) 1s/3s\u001b[K\u001b[0m\u001b[0G16:36:01 \u001b[0;34mPROGRESS \u001b[0m[]  33% (102/308) 1s/3s\u001b[K\u001b[0m\u001b[0G16:36:01 \u001b[0;34mPROGRESS \u001b[0m[]  33% (103/308) 1s/3s\u001b[K\u001b[0m\u001b[0G16:36:01 \u001b[0;34mPROGRESS \u001b[0m[]  34% (104/308) 1s/3s\u001b[K\u001b[0m\u001b[0G16:36:01 \u001b[0;34mPROGRESS \u001b[0m[]  34% (105/308) 1s/3s\u001b[K\u001b[0m\u001b[0G16:36:01 \u001b[0;34mPROGRESS \u001b[0m[]  34% (106/308) 1s/3s\u001b[K\u001b[0m\u001b[0G16:36:01 \u001b[0;34mPROGRESS \u001b[0m[]  35% (107/308) 1s/3s\u001b[K\u001b[0m\u001b[0G16:36:01 \u001b[0;34mPROGRESS \u001b[0m[]  35% (108/308) 1s/3s\u001b[K\u001b[0m\u001b[0G16:36:01 \u001b[0;34mPROGRESS \u001b[0m[]  35% (109/308) 1s/3s\u001b[K\u001b[0m\u001b[0G16:36:01 \u001b[0;34mPROGRESS \u001b[0m[]  36% (110/308) 1s/3s\u001b[K\u001b[0m\u001b[0G16:36:01 \u001b[0;34mPROGRESS \u001b[0m[]  36% (111/308) 1s/3s\u001b[K\u001b[0m\u001b[0G16:36:01 \u001b[0;34mPROGRESS \u001b[0m[]  36% (112/308) 1s/3s\u001b[K\u001b[0m\u001b[0G16:36:01 \u001b[0;34mPROGRESS \u001b[0m[]  37% (113/308) 1s/3s\u001b[K\u001b[0m\u001b[0G16:36:01 \u001b[0;34mPROGRESS \u001b[0m[]  37% (114/308) 1s/3s\u001b[K\u001b[0m\u001b[0G16:36:01 \u001b[0;34mPROGRESS \u001b[0m[]  37% (115/308) 1s/3s\u001b[K\u001b[0m\u001b[0G16:36:01 \u001b[0;34mPROGRESS \u001b[0m[]  38% (116/308) 1s/3s\u001b[K\u001b[0m\u001b[0G16:36:01 \u001b[0;34mPROGRESS \u001b[0m[]  38% (117/308) 1s/3s\u001b[K\u001b[0m\u001b[0G16:36:01 \u001b[0;34mPROGRESS \u001b[0m[]  38% (118/308) 1s/3s\u001b[K\u001b[0m\u001b[0G16:36:01 \u001b[0;34mPROGRESS \u001b[0m[]  39% (119/308) 1s/3s\u001b[K\u001b[0m\u001b[0G16:36:01 \u001b[0;34mPROGRESS \u001b[0m[]  39% (120/308) 1s/3s\u001b[K\u001b[0m\u001b[0G16:36:01 \u001b[0;34mPROGRESS \u001b[0m[]  39% (121/308) 1s/3s\u001b[K\u001b[0m\u001b[0G16:36:01 \u001b[0;34mPROGRESS \u001b[0m[]  40% (122/308) 1s/3s\u001b[K\u001b[0m\u001b[0G16:36:01 \u001b[0;34mPROGRESS \u001b[0m[]  40% (123/308) 1s/3s\u001b[K\u001b[0m\u001b[0G16:36:01 \u001b[0;34mPROGRESS \u001b[0m[]  40% (124/308) 1s/3s\u001b[K\u001b[0m\u001b[0G16:36:01 \u001b[0;34mPROGRESS \u001b[0m[]  41% (125/308) 1s/3s\u001b[K\u001b[0m\u001b[0G16:36:01 \u001b[0;34mPROGRESS \u001b[0m[]  41% (126/308) 1s/3s\u001b[K\u001b[0m\u001b[0G16:36:01 \u001b[0;34mPROGRESS \u001b[0m[]  41% (127/308) 1s/3s\u001b[K\u001b[0m\u001b[0G16:36:01 \u001b[0;34mPROGRESS \u001b[0m[]  42% (128/308) 1s/3s\u001b[K\u001b[0m\u001b[0G16:36:01 \u001b[0;34mPROGRESS \u001b[0m[]  42% (129/308) 1s/3s\u001b[K\u001b[0m\u001b[0G16:36:01 \u001b[0;34mPROGRESS \u001b[0m[]  42% (130/308) 1s/3s\u001b[K\u001b[0m\u001b[0G16:36:01 \u001b[0;34mPROGRESS \u001b[0m[]  43% (131/308) 1s/3s\u001b[K\u001b[0m\u001b[0G16:36:01 \u001b[0;34mPROGRESS \u001b[0m[]  43% (132/308) 1s/3s\u001b[K\u001b[0m\u001b[0G16:36:01 \u001b[0;34mPROGRESS \u001b[0m[]  43% (133/308) 1s/3s\u001b[K\u001b[0m\u001b[0G16:36:01 \u001b[0;34mPROGRESS \u001b[0m[]  44% (134/308) 1s/3s\u001b[K\u001b[0m\u001b[0G16:36:01 \u001b[0;34mPROGRESS \u001b[0m[]  44% (135/308) 1s/3s\u001b[K\u001b[0m\u001b[0G16:36:01 \u001b[0;34mPROGRESS \u001b[0m[]  44% (136/308) 1s/3s\u001b[K\u001b[0m\u001b[0G16:36:01 \u001b[0;34mPROGRESS \u001b[0m[]  44% (137/308) 1s/3s\u001b[K\u001b[0m\u001b[0G16:36:01 \u001b[0;34mPROGRESS \u001b[0m[]  45% (138/308) 1s/3s\u001b[K\u001b[0m\u001b[0G16:36:01 \u001b[0;34mPROGRESS \u001b[0m[]  45% (139/308) 1s/3s\u001b[K\u001b[0m\u001b[0G16:36:01 \u001b[0;34mPROGRESS \u001b[0m[]  45% (140/308) 1s/3s\u001b[K\u001b[0m\u001b[0G16:36:01 \u001b[0;34mPROGRESS \u001b[0m[]  46% (141/308) 1s/3s\u001b[K\u001b[0m\u001b[0G16:36:01 \u001b[0;34mPROGRESS \u001b[0m[]  46% (142/308) 1s/3s\u001b[K\u001b[0m\u001b[0G16:36:01 \u001b[0;34mPROGRESS \u001b[0m[]  46% (143/308) 1s/3s\u001b[K\u001b[0m\u001b[0G16:36:01 \u001b[0;34mPROGRESS \u001b[0m[]  47% (144/308) 1s/3s\u001b[K\u001b[0m\u001b[0G16:36:01 \u001b[0;34mPROGRESS \u001b[0m[]  47% (145/308) 1s/3s\u001b[K\u001b[0m\u001b[0G16:36:01 \u001b[0;34mPROGRESS \u001b[0m[]  47% (146/308) 1s/3s\u001b[K\u001b[0m\u001b[0G16:36:01 \u001b[0;34mPROGRESS \u001b[0m[]  48% (147/308) 1s/3s\u001b[K\u001b[0m\u001b[0G16:36:01 \u001b[0;34mPROGRESS \u001b[0m[]  48% (148/308) 1s/3s\u001b[K\u001b[0m\u001b[0G16:36:01 \u001b[0;34mPROGRESS \u001b[0m[]  48% (149/308) 1s/3s\u001b[K\u001b[0m\u001b[0G16:36:01 \u001b[0;34mPROGRESS \u001b[0m[]  49% (150/308) 1s/3s\u001b[K\u001b[0m\u001b[0G16:36:01 \u001b[0;34mPROGRESS \u001b[0m[]  49% (151/308) 1s/3s\u001b[K\u001b[0m\u001b[0G16:36:01 \u001b[0;34mPROGRESS \u001b[0m[]  49% (152/308) 1s/3s\u001b[K\u001b[0m\u001b[0G16:36:01 \u001b[0;34mPROGRESS \u001b[0m[]  50% (153/308) 1s/3s\u001b[K\u001b[0m\u001b[0G16:36:01 \u001b[0;34mPROGRESS \u001b[0m[]  50% (154/308) 1s/3s\u001b[K\u001b[0m\u001b[0G16:36:01 \u001b[0;34mPROGRESS \u001b[0m[]  50% (155/308) 1s/3s\u001b[K\u001b[0m\u001b[0G16:36:01 \u001b[0;34mPROGRESS \u001b[0m[]  51% (156/308) 1s/3s\u001b[K\u001b[0m\u001b[0G16:36:01 \u001b[0;34mPROGRESS \u001b[0m[]  51% (157/308) 1s/3s\u001b[K\u001b[0m\u001b[0G16:36:01 \u001b[0;34mPROGRESS \u001b[0m[]  51% (158/308) 1s/3s\u001b[K\u001b[0m\u001b[0G16:36:01 \u001b[0;34mPROGRESS \u001b[0m[]  52% (159/308) 2s/3s\u001b[K\u001b[0m\u001b[0G16:36:01 \u001b[0;34mPROGRESS \u001b[0m[]  52% (160/308) 2s/3s\u001b[K\u001b[0m\u001b[0G16:36:01 \u001b[0;34mPROGRESS \u001b[0m[]  52% (161/308) 2s/3s\u001b[K\u001b[0m\u001b[0G16:36:01 \u001b[0;34mPROGRESS \u001b[0m[]  53% (162/308) 2s/3s\u001b[K\u001b[0m\u001b[0G16:36:01 \u001b[0;34mPROGRESS \u001b[0m[]  53% (163/308) 2s/3s\u001b[K\u001b[0m\u001b[0G16:36:01 \u001b[0;34mPROGRESS \u001b[0m[]  53% (164/308) 2s/3s\u001b[K\u001b[0m\u001b[0G16:36:01 \u001b[0;34mPROGRESS \u001b[0m[]  54% (165/308) 2s/3s\u001b[K\u001b[0m\u001b[0G16:36:01 \u001b[0;34mPROGRESS \u001b[0m[]  54% (166/308) 2s/3s\u001b[K\u001b[0m\u001b[0G16:36:01 \u001b[0;34mPROGRESS \u001b[0m[]  54% (167/308) 2s/3s\u001b[K\u001b[0m\u001b[0G16:36:01 \u001b[0;34mPROGRESS \u001b[0m[]  55% (168/308) 2s/3s\u001b[K\u001b[0m\u001b[0G16:36:02 \u001b[0;34mPROGRESS \u001b[0m[]  55% (169/308) 2s/3s\u001b[K\u001b[0m\u001b[0G16:36:02 \u001b[0;34mPROGRESS \u001b[0m[]  55% (170/308) 2s/3s\u001b[K\u001b[0m\u001b[0G16:36:02 \u001b[0;34mPROGRESS \u001b[0m[]  56% (171/308) 2s/3s\u001b[K\u001b[0m\u001b[0G16:36:02 \u001b[0;34mPROGRESS \u001b[0m[]  56% (172/308) 2s/3s\u001b[K\u001b[0m\u001b[0G16:36:02 \u001b[0;34mPROGRESS \u001b[0m[]  56% (173/308) 2s/3s\u001b[K\u001b[0m\u001b[0G16:36:02 \u001b[0;34mPROGRESS \u001b[0m[]  56% (174/308) 2s/3s\u001b[K\u001b[0m\u001b[0G16:36:02 \u001b[0;34mPROGRESS \u001b[0m[]  57% (175/308) 2s/3s\u001b[K\u001b[0m\u001b[0G16:36:02 \u001b[0;34mPROGRESS \u001b[0m[]  57% (176/308) 2s/3s\u001b[K\u001b[0m\u001b[0G16:36:02 \u001b[0;34mPROGRESS \u001b[0m[]  57% (177/308) 2s/3s\u001b[K\u001b[0m\u001b[0G16:36:02 \u001b[0;34mPROGRESS \u001b[0m[]  58% (178/308) 2s/3s\u001b[K\u001b[0m\u001b[0G16:36:02 \u001b[0;34mPROGRESS \u001b[0m[]  58% (179/308) 2s/3s\u001b[K\u001b[0m\u001b[0G16:36:02 \u001b[0;34mPROGRESS \u001b[0m[]  58% (180/308) 2s/3s\u001b[K\u001b[0m\u001b[0G16:36:02 \u001b[0;34mPROGRESS \u001b[0m[]  59% (181/308) 2s/3s\u001b[K\u001b[0m\u001b[0G16:36:02 \u001b[0;34mPROGRESS \u001b[0m[]  59% (182/308) 2s/3s\u001b[K\u001b[0m\u001b[0G16:36:02 \u001b[0;34mPROGRESS \u001b[0m[]  59% (183/308) 2s/3s\u001b[K\u001b[0m\u001b[0G16:36:02 \u001b[0;34mPROGRESS \u001b[0m[]  60% (184/308) 2s/3s\u001b[K\u001b[0m\u001b[0G16:36:02 \u001b[0;34mPROGRESS \u001b[0m[]  60% (185/308) 2s/3s\u001b[K\u001b[0m\u001b[0G16:36:02 \u001b[0;34mPROGRESS \u001b[0m[]  60% (186/308) 2s/3s\u001b[K\u001b[0m\u001b[0G16:36:02 \u001b[0;34mPROGRESS \u001b[0m[]  61% (187/308) 2s/3s\u001b[K\u001b[0m\u001b[0G16:36:02 \u001b[0;34mPROGRESS \u001b[0m[]  61% (188/308) 2s/3s\u001b[K\u001b[0m\u001b[0G16:36:02 \u001b[0;34mPROGRESS \u001b[0m[]  61% (189/308) 2s/3s\u001b[K\u001b[0m\u001b[0G16:36:02 \u001b[0;34mPROGRESS \u001b[0m[]  62% (190/308) 2s/3s\u001b[K\u001b[0m\u001b[0G16:36:02 \u001b[0;34mPROGRESS \u001b[0m[]  62% (191/308) 2s/3s\u001b[K\u001b[0m\u001b[0G16:36:02 \u001b[0;34mPROGRESS \u001b[0m[]  62% (192/308) 2s/3s\u001b[K\u001b[0m\u001b[0G16:36:02 \u001b[0;34mPROGRESS \u001b[0m[]  63% (193/308) 2s/3s\u001b[K\u001b[0m\u001b[0G16:36:02 \u001b[0;34mPROGRESS \u001b[0m[]  63% (194/308) 2s/3s\u001b[K\u001b[0m\u001b[0G16:36:02 \u001b[0;34mPROGRESS \u001b[0m[]  63% (195/308) 2s/3s\u001b[K\u001b[0m\u001b[0G16:36:02 \u001b[0;34mPROGRESS \u001b[0m[]  64% (196/308) 2s/3s\u001b[K\u001b[0m\u001b[0G16:36:02 \u001b[0;34mPROGRESS \u001b[0m[]  64% (197/308) 2s/3s\u001b[K\u001b[0m\u001b[0G16:36:02 \u001b[0;34mPROGRESS \u001b[0m[]  64% (198/308) 2s/3s\u001b[K\u001b[0m\u001b[0G16:36:02 \u001b[0;34mPROGRESS \u001b[0m[]  65% (199/308) 2s/3s\u001b[K\u001b[0m\u001b[0G16:36:02 \u001b[0;34mPROGRESS \u001b[0m[]  65% (200/308) 2s/3s\u001b[K\u001b[0m\u001b[0G16:36:02 \u001b[0;34mPROGRESS \u001b[0m[]  65% (201/308) 2s/3s\u001b[K\u001b[0m\u001b[0G16:36:02 \u001b[0;34mPROGRESS \u001b[0m[]  66% (202/308) 2s/3s\u001b[K\u001b[0m\u001b[0G16:36:02 \u001b[0;34mPROGRESS \u001b[0m[]  66% (203/308) 2s/3s\u001b[K\u001b[0m\u001b[0G16:36:02 \u001b[0;34mPROGRESS \u001b[0m[]  66% (204/308) 2s/3s\u001b[K\u001b[0m\u001b[0G16:36:02 \u001b[0;34mPROGRESS \u001b[0m[]  67% (205/308) 2s/3s\u001b[K\u001b[0m\u001b[0G16:36:02 \u001b[0;34mPROGRESS \u001b[0m[]  67% (206/308) 2s/3s\u001b[K\u001b[0m\u001b[0G16:36:02 \u001b[0;34mPROGRESS \u001b[0m[]  67% (207/308) 2s/3s\u001b[K\u001b[0m\u001b[0G16:36:02 \u001b[0;34mPROGRESS \u001b[0m[]  68% (208/308) 2s/3s\u001b[K\u001b[0m\u001b[0G16:36:02 \u001b[0;34mPROGRESS \u001b[0m[]  68% (209/308) 2s/3s\u001b[K\u001b[0m\u001b[0G16:36:02 \u001b[0;34mPROGRESS \u001b[0m[]  68% (210/308) 2s/3s\u001b[K\u001b[0m\u001b[0G16:36:02 \u001b[0;34mPROGRESS \u001b[0m[]  69% (211/308) 2s/3s\u001b[K\u001b[0m\u001b[0G16:36:02 \u001b[0;34mPROGRESS \u001b[0m[]  69% (212/308) 2s/3s\u001b[K\u001b[0m\u001b[0G16:36:02 \u001b[0;34mPROGRESS \u001b[0m[]  69% (213/308) 2s/3s\u001b[K\u001b[0m\u001b[0G16:36:02 \u001b[0;34mPROGRESS \u001b[0m[]  69% (214/308) 2s/3s\u001b[K\u001b[0m\u001b[0G16:36:02 \u001b[0;34mPROGRESS \u001b[0m[]  70% (215/308) 2s/3s\u001b[K\u001b[0m\u001b[0G16:36:02 \u001b[0;34mPROGRESS \u001b[0m[]  70% (216/308) 2s/3s\u001b[K\u001b[0m\u001b[0G16:36:02 \u001b[0;34mPROGRESS \u001b[0m[]  70% (217/308) 2s/3s\u001b[K\u001b[0m\u001b[0G16:36:02 \u001b[0;34mPROGRESS \u001b[0m[]  71% (218/308) 2s/3s\u001b[K\u001b[0m\u001b[0G16:36:02 \u001b[0;34mPROGRESS \u001b[0m[]  71% (219/308) 2s/3s\u001b[K\u001b[0m\u001b[0G16:36:02 \u001b[0;34mPROGRESS \u001b[0m[]  71% (220/308) 2s/3s\u001b[K\u001b[0m\u001b[0G16:36:02 \u001b[0;34mPROGRESS \u001b[0m[]  72% (221/308) 2s/3s\u001b[K\u001b[0m\u001b[0G16:36:02 \u001b[0;34mPROGRESS \u001b[0m[]  72% (222/308) 2s/3s\u001b[K\u001b[0m\u001b[0G16:36:02 \u001b[0;34mPROGRESS \u001b[0m[]  72% (223/308) 2s/3s\u001b[K\u001b[0m\u001b[0G16:36:02 \u001b[0;34mPROGRESS \u001b[0m[]  73% (224/308) 2s/3s\u001b[K\u001b[0m\u001b[0G16:36:02 \u001b[0;34mPROGRESS \u001b[0m[]  73% (225/308) 2s/3s\u001b[K\u001b[0m\u001b[0G16:36:02 \u001b[0;34mPROGRESS \u001b[0m[]  73% (226/308) 2s/3s\u001b[K\u001b[0m\u001b[0G16:36:02 \u001b[0;34mPROGRESS \u001b[0m[]  74% (227/308) 2s/3s\u001b[K\u001b[0m\u001b[0G16:36:02 \u001b[0;34mPROGRESS \u001b[0m[]  74% (228/308) 2s/3s\u001b[K\u001b[0m\u001b[0G16:36:02 \u001b[0;34mPROGRESS \u001b[0m[]  74% (229/308) 2s/3s\u001b[K\u001b[0m\u001b[0G16:36:02 \u001b[0;34mPROGRESS \u001b[0m[]  75% (230/308) 2s/3s\u001b[K\u001b[0m\u001b[0G16:36:02 \u001b[0;34mPROGRESS \u001b[0m[]  75% (231/308) 2s/3s\u001b[K\u001b[0m\u001b[0G16:36:02 \u001b[0;34mPROGRESS \u001b[0m[]  75% (232/308) 2s/3s\u001b[K\u001b[0m\u001b[0G16:36:02 \u001b[0;34mPROGRESS \u001b[0m[]  76% (233/308) 2s/3s\u001b[K\u001b[0m\u001b[0G16:36:02 \u001b[0;34mPROGRESS \u001b[0m[]  76% (234/308) 2s/3s\u001b[K\u001b[0m\u001b[0G16:36:02 \u001b[0;34mPROGRESS \u001b[0m[]  76% (235/308) 2s/3s\u001b[K\u001b[0m\u001b[0G16:36:02 \u001b[0;34mPROGRESS \u001b[0m[]  77% (236/308) 2s/3s\u001b[K\u001b[0m\u001b[0G16:36:02 \u001b[0;34mPROGRESS \u001b[0m[]  77% (237/308) 2s/3s\u001b[K\u001b[0m\u001b[0G16:36:02 \u001b[0;34mPROGRESS \u001b[0m[]  77% (238/308) 3s/3s\u001b[K\u001b[0m\u001b[0G16:36:02 \u001b[0;34mPROGRESS \u001b[0m[]  78% (239/308) 3s/3s\u001b[K\u001b[0m\u001b[0G16:36:02 \u001b[0;34mPROGRESS \u001b[0m[]  78% (240/308) 3s/3s\u001b[K\u001b[0m\u001b[0G16:36:02 \u001b[0;34mPROGRESS \u001b[0m[]  78% (241/308) 3s/3s\u001b[K\u001b[0m\u001b[0G16:36:02 \u001b[0;34mPROGRESS \u001b[0m[]  79% (242/308) 3s/3s\u001b[K\u001b[0m\u001b[0G16:36:02 \u001b[0;34mPROGRESS \u001b[0m[]  79% (243/308) 3s/3s\u001b[K\u001b[0m\u001b[0G16:36:02 \u001b[0;34mPROGRESS \u001b[0m[]  79% (244/308) 3s/3s\u001b[K\u001b[0m\u001b[0G16:36:02 \u001b[0;34mPROGRESS \u001b[0m[]  80% (245/308) 3s/3s\u001b[K\u001b[0m\u001b[0G16:36:02 \u001b[0;34mPROGRESS \u001b[0m[]  80% (246/308) 3s/3s\u001b[K\u001b[0m\u001b[0G16:36:02 \u001b[0;34mPROGRESS \u001b[0m[]  80% (247/308) 3s/3s\u001b[K\u001b[0m\u001b[0G16:36:02 \u001b[0;34mPROGRESS \u001b[0m[]  81% (248/308) 3s/3s\u001b[K\u001b[0m\u001b[0G16:36:03 \u001b[0;34mPROGRESS \u001b[0m[]  81% (249/308) 3s/3s\u001b[K\u001b[0m\u001b[0G16:36:03 \u001b[0;34mPROGRESS \u001b[0m[]  81% (250/308) 3s/3s\u001b[K\u001b[0m\u001b[0G16:36:03 \u001b[0;34mPROGRESS \u001b[0m[]  81% (251/308) 3s/3s\u001b[K\u001b[0m\u001b[0G16:36:03 \u001b[0;34mPROGRESS \u001b[0m[]  82% (252/308) 3s/3s\u001b[K\u001b[0m\u001b[0G16:36:03 \u001b[0;34mPROGRESS \u001b[0m[]  82% (253/308) 3s/3s\u001b[K\u001b[0m\u001b[0G16:36:03 \u001b[0;34mPROGRESS \u001b[0m[]  82% (254/308) 3s/3s\u001b[K\u001b[0m\u001b[0G16:36:03 \u001b[0;34mPROGRESS \u001b[0m[]  83% (255/308) 3s/3s\u001b[K\u001b[0m\u001b[0G16:36:03 \u001b[0;34mPROGRESS \u001b[0m[]  83% (256/308) 3s/3s\u001b[K\u001b[0m\u001b[0G16:36:03 \u001b[0;34mPROGRESS \u001b[0m[]  83% (257/308) 3s/3s\u001b[K\u001b[0m\u001b[0G16:36:03 \u001b[0;34mPROGRESS \u001b[0m[]  84% (258/308) 3s/3s\u001b[K\u001b[0m\u001b[0G16:36:03 \u001b[0;34mPROGRESS \u001b[0m[]  84% (259/308) 3s/3s\u001b[K\u001b[0m\u001b[0G16:36:03 \u001b[0;34mPROGRESS \u001b[0m[]  84% (260/308) 3s/3s\u001b[K\u001b[0m\u001b[0G16:36:03 \u001b[0;34mPROGRESS \u001b[0m[]  85% (261/308) 3s/3s\u001b[K\u001b[0m\u001b[0G16:36:03 \u001b[0;34mPROGRESS \u001b[0m[]  85% (262/308) 3s/3s\u001b[K\u001b[0m\u001b[0G16:36:03 \u001b[0;34mPROGRESS \u001b[0m[]  85% (263/308) 3s/3s\u001b[K\u001b[0m\u001b[0G16:36:03 \u001b[0;34mPROGRESS \u001b[0m[]  86% (264/308) 3s/3s\u001b[K\u001b[0m\u001b[0G16:36:03 \u001b[0;34mPROGRESS \u001b[0m[]  86% (265/308) 3s/3s\u001b[K\u001b[0m\u001b[0G16:36:03 \u001b[0;34mPROGRESS \u001b[0m[]  86% (266/308) 3s/3s\u001b[K\u001b[0m\u001b[0G16:36:03 \u001b[0;34mPROGRESS \u001b[0m[]  87% (267/308) 3s/3s\u001b[K\u001b[0m\u001b[0G16:36:03 \u001b[0;34mPROGRESS \u001b[0m[]  87% (268/308) 3s/3s\u001b[K\u001b[0m\u001b[0G16:36:03 \u001b[0;34mPROGRESS \u001b[0m[]  87% (269/308) 3s/3s\u001b[K\u001b[0m\u001b[0G16:36:03 \u001b[0;34mPROGRESS \u001b[0m[]  88% (270/308) 3s/3s\u001b[K\u001b[0m\u001b[0G16:36:03 \u001b[0;34mPROGRESS \u001b[0m[]  88% (271/308) 3s/3s\u001b[K\u001b[0m\u001b[0G16:36:03 \u001b[0;34mPROGRESS \u001b[0m[]  88% (272/308) 3s/3s\u001b[K\u001b[0m\u001b[0G16:36:03 \u001b[0;34mPROGRESS \u001b[0m[]  89% (273/308) 3s/3s\u001b[K\u001b[0m\u001b[0G16:36:03 \u001b[0;34mPROGRESS \u001b[0m[]  89% (274/308) 3s/3s\u001b[K\u001b[0m\u001b[0G16:36:03 \u001b[0;34mPROGRESS \u001b[0m[]  89% (275/308) 3s/3s\u001b[K\u001b[0m\u001b[0G16:36:03 \u001b[0;34mPROGRESS \u001b[0m[]  90% (276/308) 3s/3s\u001b[K\u001b[0m\u001b[0G16:36:03 \u001b[0;34mPROGRESS \u001b[0m[]  90% (277/308) 3s/3s\u001b[K\u001b[0m\u001b[0G16:36:03 \u001b[0;34mPROGRESS \u001b[0m[]  90% (278/308) 3s/3s\u001b[K\u001b[0m\u001b[0G16:36:03 \u001b[0;34mPROGRESS \u001b[0m[]  91% (279/308) 3s/3s\u001b[K\u001b[0m\u001b[0G16:36:03 \u001b[0;34mPROGRESS \u001b[0m[]  91% (280/308) 3s/3s\u001b[K\u001b[0m\u001b[0G16:36:03 \u001b[0;34mPROGRESS \u001b[0m[]  91% (281/308) 3s/3s\u001b[K\u001b[0m\u001b[0G16:36:03 \u001b[0;34mPROGRESS \u001b[0m[]  92% (282/308) 3s/3s\u001b[K\u001b[0m\u001b[0G16:36:03 \u001b[0;34mPROGRESS \u001b[0m[]  92% (283/308) 3s/3s\u001b[K\u001b[0m\u001b[0G16:36:03 \u001b[0;34mPROGRESS \u001b[0m[]  92% (284/308) 3s/3s\u001b[K\u001b[0m\u001b[0G16:36:03 \u001b[0;34mPROGRESS \u001b[0m[]  93% (285/308) 3s/3s\u001b[K\u001b[0m\u001b[0G16:36:03 \u001b[0;34mPROGRESS \u001b[0m[]  93% (286/308) 3s/3s\u001b[K\u001b[0m\u001b[0G16:36:03 \u001b[0;34mPROGRESS \u001b[0m[]  93% (287/308) 3s/3s\u001b[K\u001b[0m\u001b[0G16:36:03 \u001b[0;34mPROGRESS \u001b[0m[]  94% (288/308) 3s/3s\u001b[K\u001b[0m\u001b[0G16:36:03 \u001b[0;34mPROGRESS \u001b[0m[]  94% (289/308) 3s/3s\u001b[K\u001b[0m\u001b[0G16:36:03 \u001b[0;34mPROGRESS \u001b[0m[]  94% (290/308) 3s/3s\u001b[K\u001b[0m\u001b[0G16:36:03 \u001b[0;34mPROGRESS \u001b[0m[]  94% (291/308) 3s/3s\u001b[K\u001b[0m\u001b[0G16:36:03 \u001b[0;34mPROGRESS \u001b[0m[]  95% (292/308) 3s/3s\u001b[K\u001b[0m\u001b[0G16:36:03 \u001b[0;34mPROGRESS \u001b[0m[]  95% (293/308) 3s/3s\u001b[K\u001b[0m\u001b[0G16:36:03 \u001b[0;34mPROGRESS \u001b[0m[]  95% (294/308) 3s/3s\u001b[K\u001b[0m\u001b[0G16:36:03 \u001b[0;34mPROGRESS \u001b[0m[]  96% (295/308) 3s/3s\u001b[K\u001b[0m\u001b[0G16:36:03 \u001b[0;34mPROGRESS \u001b[0m[]  96% (296/308) 3s/3s\u001b[K\u001b[0m\u001b[0G16:36:03 \u001b[0;34mPROGRESS \u001b[0m[]  96% (297/308) 3s/3s\u001b[K\u001b[0m\u001b[0G16:36:03 \u001b[0;34mPROGRESS \u001b[0m[]  97% (298/308) 3s/3s\u001b[K\u001b[0m\u001b[0G16:36:03 \u001b[0;34mPROGRESS \u001b[0m[]  97% (299/308) 3s/3s\u001b[K\u001b[0m\u001b[0G16:36:03 \u001b[0;34mPROGRESS \u001b[0m[]  97% (300/308) 3s/3s\u001b[K\u001b[0m\u001b[0G16:36:03 \u001b[0;34mPROGRESS \u001b[0m[]  98% (301/308) 3s/3s\u001b[K\u001b[0m\u001b[0G16:36:03 \u001b[0;34mPROGRESS \u001b[0m[]  98% (302/308) 3s/3s\u001b[K\u001b[0m\u001b[0G16:36:03 \u001b[0;34mPROGRESS \u001b[0m[]  98% (303/308) 3s/3s\u001b[K\u001b[0m\u001b[0G16:36:03 \u001b[0;34mPROGRESS \u001b[0m[]  99% (304/308) 3s/3s\u001b[K\u001b[0m\u001b[0G16:36:03 \u001b[0;34mPROGRESS \u001b[0m[]  99% (305/308) 3s/3s\u001b[K\u001b[0m\u001b[0G16:36:03 \u001b[0;34mPROGRESS \u001b[0m[]  99% (306/308) 3s/3s\u001b[K\u001b[0m\u001b[0G16:36:03 \u001b[0;34mPROGRESS \u001b[0m[] 100% (307/308) 3s/3s\u001b[K\u001b[0m\u001b[0G16:36:03 \u001b[0;34mPROGRESS \u001b[0m[] 100% (308/308) 3s/3s\u001b[K\u001b[0m\u001b[0G16:36:03 \u001b[0;32mSUCCESS  \u001b[0mLoaded 308 images after 3s\u001b[K\u001b[0m\n",
            "16:36:03 \u001b[0;36mINFO     \u001b[0m  cam_aabb=[min=[-3.89483,0.912001,-9.971], max=[4.61132,1.32039,2.313]]\u001b[K\u001b[0m\n",
            "16:36:04 \u001b[0;36mINFO     \u001b[0mLoading network config from: /content/instant-ngp/configs/nerf/tesla_t4.json\u001b[K\u001b[0m\n",
            "Traceback (most recent call last):\n",
            "  File \"/content/instant-ngp/./scripts/run.py\", line 125, in <module>\n",
            "    testbed.reload_network_from_file(args.network)\n",
            "RuntimeError: [json.exception.type_error.306] cannot use value() with null\n",
            "\u001b[0m"
          ]
        }
      ]
    },
    {
      "cell_type": "markdown",
      "metadata": {
        "id": "YPr9nJ-w2_0J"
      },
      "source": [
        "## 8. Training a model on our scene\n",
        "\n",
        "\n"
      ]
    },
    {
      "cell_type": "markdown",
      "source": [
        "train_steps refers to the number of training iterations the NN will perform during training.\n",
        "\n",
        "Quick test: 200 - 500 steps (poor quality, but v fast)\n",
        "1000-3000 - decent\n",
        "5000 - 10000 - good\n",
        "20000+ - high"
      ],
      "metadata": {
        "id": "bVR2JqNgcefz"
      }
    },
    {
      "cell_type": "code",
      "source": [
        "os.environ['TCNN_CUDA_ARCHITECTURES'] = '75'"
      ],
      "metadata": {
        "id": "RlSKUWlEme9m"
      },
      "execution_count": null,
      "outputs": []
    },
    {
      "cell_type": "code",
      "execution_count": null,
      "metadata": {
        "colab": {
          "base_uri": "https://localhost:8080/"
        },
        "id": "aijHZB0zJwWB",
        "outputId": "f234d3d4-1187-46c4-a952-24161c6725e7"
      },
      "outputs": [
        {
          "output_type": "stream",
          "name": "stdout",
          "text": [
            "\u001b[0m21:33:15 \u001b[0;32mSUCCESS  \u001b[0mInitialized CUDA 12.5. Active GPU is #0: Tesla T4 [75]\u001b[K\u001b[0m\n",
            "21:33:15 \u001b[0;36mINFO     \u001b[0mLoading NeRF dataset from\u001b[K\u001b[0m\n",
            "21:33:15 \u001b[0;36mINFO     \u001b[0m  /content/drive/MyDrive/nerf_scenes/corridor_record3d_small/transforms.json\u001b[K\u001b[0m\n",
            "21:33:15 \u001b[0;34mPROGRESS \u001b[0m[]   0% (  0/205)  0s/inf\u001b[K\u001b[0m\u001b[0G21:33:15 \u001b[0;34mPROGRESS \u001b[0m[]   0% (  1/205) 0s/8s\u001b[K\u001b[0m\u001b[0G21:33:15 \u001b[0;34mPROGRESS \u001b[0m[]   1% (  2/205) 0s/6s\u001b[K\u001b[0m\u001b[0G21:33:15 \u001b[0;34mPROGRESS \u001b[0m[]   1% (  3/205) 0s/4s\u001b[K\u001b[0m\u001b[0G21:33:15 \u001b[0;34mPROGRESS \u001b[0m[]   2% (  4/205) 0s/5s\u001b[K\u001b[0m\u001b[0G21:33:15 \u001b[0;34mPROGRESS \u001b[0m[]   2% (  5/205) 0s/4s\u001b[K\u001b[0m\u001b[0G21:33:15 \u001b[0;34mPROGRESS \u001b[0m[]   3% (  6/205) 0s/5s\u001b[K\u001b[0m\u001b[0G21:33:15 \u001b[0;34mPROGRESS \u001b[0m[]   3% (  7/205) 0s/4s\u001b[K\u001b[0m\u001b[0G21:33:15 \u001b[0;34mPROGRESS \u001b[0m[]   4% (  8/205) 0s/5s\u001b[K\u001b[0m\u001b[0G21:33:15 \u001b[0;34mPROGRESS \u001b[0m[]   4% (  9/205) 0s/4s\u001b[K\u001b[0m\u001b[0G21:33:15 \u001b[0;34mPROGRESS \u001b[0m[]   5% ( 10/205) 0s/4s\u001b[K\u001b[0m\u001b[0G21:33:15 \u001b[0;34mPROGRESS \u001b[0m[]   5% ( 11/205) 0s/4s\u001b[K\u001b[0m\u001b[0G21:33:15 \u001b[0;34mPROGRESS \u001b[0m[]   6% ( 12/205) 0s/4s\u001b[K\u001b[0m\u001b[0G21:33:15 \u001b[0;34mPROGRESS \u001b[0m[]   6% ( 13/205) 0s/4s\u001b[K\u001b[0m\u001b[0G21:33:15 \u001b[0;34mPROGRESS \u001b[0m[]   7% ( 14/205) 0s/4s\u001b[K\u001b[0m\u001b[0G21:33:15 \u001b[0;34mPROGRESS \u001b[0m[]   7% ( 15/205) 0s/4s\u001b[K\u001b[0m\u001b[0G21:33:15 \u001b[0;34mPROGRESS \u001b[0m[]   8% ( 16/205) 0s/4s\u001b[K\u001b[0m\u001b[0G21:33:15 \u001b[0;34mPROGRESS \u001b[0m[]   8% ( 17/205) 0s/4s\u001b[K\u001b[0m\u001b[0G21:33:15 \u001b[0;34mPROGRESS \u001b[0m[]   9% ( 18/205) 0s/4s\u001b[K\u001b[0m\u001b[0G21:33:15 \u001b[0;34mPROGRESS \u001b[0m[]   9% ( 19/205) 0s/4s\u001b[K\u001b[0m\u001b[0G21:33:15 \u001b[0;34mPROGRESS \u001b[0m[]  10% ( 20/205) 0s/4s\u001b[K\u001b[0m\u001b[0G21:33:15 \u001b[0;34mPROGRESS \u001b[0m[]  10% ( 21/205) 0s/4s\u001b[K\u001b[0m\u001b[0G21:33:15 \u001b[0;34mPROGRESS \u001b[0m[]  11% ( 22/205) 0s/4s\u001b[K\u001b[0m\u001b[0G21:33:15 \u001b[0;34mPROGRESS \u001b[0m[]  11% ( 23/205) 0s/4s\u001b[K\u001b[0m\u001b[0G21:33:15 \u001b[0;34mPROGRESS \u001b[0m[]  12% ( 24/205) 0s/4s\u001b[K\u001b[0m\u001b[0G21:33:15 \u001b[0;34mPROGRESS \u001b[0m[]  12% ( 25/205) 0s/4s\u001b[K\u001b[0m\u001b[0G21:33:15 \u001b[0;34mPROGRESS \u001b[0m[]  13% ( 26/205) 0s/4s\u001b[K\u001b[0m\u001b[0G21:33:15 \u001b[0;34mPROGRESS \u001b[0m[]  13% ( 27/205) 0s/4s\u001b[K\u001b[0m\u001b[0G21:33:15 \u001b[0;34mPROGRESS \u001b[0m[]  14% ( 28/205) 0s/4s\u001b[K\u001b[0m\u001b[0G21:33:15 \u001b[0;34mPROGRESS \u001b[0m[]  14% ( 29/205) 0s/4s\u001b[K\u001b[0m\u001b[0G21:33:15 \u001b[0;34mPROGRESS \u001b[0m[]  15% ( 30/205) 0s/4s\u001b[K\u001b[0m\u001b[0G21:33:15 \u001b[0;34mPROGRESS \u001b[0m[]  15% ( 31/205) 0s/4s\u001b[K\u001b[0m\u001b[0G21:33:15 \u001b[0;34mPROGRESS \u001b[0m[]  16% ( 32/205) 0s/4s\u001b[K\u001b[0m\u001b[0G21:33:15 \u001b[0;34mPROGRESS \u001b[0m[]  16% ( 33/205) 0s/4s\u001b[K\u001b[0m\u001b[0G21:33:15 \u001b[0;34mPROGRESS \u001b[0m[]  17% ( 34/205) 0s/4s\u001b[K\u001b[0m\u001b[0G21:33:15 \u001b[0;34mPROGRESS \u001b[0m[]  17% ( 35/205) 0s/4s\u001b[K\u001b[0m\u001b[0G21:33:15 \u001b[0;34mPROGRESS \u001b[0m[]  18% ( 36/205) 0s/4s\u001b[K\u001b[0m\u001b[0G21:33:15 \u001b[0;34mPROGRESS \u001b[0m[]  18% ( 37/205) 0s/4s\u001b[K\u001b[0m\u001b[0G21:33:15 \u001b[0;34mPROGRESS \u001b[0m[]  19% ( 38/205) 0s/4s\u001b[K\u001b[0m\u001b[0G21:33:15 \u001b[0;34mPROGRESS \u001b[0m[]  19% ( 39/205) 0s/4s\u001b[K\u001b[0m\u001b[0G21:33:15 \u001b[0;34mPROGRESS \u001b[0m[]  20% ( 40/205) 0s/4s\u001b[K\u001b[0m\u001b[0G21:33:15 \u001b[0;34mPROGRESS \u001b[0m[]  20% ( 41/205) 0s/3s\u001b[K\u001b[0m\u001b[0G21:33:15 \u001b[0;34mPROGRESS \u001b[0m[]  20% ( 42/205) 0s/3s\u001b[K\u001b[0m\u001b[0G21:33:15 \u001b[0;34mPROGRESS \u001b[0m[]  21% ( 43/205) 0s/3s\u001b[K\u001b[0m\u001b[0G21:33:15 \u001b[0;34mPROGRESS \u001b[0m[]  21% ( 44/205) 0s/3s\u001b[K\u001b[0m\u001b[0G21:33:15 \u001b[0;34mPROGRESS \u001b[0m[]  22% ( 45/205) 0s/3s\u001b[K\u001b[0m\u001b[0G21:33:16 \u001b[0;34mPROGRESS \u001b[0m[]  22% ( 46/205) 0s/3s\u001b[K\u001b[0m\u001b[0G21:33:16 \u001b[0;34mPROGRESS \u001b[0m[]  23% ( 47/205) 0s/3s\u001b[K\u001b[0m\u001b[0G21:33:16 \u001b[0;34mPROGRESS \u001b[0m[]  23% ( 48/205) 0s/3s\u001b[K\u001b[0m\u001b[0G21:33:16 \u001b[0;34mPROGRESS \u001b[0m[]  24% ( 49/205) 0s/3s\u001b[K\u001b[0m\u001b[0G21:33:16 \u001b[0;34mPROGRESS \u001b[0m[]  24% ( 50/205) 0s/3s\u001b[K\u001b[0m\u001b[0G21:33:16 \u001b[0;34mPROGRESS \u001b[0m[]  25% ( 51/205) 0s/3s\u001b[K\u001b[0m\u001b[0G21:33:16 \u001b[0;34mPROGRESS \u001b[0m[]  25% ( 52/205) 0s/3s\u001b[K\u001b[0m\u001b[0G21:33:16 \u001b[0;34mPROGRESS \u001b[0m[]  26% ( 53/205) 0s/3s\u001b[K\u001b[0m\u001b[0G21:33:16 \u001b[0;34mPROGRESS \u001b[0m[]  26% ( 54/205) 0s/3s\u001b[K\u001b[0m\u001b[0G21:33:16 \u001b[0;34mPROGRESS \u001b[0m[]  27% ( 55/205) 0s/3s\u001b[K\u001b[0m\u001b[0G21:33:16 \u001b[0;34mPROGRESS \u001b[0m[]  27% ( 56/205) 1s/3s\u001b[K\u001b[0m\u001b[0G21:33:16 \u001b[0;34mPROGRESS \u001b[0m[]  28% ( 57/205) 1s/3s\u001b[K\u001b[0m\u001b[0G21:33:16 \u001b[0;34mPROGRESS \u001b[0m[]  28% ( 58/205) 1s/3s\u001b[K\u001b[0m\u001b[0G21:33:16 \u001b[0;34mPROGRESS \u001b[0m[]  29% ( 59/205) 1s/3s\u001b[K\u001b[0m\u001b[0G21:33:16 \u001b[0;34mPROGRESS \u001b[0m[]  29% ( 60/205) 1s/3s\u001b[K\u001b[0m\u001b[0G21:33:16 \u001b[0;34mPROGRESS \u001b[0m[]  30% ( 61/205) 1s/3s\u001b[K\u001b[0m\u001b[0G21:33:16 \u001b[0;34mPROGRESS \u001b[0m[]  30% ( 62/205) 1s/3s\u001b[K\u001b[0m\u001b[0G21:33:16 \u001b[0;34mPROGRESS \u001b[0m[]  31% ( 63/205) 1s/3s\u001b[K\u001b[0m\u001b[0G21:33:16 \u001b[0;34mPROGRESS \u001b[0m[]  31% ( 64/205) 1s/3s\u001b[K\u001b[0m\u001b[0G21:33:16 \u001b[0;34mPROGRESS \u001b[0m[]  32% ( 65/205) 1s/3s\u001b[K\u001b[0m\u001b[0G21:33:16 \u001b[0;34mPROGRESS \u001b[0m[]  32% ( 66/205) 1s/3s\u001b[K\u001b[0m\u001b[0G21:33:16 \u001b[0;34mPROGRESS \u001b[0m[]  33% ( 67/205) 1s/3s\u001b[K\u001b[0m\u001b[0G21:33:16 \u001b[0;34mPROGRESS \u001b[0m[]  33% ( 68/205) 1s/3s\u001b[K\u001b[0m\u001b[0G21:33:16 \u001b[0;34mPROGRESS \u001b[0m[]  34% ( 69/205) 1s/3s\u001b[K\u001b[0m\u001b[0G21:33:16 \u001b[0;34mPROGRESS \u001b[0m[]  34% ( 70/205) 1s/3s\u001b[K\u001b[0m\u001b[0G21:33:16 \u001b[0;34mPROGRESS \u001b[0m[]  35% ( 71/205) 1s/3s\u001b[K\u001b[0m\u001b[0G21:33:16 \u001b[0;34mPROGRESS \u001b[0m[]  35% ( 72/205) 1s/3s\u001b[K\u001b[0m\u001b[0G21:33:16 \u001b[0;34mPROGRESS \u001b[0m[]  36% ( 73/205) 1s/3s\u001b[K\u001b[0m\u001b[0G21:33:16 \u001b[0;34mPROGRESS \u001b[0m[]  36% ( 74/205) 1s/3s\u001b[K\u001b[0m\u001b[0G21:33:16 \u001b[0;34mPROGRESS \u001b[0m[]  37% ( 75/205) 1s/3s\u001b[K\u001b[0m\u001b[0G21:33:16 \u001b[0;34mPROGRESS \u001b[0m[]  37% ( 76/205) 1s/3s\u001b[K\u001b[0m\u001b[0G21:33:16 \u001b[0;34mPROGRESS \u001b[0m[]  38% ( 77/205) 1s/3s\u001b[K\u001b[0m\u001b[0G21:33:16 \u001b[0;34mPROGRESS \u001b[0m[]  38% ( 78/205) 1s/3s\u001b[K\u001b[0m\u001b[0G21:33:16 \u001b[0;34mPROGRESS \u001b[0m[]  39% ( 79/205) 1s/3s\u001b[K\u001b[0m\u001b[0G21:33:16 \u001b[0;34mPROGRESS \u001b[0m[]  39% ( 80/205) 1s/3s\u001b[K\u001b[0m\u001b[0G21:33:16 \u001b[0;34mPROGRESS \u001b[0m[]  40% ( 81/205) 1s/3s\u001b[K\u001b[0m\u001b[0G21:33:16 \u001b[0;34mPROGRESS \u001b[0m[]  40% ( 82/205) 1s/3s\u001b[K\u001b[0m\u001b[0G21:33:16 \u001b[0;34mPROGRESS \u001b[0m[]  40% ( 83/205) 1s/3s\u001b[K\u001b[0m\u001b[0G21:33:16 \u001b[0;34mPROGRESS \u001b[0m[]  41% ( 84/205) 1s/3s\u001b[K\u001b[0m\u001b[0G21:33:16 \u001b[0;34mPROGRESS \u001b[0m[]  41% ( 85/205) 1s/3s\u001b[K\u001b[0m\u001b[0G21:33:16 \u001b[0;34mPROGRESS \u001b[0m[]  42% ( 86/205) 1s/3s\u001b[K\u001b[0m\u001b[0G21:33:16 \u001b[0;34mPROGRESS \u001b[0m[]  42% ( 87/205) 1s/3s\u001b[K\u001b[0m\u001b[0G21:33:16 \u001b[0;34mPROGRESS \u001b[0m[]  43% ( 88/205) 1s/3s\u001b[K\u001b[0m\u001b[0G21:33:16 \u001b[0;34mPROGRESS \u001b[0m[]  43% ( 89/205) 1s/3s\u001b[K\u001b[0m\u001b[0G21:33:16 \u001b[0;34mPROGRESS \u001b[0m[]  44% ( 90/205) 1s/3s\u001b[K\u001b[0m\u001b[0G21:33:16 \u001b[0;34mPROGRESS \u001b[0m[]  44% ( 91/205) 1s/3s\u001b[K\u001b[0m\u001b[0G21:33:16 \u001b[0;34mPROGRESS \u001b[0m[]  45% ( 92/205) 1s/3s\u001b[K\u001b[0m\u001b[0G21:33:16 \u001b[0;34mPROGRESS \u001b[0m[]  45% ( 93/205) 1s/3s\u001b[K\u001b[0m\u001b[0G21:33:16 \u001b[0;34mPROGRESS \u001b[0m[]  46% ( 94/205) 1s/3s\u001b[K\u001b[0m\u001b[0G21:33:16 \u001b[0;34mPROGRESS \u001b[0m[]  46% ( 95/205) 1s/3s\u001b[K\u001b[0m\u001b[0G21:33:16 \u001b[0;34mPROGRESS \u001b[0m[]  47% ( 96/205) 1s/3s\u001b[K\u001b[0m\u001b[0G21:33:16 \u001b[0;34mPROGRESS \u001b[0m[]  47% ( 97/205) 1s/3s\u001b[K\u001b[0m\u001b[0G21:33:16 \u001b[0;34mPROGRESS \u001b[0m[]  48% ( 98/205) 1s/3s\u001b[K\u001b[0m\u001b[0G21:33:16 \u001b[0;34mPROGRESS \u001b[0m[]  48% ( 99/205) 1s/3s\u001b[K\u001b[0m\u001b[0G21:33:16 \u001b[0;34mPROGRESS \u001b[0m[]  49% (100/205) 1s/3s\u001b[K\u001b[0m\u001b[0G21:33:16 \u001b[0;34mPROGRESS \u001b[0m[]  49% (101/205) 1s/3s\u001b[K\u001b[0m\u001b[0G21:33:16 \u001b[0;34mPROGRESS \u001b[0m[]  50% (102/205) 1s/3s\u001b[K\u001b[0m\u001b[0G21:33:16 \u001b[0;34mPROGRESS \u001b[0m[]  50% (103/205) 1s/3s\u001b[K\u001b[0m\u001b[0G21:33:16 \u001b[0;34mPROGRESS \u001b[0m[]  51% (104/205) 1s/3s\u001b[K\u001b[0m\u001b[0G21:33:16 \u001b[0;34mPROGRESS \u001b[0m[]  51% (105/205) 1s/3s\u001b[K\u001b[0m\u001b[0G21:33:16 \u001b[0;34mPROGRESS \u001b[0m[]  52% (106/205) 1s/3s\u001b[K\u001b[0m\u001b[0G21:33:16 \u001b[0;34mPROGRESS \u001b[0m[]  52% (107/205) 1s/3s\u001b[K\u001b[0m\u001b[0G21:33:16 \u001b[0;34mPROGRESS \u001b[0m[]  53% (108/205) 1s/3s\u001b[K\u001b[0m\u001b[0G21:33:16 \u001b[0;34mPROGRESS \u001b[0m[]  53% (109/205) 1s/3s\u001b[K\u001b[0m\u001b[0G21:33:16 \u001b[0;34mPROGRESS \u001b[0m[]  54% (110/205) 1s/3s\u001b[K\u001b[0m\u001b[0G21:33:16 \u001b[0;34mPROGRESS \u001b[0m[]  54% (111/205) 1s/3s\u001b[K\u001b[0m\u001b[0G21:33:16 \u001b[0;34mPROGRESS \u001b[0m[]  55% (112/205) 1s/3s\u001b[K\u001b[0m\u001b[0G21:33:16 \u001b[0;34mPROGRESS \u001b[0m[]  55% (113/205) 1s/3s\u001b[K\u001b[0m\u001b[0G21:33:16 \u001b[0;34mPROGRESS \u001b[0m[]  56% (114/205) 1s/3s\u001b[K\u001b[0m\u001b[0G21:33:16 \u001b[0;34mPROGRESS \u001b[0m[]  56% (115/205) 1s/3s\u001b[K\u001b[0m\u001b[0G21:33:16 \u001b[0;34mPROGRESS \u001b[0m[]  57% (116/205) 1s/3s\u001b[K\u001b[0m\u001b[0G21:33:16 \u001b[0;34mPROGRESS \u001b[0m[]  57% (117/205) 1s/3s\u001b[K\u001b[0m\u001b[0G21:33:16 \u001b[0;34mPROGRESS \u001b[0m[]  58% (118/205) 1s/3s\u001b[K\u001b[0m\u001b[0G21:33:16 \u001b[0;34mPROGRESS \u001b[0m[]  58% (119/205) 1s/3s\u001b[K\u001b[0m\u001b[0G21:33:16 \u001b[0;34mPROGRESS \u001b[0m[]  59% (120/205) 1s/3s\u001b[K\u001b[0m\u001b[0G21:33:16 \u001b[0;34mPROGRESS \u001b[0m[]  59% (121/205) 1s/3s\u001b[K\u001b[0m\u001b[0G21:33:16 \u001b[0;34mPROGRESS \u001b[0m[]  60% (122/205) 1s/3s\u001b[K\u001b[0m\u001b[0G21:33:16 \u001b[0;34mPROGRESS \u001b[0m[]  60% (123/205) 1s/3s\u001b[K\u001b[0m\u001b[0G21:33:17 \u001b[0;34mPROGRESS \u001b[0m[]  60% (124/205) 1s/3s\u001b[K\u001b[0m\u001b[0G21:33:17 \u001b[0;34mPROGRESS \u001b[0m[]  61% (125/205) 1s/3s\u001b[K\u001b[0m\u001b[0G21:33:17 \u001b[0;34mPROGRESS \u001b[0m[]  61% (126/205) 1s/3s\u001b[K\u001b[0m\u001b[0G21:33:17 \u001b[0;34mPROGRESS \u001b[0m[]  62% (127/205) 1s/3s\u001b[K\u001b[0m\u001b[0G21:33:17 \u001b[0;34mPROGRESS \u001b[0m[]  62% (128/205) 1s/3s\u001b[K\u001b[0m\u001b[0G21:33:17 \u001b[0;34mPROGRESS \u001b[0m[]  63% (129/205) 1s/3s\u001b[K\u001b[0m\u001b[0G21:33:17 \u001b[0;34mPROGRESS \u001b[0m[]  63% (130/205) 1s/3s\u001b[K\u001b[0m\u001b[0G21:33:17 \u001b[0;34mPROGRESS \u001b[0m[]  64% (131/205) 1s/3s\u001b[K\u001b[0m\u001b[0G21:33:17 \u001b[0;34mPROGRESS \u001b[0m[]  64% (132/205) 1s/3s\u001b[K\u001b[0m\u001b[0G21:33:17 \u001b[0;34mPROGRESS \u001b[0m[]  65% (133/205) 1s/3s\u001b[K\u001b[0m\u001b[0G21:33:17 \u001b[0;34mPROGRESS \u001b[0m[]  65% (134/205) 1s/3s\u001b[K\u001b[0m\u001b[0G21:33:17 \u001b[0;34mPROGRESS \u001b[0m[]  66% (135/205) 1s/3s\u001b[K\u001b[0m\u001b[0G21:33:17 \u001b[0;34mPROGRESS \u001b[0m[]  66% (136/205) 2s/3s\u001b[K\u001b[0m\u001b[0G21:33:17 \u001b[0;34mPROGRESS \u001b[0m[]  67% (137/205) 2s/3s\u001b[K\u001b[0m\u001b[0G21:33:17 \u001b[0;34mPROGRESS \u001b[0m[]  67% (138/205) 2s/3s\u001b[K\u001b[0m\u001b[0G21:33:17 \u001b[0;34mPROGRESS \u001b[0m[]  68% (139/205) 2s/3s\u001b[K\u001b[0m\u001b[0G21:33:17 \u001b[0;34mPROGRESS \u001b[0m[]  68% (140/205) 2s/3s\u001b[K\u001b[0m\u001b[0G21:33:17 \u001b[0;34mPROGRESS \u001b[0m[]  69% (141/205) 2s/3s\u001b[K\u001b[0m\u001b[0G21:33:17 \u001b[0;34mPROGRESS \u001b[0m[]  69% (142/205) 2s/3s\u001b[K\u001b[0m\u001b[0G21:33:17 \u001b[0;34mPROGRESS \u001b[0m[]  70% (143/205) 2s/3s\u001b[K\u001b[0m\u001b[0G21:33:17 \u001b[0;34mPROGRESS \u001b[0m[]  70% (144/205) 2s/3s\u001b[K\u001b[0m\u001b[0G21:33:17 \u001b[0;34mPROGRESS \u001b[0m[]  71% (145/205) 2s/2s\u001b[K\u001b[0m\u001b[0G21:33:17 \u001b[0;34mPROGRESS \u001b[0m[]  71% (146/205) 2s/2s\u001b[K\u001b[0m\u001b[0G21:33:17 \u001b[0;34mPROGRESS \u001b[0m[]  72% (147/205) 2s/2s\u001b[K\u001b[0m\u001b[0G21:33:17 \u001b[0;34mPROGRESS \u001b[0m[]  72% (148/205) 2s/2s\u001b[K\u001b[0m\u001b[0G21:33:17 \u001b[0;34mPROGRESS \u001b[0m[]  73% (149/205) 2s/2s\u001b[K\u001b[0m\u001b[0G21:33:17 \u001b[0;34mPROGRESS \u001b[0m[]  73% (150/205) 2s/2s\u001b[K\u001b[0m\u001b[0G21:33:17 \u001b[0;34mPROGRESS \u001b[0m[]  74% (151/205) 2s/2s\u001b[K\u001b[0m\u001b[0G21:33:17 \u001b[0;34mPROGRESS \u001b[0m[]  74% (152/205) 2s/2s\u001b[K\u001b[0m\u001b[0G21:33:17 \u001b[0;34mPROGRESS \u001b[0m[]  75% (153/205) 2s/2s\u001b[K\u001b[0m\u001b[0G21:33:17 \u001b[0;34mPROGRESS \u001b[0m[]  75% (154/205) 2s/2s\u001b[K\u001b[0m\u001b[0G21:33:17 \u001b[0;34mPROGRESS \u001b[0m[]  76% (155/205) 2s/2s\u001b[K\u001b[0m\u001b[0G21:33:17 \u001b[0;34mPROGRESS \u001b[0m[]  76% (156/205) 2s/2s\u001b[K\u001b[0m\u001b[0G21:33:17 \u001b[0;34mPROGRESS \u001b[0m[]  77% (157/205) 2s/2s\u001b[K\u001b[0m\u001b[0G21:33:17 \u001b[0;34mPROGRESS \u001b[0m[]  77% (158/205) 2s/2s\u001b[K\u001b[0m\u001b[0G21:33:17 \u001b[0;34mPROGRESS \u001b[0m[]  78% (159/205) 2s/2s\u001b[K\u001b[0m\u001b[0G21:33:17 \u001b[0;34mPROGRESS \u001b[0m[]  78% (160/205) 2s/2s\u001b[K\u001b[0m\u001b[0G21:33:17 \u001b[0;34mPROGRESS \u001b[0m[]  79% (161/205) 2s/2s\u001b[K\u001b[0m\u001b[0G21:33:17 \u001b[0;34mPROGRESS \u001b[0m[]  79% (162/205) 2s/2s\u001b[K\u001b[0m\u001b[0G21:33:17 \u001b[0;34mPROGRESS \u001b[0m[]  80% (163/205) 2s/2s\u001b[K\u001b[0m\u001b[0G21:33:17 \u001b[0;34mPROGRESS \u001b[0m[]  80% (164/205) 2s/2s\u001b[K\u001b[0m\u001b[0G21:33:17 \u001b[0;34mPROGRESS \u001b[0m[]  80% (165/205) 2s/2s\u001b[K\u001b[0m\u001b[0G21:33:17 \u001b[0;34mPROGRESS \u001b[0m[]  81% (166/205) 2s/2s\u001b[K\u001b[0m\u001b[0G21:33:17 \u001b[0;34mPROGRESS \u001b[0m[]  81% (167/205) 2s/2s\u001b[K\u001b[0m\u001b[0G21:33:17 \u001b[0;34mPROGRESS \u001b[0m[]  82% (168/205) 2s/2s\u001b[K\u001b[0m\u001b[0G21:33:17 \u001b[0;34mPROGRESS \u001b[0m[]  82% (169/205) 2s/2s\u001b[K\u001b[0m\u001b[0G21:33:17 \u001b[0;34mPROGRESS \u001b[0m[]  83% (170/205) 2s/2s\u001b[K\u001b[0m\u001b[0G21:33:17 \u001b[0;34mPROGRESS \u001b[0m[]  83% (171/205) 2s/2s\u001b[K\u001b[0m\u001b[0G21:33:17 \u001b[0;34mPROGRESS \u001b[0m[]  84% (172/205) 2s/2s\u001b[K\u001b[0m\u001b[0G21:33:17 \u001b[0;34mPROGRESS \u001b[0m[]  84% (173/205) 2s/2s\u001b[K\u001b[0m\u001b[0G21:33:17 \u001b[0;34mPROGRESS \u001b[0m[]  85% (174/205) 2s/2s\u001b[K\u001b[0m\u001b[0G21:33:17 \u001b[0;34mPROGRESS \u001b[0m[]  85% (175/205) 2s/2s\u001b[K\u001b[0m\u001b[0G21:33:17 \u001b[0;34mPROGRESS \u001b[0m[]  86% (176/205) 2s/2s\u001b[K\u001b[0m\u001b[0G21:33:17 \u001b[0;34mPROGRESS \u001b[0m[]  86% (177/205) 2s/2s\u001b[K\u001b[0m\u001b[0G21:33:17 \u001b[0;34mPROGRESS \u001b[0m[]  87% (178/205) 2s/2s\u001b[K\u001b[0m\u001b[0G21:33:17 \u001b[0;34mPROGRESS \u001b[0m[]  87% (179/205) 2s/2s\u001b[K\u001b[0m\u001b[0G21:33:17 \u001b[0;34mPROGRESS \u001b[0m[]  88% (180/205) 2s/2s\u001b[K\u001b[0m\u001b[0G21:33:17 \u001b[0;34mPROGRESS \u001b[0m[]  88% (181/205) 2s/2s\u001b[K\u001b[0m\u001b[0G21:33:17 \u001b[0;34mPROGRESS \u001b[0m[]  89% (182/205) 2s/2s\u001b[K\u001b[0m\u001b[0G21:33:17 \u001b[0;34mPROGRESS \u001b[0m[]  89% (183/205) 2s/2s\u001b[K\u001b[0m\u001b[0G21:33:17 \u001b[0;34mPROGRESS \u001b[0m[]  90% (184/205) 2s/2s\u001b[K\u001b[0m\u001b[0G21:33:17 \u001b[0;34mPROGRESS \u001b[0m[]  90% (185/205) 2s/2s\u001b[K\u001b[0m\u001b[0G21:33:17 \u001b[0;34mPROGRESS \u001b[0m[]  91% (186/205) 2s/2s\u001b[K\u001b[0m\u001b[0G21:33:17 \u001b[0;34mPROGRESS \u001b[0m[]  91% (187/205) 2s/2s\u001b[K\u001b[0m\u001b[0G21:33:17 \u001b[0;34mPROGRESS \u001b[0m[]  92% (188/205) 2s/2s\u001b[K\u001b[0m\u001b[0G21:33:17 \u001b[0;34mPROGRESS \u001b[0m[]  92% (189/205) 2s/2s\u001b[K\u001b[0m\u001b[0G21:33:17 \u001b[0;34mPROGRESS \u001b[0m[]  93% (190/205) 2s/2s\u001b[K\u001b[0m\u001b[0G21:33:17 \u001b[0;34mPROGRESS \u001b[0m[]  93% (191/205) 2s/2s\u001b[K\u001b[0m\u001b[0G21:33:17 \u001b[0;34mPROGRESS \u001b[0m[]  94% (192/205) 2s/2s\u001b[K\u001b[0m\u001b[0G21:33:17 \u001b[0;34mPROGRESS \u001b[0m[]  94% (193/205) 2s/2s\u001b[K\u001b[0m\u001b[0G21:33:17 \u001b[0;34mPROGRESS \u001b[0m[]  95% (194/205) 2s/2s\u001b[K\u001b[0m\u001b[0G21:33:17 \u001b[0;34mPROGRESS \u001b[0m[]  95% (195/205) 2s/2s\u001b[K\u001b[0m\u001b[0G21:33:17 \u001b[0;34mPROGRESS \u001b[0m[]  96% (196/205) 2s/2s\u001b[K\u001b[0m\u001b[0G21:33:17 \u001b[0;34mPROGRESS \u001b[0m[]  96% (197/205) 2s/2s\u001b[K\u001b[0m\u001b[0G21:33:17 \u001b[0;34mPROGRESS \u001b[0m[]  97% (198/205) 2s/2s\u001b[K\u001b[0m\u001b[0G21:33:18 \u001b[0;34mPROGRESS \u001b[0m[]  97% (199/205) 2s/2s\u001b[K\u001b[0m\u001b[0G21:33:18 \u001b[0;34mPROGRESS \u001b[0m[]  98% (200/205) 2s/2s\u001b[K\u001b[0m\u001b[0G21:33:18 \u001b[0;34mPROGRESS \u001b[0m[]  98% (201/205) 2s/2s\u001b[K\u001b[0m\u001b[0G21:33:18 \u001b[0;34mPROGRESS \u001b[0m[]  99% (202/205) 2s/2s\u001b[K\u001b[0m\u001b[0G21:33:18 \u001b[0;34mPROGRESS \u001b[0m[]  99% (203/205) 2s/2s\u001b[K\u001b[0m\u001b[0G21:33:18 \u001b[0;34mPROGRESS \u001b[0m[] 100% (204/205) 2s/2s\u001b[K\u001b[0m\u001b[0G21:33:18 \u001b[0;34mPROGRESS \u001b[0m[] 100% (205/205) 2s/2s\u001b[K\u001b[0m\u001b[0G21:33:18 \u001b[0;32mSUCCESS  \u001b[0mLoaded 205 images after 2s\u001b[K\u001b[0m\n",
            "21:33:18 \u001b[0;36mINFO     \u001b[0m  cam_aabb=[min=[-3.89521,0.910919,-9.96949], max=[4.59911,1.32122,2.31278]]\u001b[K\u001b[0m\n",
            "Training:   0% 0/500 [00:00<?, ?steps/s]21:33:18 \u001b[0;36mINFO     \u001b[0mLoading network config from: /content/instant-ngp/configs/nerf/base.json\u001b[K\u001b[0m\n",
            "21:33:18 \u001b[0;36mINFO     \u001b[0mGridEncoding:  Nmin=16 b=2.97199 F=4 T=2^19 L=8\u001b[K\u001b[0m\n",
            "21:33:18 \u001b[0;36mINFO     \u001b[0mDensity model: 3--[HashGrid]-->32--[CutlassMLP(neurons=64,layers=3)]-->1\u001b[K\u001b[0m\n",
            "21:33:18 \u001b[0;36mINFO     \u001b[0mColor model:   3--[Composite]-->16+16--[CutlassMLP(neurons=64,layers=4)]-->3\u001b[K\u001b[0m\n",
            "21:33:18 \u001b[0;36mINFO     \u001b[0m  total_encoding_params=13041664 total_network_params=10240\u001b[K\u001b[0m\n",
            "Training:   0% 0/500 [00:00<?, ?steps/s]\n",
            "Traceback (most recent call last):\n",
            "  File \"/content/instant-ngp/./scripts/run.py\", line 184, in <module>\n",
            "    while testbed.frame():\n",
            "          ^^^^^^^^^^^^^^^\n",
            "RuntimeError: /content/instant-ngp/dependencies/tiny-cuda-nn/include/tiny-cuda-nn/cutlass_matmul.h:330 status failed with error Error Internal\n",
            "\u001b[0m"
          ]
        }
      ],
      "source": [
        "train_steps = 500  #@param {type:\"integer\"}\n",
        "snapshot_path = os.path.join(scene_path, f\"{train_steps}.ingp\")\n",
        "!python ./scripts/run.py {scene_path} --n_steps {train_steps} --save_snapshot {snapshot_path}"
      ]
    },
    {
      "cell_type": "code",
      "execution_count": null,
      "metadata": {
        "colab": {
          "base_uri": "https://localhost:8080/"
        },
        "id": "haTGL42V5kdr",
        "outputId": "cd254866-b7dc-4cc7-86d1-81116f2cdbb4"
      },
      "outputs": [
        {
          "name": "stdout",
          "output_type": "stream",
          "text": [
            "Starting training for 200 steps...\n",
            "Will save to: /content/drive/MyDrive/nerf_scenes/corridor_record3d/200.ingp\n"
          ]
        }
      ],
      "source": [
        "train_steps = 200  # Start smaller\n",
        "snapshot_path = os.path.join(scene_path, f\"{train_steps}.ingp\")\n",
        "\n",
        "print(f\"Starting training for {train_steps} steps...\")\n",
        "print(f\"Will save to: {snapshot_path}\")\n",
        "\n",
        "!pkill -f \"drive\"\n",
        "!pkill -f \"python3\"\n",
        "\n",
        "\n",
        "!python ./scripts/run.py {scene_path} \\\n",
        "  --n_steps {train_steps} \\\n",
        "  --save_snapshot {snapshot_path} \\\n",
        "  --train"
      ]
    },
    {
      "cell_type": "code",
      "execution_count": null,
      "metadata": {
        "id": "LRmxqiXl9ds6"
      },
      "outputs": [],
      "source": [
        "# Create a much smaller dataset\n",
        "import os\n",
        "import shutil\n",
        "\n",
        "# Create smaller dataset with every 5th image\n",
        "small_scene_path = scene_path + \"_tiny\"\n",
        "os.makedirs(f\"{small_scene_path}/rgbd\", exist_ok=True)\n",
        "\n",
        "# Copy transforms.json\n",
        "shutil.copy(f\"{scene_path}/transforms.json\", f\"{small_scene_path}/transforms.json\")\n",
        "\n",
        "# Copy only every 20th image to drastically reduce memory usage\n",
        "rgbd_files = sorted([f for f in os.listdir(f\"{scene_path}/rgbd\") if f.endswith('.jpg')])\n",
        "selected_files = rgbd_files[::5]  # Every 20th image\n",
        "\n",
        "for filename in selected_files:\n",
        "    base_name = filename.split('.')[0]\n",
        "    for ext in ['.jpg', '.depth', '.conf']:\n",
        "        src = f\"{scene_path}/rgbd/{base_name}{ext}\"\n",
        "        dst = f\"{small_scene_path}/rgbd/{base_name}{ext}\"\n",
        "        if os.path.exists(src):\n",
        "            shutil.copy(src, dst)\n",
        "\n",
        "print(f\"Created tiny dataset with {len(selected_files)} images (every 5th)\")\n",
        "\n",
        "# Train on tiny dataset\n",
        "train_steps = 500\n",
        "snapshot_path = os.path.join(small_scene_path, f\"{train_steps}.ingp\")\n",
        "!python ./scripts/run.py {small_scene_path} --n_steps {train_steps} --save_snapshot {snapshot_path}"
      ]
    },
    {
      "cell_type": "markdown",
      "metadata": {
        "id": "IEgWBkBk9E9L"
      },
      "source": [
        "Training is being killed by the Linux OOM (Out of Memory) killer due to cgroup memory limits. Colab has internal container memory limits that are being exceeded.  "
      ]
    },
    {
      "cell_type": "markdown",
      "source": [
        "The drive process (Google Drive mounting) is being killed, which suggests the training process is using too much memory and hitting Colab's internal limits."
      ],
      "metadata": {
        "id": "l7y-UChBU689"
      }
    },
    {
      "cell_type": "code",
      "execution_count": null,
      "metadata": {
        "id": "PQjpVMcB9LUL"
      },
      "outputs": [],
      "source": []
    },
    {
      "cell_type": "markdown",
      "metadata": {
        "id": "RWuAHgOw8M4s"
      },
      "source": [
        "## Generate a camera path (on local machine)\n",
        " open it in your local machine with `testbed` and generate a `base_cam.jon` file following these [instructions](https://github.com/NVlabs/instant-ngp#testbed-controls). Remember to launch with the `--no-train` argument so that it doesn't start to train on your PC. Setting up the cameras can make your GUI pretty laggy, you can try to play with the `--height` and `--width` parameters or cropping your scene with the `Crop aabb` options to optimize the performance.\n",
        "\n",
        "Example command:\n",
        "```\n",
        "./build/instant-ngp /data/nerf/fox/2000.ingp\n",
        "```\n",
        "\n",
        "After you're done, **upload `base_cam.json` to the root folder of your scene.**"
      ]
    },
    {
      "cell_type": "markdown",
      "metadata": {
        "id": "L5XVO_oi-riY"
      },
      "source": [
        "## Rendering video"
      ]
    },
    {
      "cell_type": "markdown",
      "metadata": {
        "id": "x_2t4NHHAvn5"
      },
      "source": [
        "Make sure `base_cam.json` exists:"
      ]
    },
    {
      "cell_type": "code",
      "execution_count": null,
      "metadata": {
        "id": "04Yt6prm_FJI"
      },
      "outputs": [],
      "source": [
        "video_camera_path = os.path.join(scene_path, \"base_cam.json\")\n",
        "if not os.path.isfile(video_camera_path):\n",
        "  raise FileNotFoundError(video_camera_path)"
      ]
    },
    {
      "cell_type": "markdown",
      "metadata": {
        "id": "xdFuUotyA0HV"
      },
      "source": [
        "Render the video"
      ]
    },
    {
      "cell_type": "code",
      "execution_count": null,
      "metadata": {
        "id": "d3XJeTeF1yJE"
      },
      "outputs": [],
      "source": [
        "video_n_seconds = 5 #@param {type:\"integer\"}\n",
        "video_fps = 25 #@param {type:\"integer\"}\n",
        "width = 720 #@param {type:\"integer\"}\n",
        "height = 720 #@param {type:\"integer\"}\n",
        "output_video_path = os.path.join(scene_path, \"output_video.mp4\")\n",
        "\n",
        "!python scripts/run.py {snapshot_path} --video_camera_path {video_camera_path} --video_n_seconds 2 --video_fps 25 --width 720 --height 720 --video_output {output_video_path}\n",
        "print(f\"Generated video saved to:\\n{output_video_path}\")"
      ]
    }
  ],
  "metadata": {
    "accelerator": "GPU",
    "colab": {
      "provenance": []
    },
    "kernelspec": {
      "display_name": "Python 3",
      "language": "python",
      "name": "python3"
    },
    "language_info": {
      "name": "python",
      "version": "3.9.7 (tags/v3.9.7:1016ef3, Aug 30 2021, 20:19:38) [MSC v.1929 64 bit (AMD64)]"
    },
    "vscode": {
      "interpreter": {
        "hash": "76392a4a51364e66be8d9e8c24551b51109eb4003b2256c2b9df7166893b45c1"
      }
    }
  },
  "nbformat": 4,
  "nbformat_minor": 0
}