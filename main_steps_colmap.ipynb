{
 "cells": [
  {
   "cell_type": "markdown",
   "id": "927cecc7f3f63c81",
   "metadata": {
    "collapsed": false,
    "jupyter": {
     "outputs_hidden": false
    }
   },
   "source": [
    "This notebook provides an automated end-to-end pipeline for creating a 3D reconstruction from images using [COLMAP](https://colmap.github.io/)."
   ]
  },
  {
   "cell_type": "markdown",
   "id": "2af1a93d39e77c52",
   "metadata": {
    "collapsed": false,
    "jupyter": {
     "outputs_hidden": false
    }
   },
   "source": [
    "#### If you are using Ubuntu or have sudo access"
   ]
  },
  {
   "cell_type": "code",
   "execution_count": null,
   "id": "78f167b54e28d138",
   "metadata": {
    "collapsed": false,
    "jupyter": {
     "outputs_hidden": false
    }
   },
   "outputs": [],
   "source": [
    "!sudo apt update\n",
    "!sudo apt install colmap -y"
   ]
  },
  {
   "cell_type": "markdown",
   "id": "8ec9a0541c92c557",
   "metadata": {
    "collapsed": false,
    "jupyter": {
     "outputs_hidden": false
    }
   },
   "source": [
    "#### For mac users"
   ]
  },
  {
   "cell_type": "code",
   "execution_count": null,
   "id": "cdfd45394b229c72",
   "metadata": {
    "collapsed": false,
    "jupyter": {
     "outputs_hidden": false
    }
   },
   "outputs": [],
   "source": [
    "brew install colmap"
   ]
  },
  {
   "cell_type": "markdown",
   "id": "362d848c1834243",
   "metadata": {
    "collapsed": false,
    "jupyter": {
     "outputs_hidden": false
    }
   },
   "source": [
    "#### Main project folder"
   ]
  },
  {
   "cell_type": "code",
   "execution_count": null,
   "id": "45509f1ee8e2e8e3",
   "metadata": {
    "collapsed": false,
    "jupyter": {
     "outputs_hidden": false
    }
   },
   "outputs": [],
   "source": [
    "!mkdir -p ~/sewer_reconstruction"
   ]
  },
  {
   "cell_type": "markdown",
   "id": "28986f4183b305c2",
   "metadata": {
    "collapsed": false,
    "jupyter": {
     "outputs_hidden": false
    }
   },
   "source": [
    "#### Images folder where the images should be inputted"
   ]
  },
  {
   "cell_type": "code",
   "execution_count": null,
   "id": "69fb9292747e63f8",
   "metadata": {
    "collapsed": false,
    "jupyter": {
     "outputs_hidden": false
    }
   },
   "outputs": [],
   "source": [
    "! mkdir -p ~/sewer_reconstruction/images"
   ]
  },
  {
   "cell_type": "markdown",
   "id": "b370d3a807833b01",
   "metadata": {
    "collapsed": false,
    "jupyter": {
     "outputs_hidden": false
    }
   },
   "source": [
    "#### Feature Matching - Exhaustive matcher"
   ]
  },
  {
   "cell_type": "code",
   "execution_count": null,
   "id": "e09a7863b7300e0d",
   "metadata": {
    "collapsed": false,
    "jupyter": {
     "outputs_hidden": false
    }
   },
   "outputs": [],
   "source": [
    "!colmap exhaustive_matcher \\\n",
    "    --database_path ~/sewer_reconstruction/database.db \\\n",
    "    --SiftMatching.use_gpu 1"
   ]
  },
  {
   "cell_type": "markdown",
   "id": "c1c616dcadb2ca34",
   "metadata": {
    "collapsed": false,
    "jupyter": {
     "outputs_hidden": false
    }
   },
   "source": [
    "#### Folder for Sparse reconstruction"
   ]
  },
  {
   "cell_type": "code",
   "execution_count": null,
   "id": "bd83ef1d1e2c018c",
   "metadata": {
    "collapsed": false,
    "jupyter": {
     "outputs_hidden": false
    }
   },
   "outputs": [],
   "source": [
    "!mkdir -p ~/sewer_reconstruction/sparse"
   ]
  },
  {
   "cell_type": "markdown",
   "id": "5593a1beb2a1602c",
   "metadata": {
    "collapsed": false,
    "jupyter": {
     "outputs_hidden": false
    }
   },
   "source": [
    "#### Sparse Reconstruction or Mapping"
   ]
  },
  {
   "cell_type": "code",
   "execution_count": null,
   "id": "82e1162530f79b42",
   "metadata": {
    "collapsed": false,
    "jupyter": {
     "outputs_hidden": false
    }
   },
   "outputs": [],
   "source": [
    "!colmap mapper \\\n",
    "    --database_path ~/sewer_reconstruction/database.db \\\n",
    "    --image_path ~/sewer_reconstruction/images \\\n",
    "    --output_path ~/sewer_reconstruction/sparse \\\n",
    "    --Mapper.num_threads 8"
   ]
  },
  {
   "cell_type": "markdown",
   "id": "43cad78d9a44cf0e",
   "metadata": {
    "collapsed": false,
    "jupyter": {
     "outputs_hidden": false
    }
   },
   "source": [
    "#### Dense reconstruction folder"
   ]
  },
  {
   "cell_type": "code",
   "execution_count": null,
   "id": "a4196a709aabd01e",
   "metadata": {
    "collapsed": false,
    "jupyter": {
     "outputs_hidden": false
    }
   },
   "outputs": [],
   "source": [
    " !mkdir -p ~/sewer_reconstruction/dense"
   ]
  },
  {
   "cell_type": "markdown",
   "id": "b77267c33571e806",
   "metadata": {
    "collapsed": false,
    "jupyter": {
     "outputs_hidden": false
    }
   },
   "source": [
    "#### Undistort images"
   ]
  },
  {
   "cell_type": "code",
   "execution_count": null,
   "id": "9d17ae45de3f70d5",
   "metadata": {
    "collapsed": false,
    "jupyter": {
     "outputs_hidden": false
    }
   },
   "outputs": [],
   "source": [
    "!colmap image_undistorter \\\n",
    "    --image_path ~/sewer_reconstruction/images \\\n",
    "    --input_path ~/sewer_reconstruction/sparse/0 \\\n",
    "    --output_path ~/sewer_reconstruction/dense \\\n",
    "    --output_type COLMAP"
   ]
  },
  {
   "cell_type": "markdown",
   "id": "95890ca02209bcdd",
   "metadata": {
    "collapsed": false,
    "jupyter": {
     "outputs_hidden": false
    }
   },
   "source": [
    "#### Dense stereo matching"
   ]
  },
  {
   "cell_type": "code",
   "execution_count": null,
   "id": "47f6d89c2aacd9d1",
   "metadata": {
    "collapsed": false,
    "jupyter": {
     "outputs_hidden": false
    }
   },
   "outputs": [],
   "source": [
    "!colmap patch_match_stereo \\\n",
    "    --workspace_path ~/sewer_reconstruction/dense \\\n",
    "    --workspace_format COLMAP \\\n",
    "    --PatchMatchStereo.geom_consistency true"
   ]
  },
  {
   "cell_type": "markdown",
   "id": "2017d60a9beeda7f",
   "metadata": {
    "collapsed": false,
    "jupyter": {
     "outputs_hidden": false
    }
   },
   "source": [
    "#### Stereo fusion - point cloud"
   ]
  },
  {
   "cell_type": "code",
   "execution_count": null,
   "id": "3c24f0c6836f98ae",
   "metadata": {
    "collapsed": false,
    "jupyter": {
     "outputs_hidden": false
    }
   },
   "outputs": [],
   "source": [
    "!colmap stereo_fusion \\\n",
    "    --workspace_path ~/sewer_reconstruction/dense \\\n",
    "    --workspace_format COLMAP \\\n",
    "    --input_type geometric \\\n",
    "    --output_path ~/sewer_reconstruction/dense/fused.ply"
   ]
  },
  {
   "cell_type": "markdown",
   "id": "a3cf0e1b3ebf08",
   "metadata": {
    "collapsed": false,
    "jupyter": {
     "outputs_hidden": false
    }
   },
   "source": [
    "#### Mesh reconstruction or Poisson Meshing"
   ]
  },
  {
   "cell_type": "code",
   "execution_count": null,
   "id": "7f5c01e1fbc0cfc1",
   "metadata": {
    "collapsed": false,
    "jupyter": {
     "outputs_hidden": false
    }
   },
   "outputs": [],
   "source": [
    "!colmap poisson_mesher \\\n",
    "    --input_path ~/sewer_reconstruction/dense/fused.ply \\\n",
    "    --output_path ~/sewer_reconstruction/dense/poisson_mesh.ply"
   ]
  }
 ],
 "metadata": {
  "kernelspec": {
   "display_name": "Python 3 (ipykernel)",
   "language": "python",
   "name": "python3"
  },
  "language_info": {
   "codemirror_mode": {
    "name": "ipython",
    "version": 3
   },
   "file_extension": ".py",
   "mimetype": "text/x-python",
   "name": "python",
   "nbconvert_exporter": "python",
   "pygments_lexer": "ipython3",
   "version": "3.12.2"
  }
 },
 "nbformat": 4,
 "nbformat_minor": 5
}
